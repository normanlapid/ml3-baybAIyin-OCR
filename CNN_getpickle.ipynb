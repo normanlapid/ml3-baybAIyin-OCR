{
 "cells": [
  {
   "cell_type": "code",
   "execution_count": 1,
   "id": "13b88ba2",
   "metadata": {
    "ExecuteTime": {
     "end_time": "2022-03-11T12:53:04.212902Z",
     "start_time": "2022-03-11T12:53:04.207264Z"
    }
   },
   "outputs": [],
   "source": [
    "# !pip install opencv-python"
   ]
  },
  {
   "cell_type": "code",
   "execution_count": 2,
   "id": "b2842bb0",
   "metadata": {
    "ExecuteTime": {
     "end_time": "2022-03-11T12:53:14.492080Z",
     "start_time": "2022-03-11T12:53:04.215381Z"
    }
   },
   "outputs": [
    {
     "name": "stderr",
     "output_type": "stream",
     "text": [
      "Matplotlib created a temporary config/cache directory at /tmp/matplotlib-c0u_u90e because the default path (/home/nlapid/.cache/matplotlib) is not a writable directory; it is highly recommended to set the MPLCONFIGDIR environment variable to a writable directory, in particular to speed up the import of Matplotlib and to better support multiprocessing.\n"
     ]
    }
   ],
   "source": [
    "import os\n",
    "# os.environ['TF_CPP_MIN_LOG_LEVEL'] = '2' \n",
    "from pathlib import Path\n",
    "\n",
    "from tqdm import tqdm\n",
    "import numpy as np \n",
    "import pandas as pd \n",
    "import seaborn as sns\n",
    "import matplotlib.pyplot as plt\n",
    "%matplotlib inline\n",
    "\n",
    "import pickle\n",
    "import random\n",
    "import gc\n",
    "import cv2\n",
    "\n",
    "import tensorflow as tf\n",
    "# tf.get_logger().setLevel('ERROR')\n",
    "# tf.autograph.set_verbosity(2)\n",
    "from tensorflow.keras import models, layers, optimizers, applications\n",
    "from tensorflow.keras.preprocessing import image\n",
    "from tensorflow.keras.preprocessing.image import ImageDataGenerator\n",
    "from tensorflow.keras.callbacks import ModelCheckpoint, EarlyStopping, ReduceLROnPlateau\n",
    "from tensorflow.keras.optimizers import Adam"
   ]
  },
  {
   "cell_type": "markdown",
   "id": "ab1abe07",
   "metadata": {},
   "source": [
    "## Preparing the Dataset and Setting Parameters"
   ]
  },
  {
   "cell_type": "code",
   "execution_count": 3,
   "id": "70ea808d",
   "metadata": {
    "ExecuteTime": {
     "end_time": "2022-03-11T12:53:14.502230Z",
     "start_time": "2022-03-11T12:53:14.496057Z"
    }
   },
   "outputs": [],
   "source": [
    "seed = 143\n",
    "random.seed(seed)\n",
    "np.random.seed(seed)\n",
    "os.environ['PYTHONHASHSEED'] = str(seed)\n",
    "tf.random.set_seed(seed)"
   ]
  },
  {
   "cell_type": "code",
   "execution_count": 4,
   "id": "69cbbbb3",
   "metadata": {
    "ExecuteTime": {
     "end_time": "2022-03-11T12:53:14.897575Z",
     "start_time": "2022-03-11T12:53:14.504129Z"
    }
   },
   "outputs": [
    {
     "name": "stdout",
     "output_type": "stream",
     "text": [
      "Number of images found:  38398\n",
      "Number of labels found:  19\n",
      "Labels:\n",
      "['a', 'ba', 'dara', 'ei', 'ga', 'ha', 'ka', 'kuw', 'la', 'ma', 'na', 'nga', 'ou', 'pa', 'sa', 'ta', 'tul', 'wa', 'ya']\n"
     ]
    }
   ],
   "source": [
    "data_dir = './raw/'\n",
    "save_dir = './savefiles/'\n",
    "size = 64\n",
    "epochs = 30\n",
    "val_split = 0.25\n",
    "\n",
    "batch_size = 32\n",
    "\n",
    "data_path = Path(data_dir)\n",
    "images = sorted(list(map(str, list(data_path.glob(\"*/*.jpg\")))))\n",
    "labels = set([img.split(os.path.sep)[-2] for img in images])\n",
    "num_labels = len(labels)\n",
    "\n",
    "steps_per_epoch = len(images) * (1 - val_split) / batch_size\n",
    "validation_steps = len(images) * val_split / batch_size\n",
    "\n",
    "print(\"Number of images found: \", len(images))\n",
    "print(\"Number of labels found: \", num_labels)\n",
    "print(\"Labels:\", sorted(labels))"
   ]
  },
  {
   "cell_type": "code",
   "execution_count": 5,
   "id": "9deecf95",
   "metadata": {
    "ExecuteTime": {
     "end_time": "2022-03-11T12:53:14.903405Z",
     "start_time": "2022-03-11T12:53:14.900241Z"
    }
   },
   "outputs": [],
   "source": [
    "# !ls raw"
   ]
  },
  {
   "cell_type": "code",
   "execution_count": 6,
   "id": "8969512a",
   "metadata": {
    "ExecuteTime": {
     "end_time": "2022-03-11T12:53:14.911152Z",
     "start_time": "2022-03-11T12:53:14.904968Z"
    }
   },
   "outputs": [],
   "source": [
    "# Check dimensions of a sample image\n",
    "\n",
    "# img = cv2.imread(data_dir + 'a/a_00553_file087.jpg')\n",
    "# dimensions = img.shape\n",
    "# dimensions"
   ]
  },
  {
   "cell_type": "code",
   "execution_count": 7,
   "id": "e879c36a",
   "metadata": {
    "ExecuteTime": {
     "end_time": "2022-03-11T12:53:17.917502Z",
     "start_time": "2022-03-11T12:53:14.912571Z"
    }
   },
   "outputs": [
    {
     "name": "stdout",
     "output_type": "stream",
     "text": [
      "Found 28806 images belonging to 19 classes.\n",
      "Found 9592 images belonging to 19 classes.\n"
     ]
    }
   ],
   "source": [
    "# Augmentation\n",
    "train_datagen = ImageDataGenerator(rescale=1./255,\n",
    "                                   validation_split=val_split,\n",
    "                                   preprocessing_function=None,\n",
    "                                   rotation_range=20,\n",
    "                                   width_shift_range=0.2,\n",
    "                                   height_shift_range=0.2,\n",
    "                                   brightness_range=[0.7, 1.3],\n",
    "                                   shear_range=0.2,\n",
    "                                   zoom_range=0.2,\n",
    "                                   channel_shift_range=0.7,\n",
    "                                   horizontal_flip=False,\n",
    "                                   vertical_flip=False,)\n",
    "\n",
    "val_datagen = ImageDataGenerator(rescale=1./255,\n",
    "                                 validation_split=val_split)\n",
    "\n",
    "\n",
    "# Load data and turn into batches\n",
    "train_data = train_datagen.flow_from_directory(data_dir,\n",
    "                                               subset=\"training\",\n",
    "                                               target_size=(size, size),\n",
    "                                               batch_size=batch_size,\n",
    "                                               class_mode=\"categorical\",\n",
    "                                               seed=seed)\n",
    "\n",
    "val_data = val_datagen.flow_from_directory(data_dir,\n",
    "                                           subset=\"validation\",\n",
    "                                           target_size=(size, size),\n",
    "                                           batch_size=batch_size,\n",
    "                                           class_mode=\"categorical\",\n",
    "                                           seed=seed)"
   ]
  },
  {
   "cell_type": "code",
   "execution_count": 28,
   "id": "4e72bd16",
   "metadata": {
    "ExecuteTime": {
     "end_time": "2022-03-11T13:59:44.834458Z",
     "start_time": "2022-03-11T13:59:40.959798Z"
    }
   },
   "outputs": [
    {
     "name": "stdout",
     "output_type": "stream",
     "text": [
      "Found 28806 images belonging to 19 classes.\n",
      "Found 9592 images belonging to 19 classes.\n"
     ]
    }
   ],
   "source": [
    "# For Keras Models (VGG16, Inception)\n",
    "\n",
    "keras_train_datagen = ImageDataGenerator(validation_split=val_split,\n",
    "                                   preprocessing_function=None,\n",
    "                                   rotation_range=20,\n",
    "                                   width_shift_range=0.2,\n",
    "                                   height_shift_range=0.2,\n",
    "                                   brightness_range=[0.7, 1.3],\n",
    "                                   shear_range=0.2,\n",
    "                                   zoom_range=0.2,\n",
    "                                   channel_shift_range=0.7,\n",
    "                                   horizontal_flip=False,\n",
    "                                   vertical_flip=False,)\n",
    "\n",
    "keras_val_datagen = ImageDataGenerator(validation_split=val_split)\n",
    "\n",
    "\n",
    "# Load data and turn into batches\n",
    "keras_train_data = keras_train_datagen.flow_from_directory(data_dir,\n",
    "                                               subset=\"training\",\n",
    "                                               target_size=(size, size),\n",
    "                                               batch_size=batch_size,\n",
    "                                               class_mode=\"categorical\",\n",
    "                                               seed=seed)\n",
    "\n",
    "keras_val_data = keras_val_datagen.flow_from_directory(data_dir,\n",
    "                                           subset=\"validation\",\n",
    "                                           target_size=(size, size),\n",
    "                                           batch_size=batch_size,\n",
    "                                           class_mode=\"categorical\",\n",
    "                                           seed=seed)"
   ]
  },
  {
   "cell_type": "code",
   "execution_count": 8,
   "id": "016a321d",
   "metadata": {
    "ExecuteTime": {
     "end_time": "2022-03-11T12:53:17.930413Z",
     "start_time": "2022-03-11T12:53:17.919959Z"
    }
   },
   "outputs": [
    {
     "data": {
      "text/plain": [
       "19"
      ]
     },
     "execution_count": 8,
     "metadata": {},
     "output_type": "execute_result"
    }
   ],
   "source": [
    "len(set(train_data.labels))"
   ]
  },
  {
   "cell_type": "markdown",
   "id": "d3a03177",
   "metadata": {},
   "source": [
    "## Models"
   ]
  },
  {
   "cell_type": "markdown",
   "id": "9a828047",
   "metadata": {},
   "source": [
    "### CNN"
   ]
  },
  {
   "cell_type": "code",
   "execution_count": 63,
   "id": "5d8745db",
   "metadata": {
    "ExecuteTime": {
     "end_time": "2022-03-11T14:43:19.402334Z",
     "start_time": "2022-03-11T14:43:19.031318Z"
    }
   },
   "outputs": [
    {
     "data": {
      "text/plain": [
       "16849"
      ]
     },
     "execution_count": 63,
     "metadata": {},
     "output_type": "execute_result"
    }
   ],
   "source": [
    "tf.keras.backend.clear_session()\n",
    "gc.collect()"
   ]
  },
  {
   "cell_type": "code",
   "execution_count": 64,
   "id": "261b4df4",
   "metadata": {
    "ExecuteTime": {
     "end_time": "2022-03-11T14:43:19.495501Z",
     "start_time": "2022-03-11T14:43:19.404224Z"
    }
   },
   "outputs": [
    {
     "name": "stdout",
     "output_type": "stream",
     "text": [
      "Model: \"sequential\"\n",
      "_________________________________________________________________\n",
      "Layer (type)                 Output Shape              Param #   \n",
      "=================================================================\n",
      "conv2d (Conv2D)              (None, 64, 64, 4)         112       \n",
      "_________________________________________________________________\n",
      "batch_normalization (BatchNo (None, 64, 64, 4)         16        \n",
      "_________________________________________________________________\n",
      "activation (Activation)      (None, 64, 64, 4)         0         \n",
      "_________________________________________________________________\n",
      "max_pooling2d (MaxPooling2D) (None, 32, 32, 4)         0         \n",
      "_________________________________________________________________\n",
      "conv2d_1 (Conv2D)            (None, 32, 32, 4)         148       \n",
      "_________________________________________________________________\n",
      "max_pooling2d_1 (MaxPooling2 (None, 10, 10, 4)         0         \n",
      "_________________________________________________________________\n",
      "flatten (Flatten)            (None, 400)               0         \n",
      "_________________________________________________________________\n",
      "dense (Dense)                (None, 32)                12832     \n",
      "_________________________________________________________________\n",
      "dropout (Dropout)            (None, 32)                0         \n",
      "_________________________________________________________________\n",
      "dense_1 (Dense)              (None, 19)                627       \n",
      "=================================================================\n",
      "Total params: 13,735\n",
      "Trainable params: 13,727\n",
      "Non-trainable params: 8\n",
      "_________________________________________________________________\n"
     ]
    }
   ],
   "source": [
    "base_cnn = models.Sequential()\n",
    "\n",
    "base_cnn.add(layers.Conv2D(filters=4, kernel_size=3, strides=1, padding='same',\n",
    "                 input_shape=(size, size, 3)))\n",
    "base_cnn.add(layers.BatchNormalization(axis=3))\n",
    "base_cnn.add(layers.Activation('relu'))\n",
    "base_cnn.add(layers.MaxPooling2D(pool_size=(2, 2)))\n",
    "\n",
    "base_cnn.add(layers.Conv2D(filters=4, kernel_size=3, strides=1, padding='same',\n",
    "                        activation='relu'))\n",
    "base_cnn.add(layers.MaxPooling2D(pool_size=(3, 3)))\n",
    "\n",
    "base_cnn.add(layers.Flatten())\n",
    "base_cnn.add(layers.Dense(32, activation=\"relu\"))\n",
    "base_cnn.add(layers.Dropout(0.6))\n",
    "\n",
    "base_cnn.add(layers.Dense(num_labels, activation='softmax'))\n",
    "base_cnn.summary()\n",
    "\n",
    "\n",
    "base_cnn.compile(loss='categorical_crossentropy',\n",
    "                 optimizer=optimizers.Adam(learning_rate=0.001),\n",
    "                 metrics=['accuracy'])"
   ]
  },
  {
   "cell_type": "code",
   "execution_count": 65,
   "id": "022cd852",
   "metadata": {
    "ExecuteTime": {
     "end_time": "2022-03-11T15:29:37.767881Z",
     "start_time": "2022-03-11T14:43:19.498198Z"
    }
   },
   "outputs": [
    {
     "name": "stdout",
     "output_type": "stream",
     "text": [
      "Epoch 1/30\n",
      "899/899 [==============================] - 117s 130ms/step - loss: 2.6534 - accuracy: 0.1702 - val_loss: 1.4708 - val_accuracy: 0.6272\n",
      "\n",
      "Epoch 00001: val_accuracy improved from -inf to 0.62719, saving model to ./savefiles/base_cnn_wts.hdf5\n",
      "Epoch 2/30\n",
      "899/899 [==============================] - 117s 130ms/step - loss: 2.1704 - accuracy: 0.3105 - val_loss: 1.0643 - val_accuracy: 0.7681\n",
      "\n",
      "Epoch 00002: val_accuracy improved from 0.62719 to 0.76814, saving model to ./savefiles/base_cnn_wts.hdf5\n",
      "Epoch 3/30\n",
      "899/899 [==============================] - 117s 130ms/step - loss: 1.9710 - accuracy: 0.3675 - val_loss: 0.8629 - val_accuracy: 0.7809\n",
      "\n",
      "Epoch 00003: val_accuracy improved from 0.76814 to 0.78086, saving model to ./savefiles/base_cnn_wts.hdf5\n",
      "Epoch 4/30\n",
      "899/899 [==============================] - 113s 126ms/step - loss: 1.8641 - accuracy: 0.3997 - val_loss: 0.8034 - val_accuracy: 0.7837\n",
      "\n",
      "Epoch 00004: val_accuracy improved from 0.78086 to 0.78367, saving model to ./savefiles/base_cnn_wts.hdf5\n",
      "Epoch 5/30\n",
      "899/899 [==============================] - 116s 129ms/step - loss: 1.8006 - accuracy: 0.4129 - val_loss: 0.7147 - val_accuracy: 0.8092\n",
      "\n",
      "Epoch 00005: val_accuracy improved from 0.78367 to 0.80922, saving model to ./savefiles/base_cnn_wts.hdf5\n",
      "Epoch 6/30\n",
      "899/899 [==============================] - 118s 131ms/step - loss: 1.7645 - accuracy: 0.4306 - val_loss: 0.7108 - val_accuracy: 0.8026\n",
      "\n",
      "Epoch 00006: val_accuracy did not improve from 0.80922\n",
      "Epoch 7/30\n",
      "899/899 [==============================] - 111s 123ms/step - loss: 1.7336 - accuracy: 0.4334 - val_loss: 0.7408 - val_accuracy: 0.7903\n",
      "\n",
      "Epoch 00007: val_accuracy did not improve from 0.80922\n",
      "Epoch 8/30\n",
      "899/899 [==============================] - 116s 129ms/step - loss: 1.7075 - accuracy: 0.4469 - val_loss: 0.6687 - val_accuracy: 0.8039\n",
      "\n",
      "Epoch 00008: val_accuracy did not improve from 0.80922\n",
      "Epoch 9/30\n",
      "899/899 [==============================] - 121s 135ms/step - loss: 1.6881 - accuracy: 0.4507 - val_loss: 0.6626 - val_accuracy: 0.8094\n",
      "\n",
      "Epoch 00009: val_accuracy improved from 0.80922 to 0.80942, saving model to ./savefiles/base_cnn_wts.hdf5\n",
      "Epoch 10/30\n",
      "899/899 [==============================] - 119s 132ms/step - loss: 1.6772 - accuracy: 0.4519 - val_loss: 0.7013 - val_accuracy: 0.8031\n",
      "\n",
      "Epoch 00010: val_accuracy did not improve from 0.80942\n",
      "Epoch 11/30\n",
      "899/899 [==============================] - 117s 130ms/step - loss: 1.6558 - accuracy: 0.4600 - val_loss: 0.6787 - val_accuracy: 0.8122\n",
      "\n",
      "Epoch 00011: val_accuracy improved from 0.80942 to 0.81224, saving model to ./savefiles/base_cnn_wts.hdf5\n",
      "\n",
      "Epoch 00011: ReduceLROnPlateau reducing learning rate to 0.00020000000949949026.\n",
      "Epoch 12/30\n",
      "899/899 [==============================] - 118s 131ms/step - loss: 1.6194 - accuracy: 0.4773 - val_loss: 0.6414 - val_accuracy: 0.8161\n",
      "\n",
      "Epoch 00012: val_accuracy improved from 0.81224 to 0.81610, saving model to ./savefiles/base_cnn_wts.hdf5\n",
      "Epoch 13/30\n",
      "899/899 [==============================] - 116s 128ms/step - loss: 1.6187 - accuracy: 0.4743 - val_loss: 0.6151 - val_accuracy: 0.8266\n",
      "\n",
      "Epoch 00013: val_accuracy improved from 0.81610 to 0.82663, saving model to ./savefiles/base_cnn_wts.hdf5\n",
      "Epoch 14/30\n",
      "899/899 [==============================] - 116s 129ms/step - loss: 1.6072 - accuracy: 0.4778 - val_loss: 0.6119 - val_accuracy: 0.8301\n",
      "\n",
      "Epoch 00014: val_accuracy improved from 0.82663 to 0.83007, saving model to ./savefiles/base_cnn_wts.hdf5\n",
      "Epoch 15/30\n",
      "899/899 [==============================] - 116s 129ms/step - loss: 1.6018 - accuracy: 0.4780 - val_loss: 0.6176 - val_accuracy: 0.8301\n",
      "\n",
      "Epoch 00015: val_accuracy did not improve from 0.83007\n",
      "Epoch 16/30\n",
      "899/899 [==============================] - 114s 126ms/step - loss: 1.6072 - accuracy: 0.4763 - val_loss: 0.6185 - val_accuracy: 0.8273\n",
      "\n",
      "Epoch 00016: val_accuracy did not improve from 0.83007\n",
      "\n",
      "Epoch 00016: ReduceLROnPlateau reducing learning rate to 4.0000001899898055e-05.\n",
      "Epoch 17/30\n",
      "899/899 [==============================] - 112s 125ms/step - loss: 1.5905 - accuracy: 0.4790 - val_loss: 0.6117 - val_accuracy: 0.8296\n",
      "\n",
      "Epoch 00017: val_accuracy did not improve from 0.83007\n",
      "Epoch 18/30\n",
      "899/899 [==============================] - 114s 127ms/step - loss: 1.5924 - accuracy: 0.4798 - val_loss: 0.6175 - val_accuracy: 0.8264\n",
      "\n",
      "Epoch 00018: val_accuracy did not improve from 0.83007\n",
      "Epoch 19/30\n",
      "899/899 [==============================] - 116s 129ms/step - loss: 1.5783 - accuracy: 0.4853 - val_loss: 0.6067 - val_accuracy: 0.8314\n",
      "\n",
      "Epoch 00019: val_accuracy improved from 0.83007 to 0.83142, saving model to ./savefiles/base_cnn_wts.hdf5\n",
      "Epoch 20/30\n",
      "899/899 [==============================] - 116s 129ms/step - loss: 1.5891 - accuracy: 0.4831 - val_loss: 0.6028 - val_accuracy: 0.8313\n",
      "\n",
      "Epoch 00020: val_accuracy did not improve from 0.83142\n",
      "Epoch 21/30\n",
      "899/899 [==============================] - 113s 126ms/step - loss: 1.5958 - accuracy: 0.4788 - val_loss: 0.6123 - val_accuracy: 0.8308\n",
      "\n",
      "Epoch 00021: val_accuracy did not improve from 0.83142\n",
      "Epoch 22/30\n",
      "899/899 [==============================] - 117s 130ms/step - loss: 1.5903 - accuracy: 0.4796 - val_loss: 0.6064 - val_accuracy: 0.8313\n",
      "\n",
      "Epoch 00022: val_accuracy did not improve from 0.83142\n",
      "\n",
      "Epoch 00022: ReduceLROnPlateau reducing learning rate to 1e-05.\n",
      "Epoch 23/30\n",
      "899/899 [==============================] - 115s 128ms/step - loss: 1.5928 - accuracy: 0.4810 - val_loss: 0.6098 - val_accuracy: 0.8293\n",
      "\n",
      "Epoch 00023: val_accuracy did not improve from 0.83142\n",
      "Epoch 24/30\n",
      "899/899 [==============================] - 112s 124ms/step - loss: 1.5755 - accuracy: 0.4868 - val_loss: 0.6080 - val_accuracy: 0.8308\n",
      "\n",
      "Epoch 00024: val_accuracy did not improve from 0.83142\n",
      "Epoch 00024: early stopping\n",
      "CPU times: user 37min 39s, sys: 3min 16s, total: 40min 55s\n",
      "Wall time: 46min 18s\n"
     ]
    }
   ],
   "source": [
    "%%time\n",
    "\n",
    "filepath_cnn = save_dir + \"/base_cnn_wts.hdf5\"\n",
    "checkpoint_cnn = ModelCheckpoint(filepath_cnn, monitor='val_accuracy',\n",
    "                             verbose=1, save_best_only=True, mode='max')\n",
    "reduce_lr_cnn = ReduceLROnPlateau(monitor='val_loss', factor=0.2,\n",
    "                                  patience=2, min_lr=0.00001, verbose=1)\n",
    "earlystop_cnn = EarlyStopping(monitor='val_accuracy', patience=5, verbose=1)\n",
    "\n",
    "\n",
    "base_cnn_history = base_cnn.fit(\n",
    "    train_data,\n",
    "    epochs=epochs,\n",
    "    steps_per_epoch=steps_per_epoch,\n",
    "    validation_steps=validation_steps,\n",
    "    validation_data=val_data,\n",
    "    callbacks=[checkpoint_cnn, reduce_lr_cnn, earlystop_cnn]\n",
    ")"
   ]
  },
  {
   "cell_type": "code",
   "execution_count": 66,
   "id": "40ab1334",
   "metadata": {
    "ExecuteTime": {
     "end_time": "2022-03-11T15:29:37.784504Z",
     "start_time": "2022-03-11T15:29:37.771547Z"
    }
   },
   "outputs": [],
   "source": [
    "def plot_results(history):\n",
    "    fig, (ax1, ax2) = plt.subplots(1, 2, figsize=(15,5))\n",
    "\n",
    "    # plot accuracy \n",
    "    acc = history.history['accuracy']\n",
    "    val_acc = history.history['val_accuracy']\n",
    "    epochs = range(1, len(acc) + 1)\n",
    "\n",
    "    ax1.plot(epochs, acc, 'ko', label='Training acc')\n",
    "    ax1.plot(epochs, val_acc, 'k', label='Validation acc')\n",
    "    ax1.set_title('Training and validation accuracy')\n",
    "    ax1.set_xlabel('Epochs')\n",
    "    ax1.legend()\n",
    "\n",
    "    # plot loss\n",
    "    loss = history.history['loss']\n",
    "    val_loss = history.history['val_loss']\n",
    "\n",
    "    ax2.plot(epochs, loss, 'ro', label='Training loss')\n",
    "    ax2.plot(epochs, val_loss, 'r', label='Validation loss')\n",
    "    ax2.set_title('Training and validation loss')\n",
    "    ax2.set_xlabel('Epochs')\n",
    "    ax2.legend()"
   ]
  },
  {
   "cell_type": "code",
   "execution_count": 67,
   "id": "f2d1f960",
   "metadata": {
    "ExecuteTime": {
     "end_time": "2022-03-11T15:29:37.859522Z",
     "start_time": "2022-03-11T15:29:37.786366Z"
    }
   },
   "outputs": [],
   "source": [
    "base_cnn.load_weights(filepath_cnn)\n",
    "\n",
    "base_cnn.save(save_dir + '/base_cnn.h5')\n",
    "\n",
    "import pickle\n",
    "with open(save_dir + '/base_cnn_hist.pickle', 'wb') as handle:\n",
    "    pickle.dump(base_cnn_history.history, handle, protocol=pickle.HIGHEST_PROTOCOL)"
   ]
  },
  {
   "cell_type": "code",
   "execution_count": 68,
   "id": "520ec253",
   "metadata": {
    "ExecuteTime": {
     "end_time": "2022-03-11T15:29:38.233670Z",
     "start_time": "2022-03-11T15:29:37.861391Z"
    }
   },
   "outputs": [
    {
     "data": {
      "image/png": "[encoded data removed]",
      "text/plain": [
       "<Figure size 1080x360 with 2 Axes>"
      ]
     },
     "metadata": {
      "needs_background": "light"
     },
     "output_type": "display_data"
    }
   ],
   "source": [
    "plot_results(base_cnn_history)"
   ]
  },
  {
   "cell_type": "markdown",
   "id": "70832ffc",
   "metadata": {},
   "source": [
    "### VGG16"
   ]
  },
  {
   "cell_type": "code",
   "execution_count": 51,
   "id": "3ee6043d",
   "metadata": {
    "ExecuteTime": {
     "end_time": "2022-03-11T14:11:09.906209Z",
     "start_time": "2022-03-11T14:11:09.667546Z"
    }
   },
   "outputs": [
    {
     "name": "stdout",
     "output_type": "stream",
     "text": [
      "Model: \"sequential_18\"\n",
      "_________________________________________________________________\n",
      "Layer (type)                 Output Shape              Param #   \n",
      "=================================================================\n",
      "lambda_16 (Lambda)           (None, 64, 64, 3)         0         \n",
      "_________________________________________________________________\n",
      "vgg16 (Functional)           (None, None, None, 512)   14714688  \n",
      "_________________________________________________________________\n",
      "flatten_10 (Flatten)         (None, 2048)              0         \n",
      "_________________________________________________________________\n",
      "dense_19 (Dense)             (None, 19)                38931     \n",
      "=================================================================\n",
      "Total params: 14,753,619\n",
      "Trainable params: 14,753,619\n",
      "Non-trainable params: 0\n",
      "_________________________________________________________________\n"
     ]
    }
   ],
   "source": [
    "from tensorflow.keras.applications.vgg16 import preprocess_input as preprocess_vgg16\n",
    "\n",
    "vgg16 = tf.keras.applications.VGG16(weights=None,\n",
    "                  include_top=False)\n",
    "\n",
    "model_vgg16 = models.Sequential()\n",
    "model_vgg16.add(layers.Lambda(preprocess_vgg16,\n",
    "                             input_shape=(size, size, 3)))\n",
    "model_vgg16.add(vgg16)\n",
    "model_vgg16.add(layers.Flatten())\n",
    "model_vgg16.add(layers.Dense(num_labels, activation='softmax'))\n",
    "\n",
    "model_vgg16.summary()\n",
    "\n",
    "model_vgg16.compile(loss='categorical_crossentropy',\n",
    "                   optimizer=optimizers.Adam(learning_rate=0.0001),\n",
    "                   metrics=['accuracy'])"
   ]
  },
  {
   "cell_type": "code",
   "execution_count": 52,
   "id": "ca48638a",
   "metadata": {
    "ExecuteTime": {
     "end_time": "2022-03-11T14:31:01.425328Z",
     "start_time": "2022-03-11T14:11:12.678159Z"
    }
   },
   "outputs": [
    {
     "name": "stdout",
     "output_type": "stream",
     "text": [
      "Epoch 1/30\n",
      "899/899 [==============================] - 119s 131ms/step - loss: 0.7331 - accuracy: 0.7733 - val_loss: 0.3934 - val_accuracy: 0.9021\n",
      "\n",
      "Epoch 00001: val_accuracy improved from -inf to 0.90211, saving model to ./savefiles/base_vgg_wts.hdf5\n",
      "Epoch 2/30\n",
      "899/899 [==============================] - 116s 129ms/step - loss: 0.1989 - accuracy: 0.9400 - val_loss: 0.1167 - val_accuracy: 0.9658\n",
      "\n",
      "Epoch 00002: val_accuracy improved from 0.90211 to 0.96580, saving model to ./savefiles/base_vgg_wts.hdf5\n",
      "Epoch 3/30\n",
      "899/899 [==============================] - 140s 156ms/step - loss: 0.1496 - accuracy: 0.9560 - val_loss: 0.1804 - val_accuracy: 0.9441\n",
      "\n",
      "Epoch 00003: val_accuracy did not improve from 0.96580\n",
      "Epoch 4/30\n",
      "899/899 [==============================] - 116s 128ms/step - loss: 0.1197 - accuracy: 0.9649 - val_loss: 0.1340 - val_accuracy: 0.9602\n",
      "\n",
      "Epoch 00004: val_accuracy did not improve from 0.96580\n",
      "\n",
      "Epoch 00004: ReduceLROnPlateau reducing learning rate to 1.9999999494757503e-05.\n",
      "Epoch 5/30\n",
      "899/899 [==============================] - 118s 131ms/step - loss: 0.0658 - accuracy: 0.9818 - val_loss: 0.0820 - val_accuracy: 0.9795\n",
      "\n",
      "Epoch 00005: val_accuracy improved from 0.96580 to 0.97946, saving model to ./savefiles/base_vgg_wts.hdf5\n",
      "Epoch 6/30\n",
      "899/899 [==============================] - 115s 128ms/step - loss: 0.0574 - accuracy: 0.9834 - val_loss: 0.0864 - val_accuracy: 0.9779\n",
      "\n",
      "Epoch 00006: val_accuracy did not improve from 0.97946\n",
      "Epoch 7/30\n",
      "899/899 [==============================] - 114s 127ms/step - loss: 0.0534 - accuracy: 0.9844 - val_loss: 0.0972 - val_accuracy: 0.9756\n",
      "\n",
      "Epoch 00007: val_accuracy did not improve from 0.97946\n",
      "\n",
      "Epoch 00007: ReduceLROnPlateau reducing learning rate to 1e-05.\n",
      "Epoch 8/30\n",
      "899/899 [==============================] - 116s 129ms/step - loss: 0.0478 - accuracy: 0.9863 - val_loss: 0.0974 - val_accuracy: 0.9773\n",
      "\n",
      "Epoch 00008: val_accuracy did not improve from 0.97946\n",
      "Epoch 9/30\n",
      "899/899 [==============================] - 113s 126ms/step - loss: 0.0418 - accuracy: 0.9878 - val_loss: 0.0901 - val_accuracy: 0.9783\n",
      "\n",
      "Epoch 00009: val_accuracy did not improve from 0.97946\n",
      "Epoch 10/30\n",
      "899/899 [==============================] - 116s 128ms/step - loss: 0.0436 - accuracy: 0.9867 - val_loss: 0.0876 - val_accuracy: 0.9794\n",
      "\n",
      "Epoch 00010: val_accuracy did not improve from 0.97946\n",
      "Epoch 00010: early stopping\n",
      "CPU times: user 19min 25s, sys: 1min 22s, total: 20min 48s\n",
      "Wall time: 19min 48s\n"
     ]
    }
   ],
   "source": [
    "%%time\n",
    "\n",
    "filepath_vgg = save_dir + \"/base_vgg_wts.hdf5\"\n",
    "checkpoint_vgg = ModelCheckpoint(filepath_vgg, monitor='val_accuracy',\n",
    "                             verbose=1, save_best_only=True, mode='max')\n",
    "reduce_lr_vgg = ReduceLROnPlateau(monitor='val_loss', factor=0.2,\n",
    "                              patience=2, min_lr=0.000001, verbose=1)\n",
    "earlystop_vgg = EarlyStopping(monitor='val_accuracy', patience=5, verbose=1)\n",
    "\n",
    "\n",
    "vgg_history = model_vgg16.fit(\n",
    "    keras_train_data,\n",
    "    epochs=epochs,\n",
    "    steps_per_epoch=steps_per_epoch,\n",
    "    validation_steps=validation_steps,\n",
    "    validation_data=keras_val_data,\n",
    "    callbacks=[checkpoint_vgg, reduce_lr_vgg, earlystop_vgg]\n",
    ")"
   ]
  },
  {
   "cell_type": "code",
   "execution_count": 54,
   "id": "b97a3906",
   "metadata": {
    "ExecuteTime": {
     "end_time": "2022-03-11T14:31:50.272924Z",
     "start_time": "2022-03-11T14:31:50.266687Z"
    }
   },
   "outputs": [],
   "source": [
    "model_vgg16.load_weights(filepath_vgg)\n",
    "\n",
    "model_vgg16.save(save_dir + '/vgg16.h5')\n",
    "\n",
    "with open(save_dir + '/vgg16_hist.pickle', 'wb') as handle:\n",
    "    pickle.dump(vgg_history.history, handle, protocol=pickle.HIGHEST_PROTOCOL)"
   ]
  },
  {
   "cell_type": "code",
   "execution_count": 56,
   "id": "d635630d",
   "metadata": {
    "ExecuteTime": {
     "end_time": "2022-03-11T14:31:58.875139Z",
     "start_time": "2022-03-11T14:31:58.484947Z"
    }
   },
   "outputs": [
    {
     "data": {
      "image/png": "[encoded data removed]",
      "text/plain": [
       "<Figure size 1080x360 with 2 Axes>"
      ]
     },
     "metadata": {
      "needs_background": "light"
     },
     "output_type": "display_data"
    }
   ],
   "source": [
    "plot_results(vgg_history)"
   ]
  },
  {
   "cell_type": "markdown",
   "id": "ef3f8414",
   "metadata": {},
   "source": [
    "### CoAtNet"
   ]
  },
  {
   "cell_type": "code",
   "execution_count": 69,
   "id": "00877039",
   "metadata": {
    "ExecuteTime": {
     "end_time": "2022-03-11T15:31:49.826393Z",
     "start_time": "2022-03-11T15:31:44.997050Z"
    }
   },
   "outputs": [],
   "source": [
    "import keras_cv_attention_models"
   ]
  },
  {
   "cell_type": "code",
   "execution_count": 71,
   "id": "e655af03",
   "metadata": {
    "ExecuteTime": {
     "end_time": "2022-03-11T15:32:08.017161Z",
     "start_time": "2022-03-11T15:32:06.133886Z"
    }
   },
   "outputs": [
    {
     "name": "stdout",
     "output_type": "stream",
     "text": [
      "Model: \"sequential_2\"\n",
      "_________________________________________________________________\n",
      "Layer (type)                 Output Shape              Param #   \n",
      "=================================================================\n",
      "coatnet0 (Functional)        (None, 2, 2, 768)         23032698  \n",
      "_________________________________________________________________\n",
      "flatten_2 (Flatten)          (None, 3072)              0         \n",
      "_________________________________________________________________\n",
      "dense_2 (Dense)              (None, 19)                58387     \n",
      "=================================================================\n",
      "Total params: 23,091,085\n",
      "Trainable params: 23,079,437\n",
      "Non-trainable params: 11,648\n",
      "_________________________________________________________________\n"
     ]
    }
   ],
   "source": [
    "coatnet0 = keras_cv_attention_models.coatnet.CoAtNet0(num_classes=0,\n",
    "                                                      pretrained=None,\n",
    "                                                      input_shape=(size, size, 3))\n",
    "\n",
    "model_coat0 = models.Sequential()\n",
    "\n",
    "model_coat0.add(coatnet0)\n",
    "model_coat0.add(layers.Flatten())\n",
    "# model_coat0.add(layers.Dense(32, activation=\"relu\"))\n",
    "# model_coat0.add(layers.Dropout(0.6))\n",
    "model_coat0.add(layers.Dense(num_labels, activation='softmax'))\n",
    "\n",
    "model_coat0.summary()\n",
    "\n",
    "model_coat0.compile(loss='categorical_crossentropy',\n",
    "                   optimizer=optimizers.Adam(learning_rate=0.0001),\n",
    "                   metrics=['accuracy'])"
   ]
  },
  {
   "cell_type": "code",
   "execution_count": null,
   "id": "944e4054",
   "metadata": {
    "ExecuteTime": {
     "start_time": "2022-03-11T15:33:25.524Z"
    }
   },
   "outputs": [
    {
     "name": "stdout",
     "output_type": "stream",
     "text": [
      "Epoch 1/30\n",
      "899/899 [==============================] - 138s 138ms/step - loss: 2.1519 - accuracy: 0.6282 - val_loss: 0.9994 - val_accuracy: 0.8247\n",
      "\n",
      "Epoch 00001: val_accuracy improved from -inf to 0.82475, saving model to ./savefiles/base_coat_wts.hdf5\n"
     ]
    },
    {
     "name": "stderr",
     "output_type": "stream",
     "text": [
      "/home/msds2022/nlapid/.conda/envs/msds2022-ml3/lib/python3.9/site-packages/keras/utils/generic_utils.py:494: CustomMaskWarning: Custom mask layers require a config and must override get_config. When loading, the custom mask layer must be passed to the custom_objects argument.\n",
      "  warnings.warn('Custom mask layers require a config and must override '\n"
     ]
    },
    {
     "name": "stdout",
     "output_type": "stream",
     "text": [
      "Epoch 2/30\n",
      "899/899 [==============================] - 119s 132ms/step - loss: 0.8063 - accuracy: 0.8394 - val_loss: 0.6910 - val_accuracy: 0.8637\n",
      "\n",
      "Epoch 00002: val_accuracy improved from 0.82475 to 0.86374, saving model to ./savefiles/base_coat_wts.hdf5\n",
      "Epoch 3/30\n",
      "899/899 [==============================] - 117s 130ms/step - loss: 0.6343 - accuracy: 0.8824 - val_loss: 0.6891 - val_accuracy: 0.8864\n",
      "\n",
      "Epoch 00003: val_accuracy improved from 0.86374 to 0.88636, saving model to ./savefiles/base_coat_wts.hdf5\n",
      "Epoch 4/30\n",
      "899/899 [==============================] - 116s 129ms/step - loss: 0.5349 - accuracy: 0.9031 - val_loss: 0.6355 - val_accuracy: 0.8984\n",
      "\n",
      "Epoch 00004: val_accuracy improved from 0.88636 to 0.89835, saving model to ./savefiles/base_coat_wts.hdf5\n"
     ]
    }
   ],
   "source": [
    "%%time\n",
    "\n",
    "filepath_coat = save_dir + \"/base_coat_wts.hdf5\"\n",
    "checkpoint_coat = ModelCheckpoint(filepath_coat, monitor='val_accuracy',\n",
    "                             verbose=1, save_best_only=True, mode='max')\n",
    "reduce_lr_coat = ReduceLROnPlateau(monitor='val_loss', factor=0.2,\n",
    "                              patience=2, min_lr=0.000001, verbose=1)\n",
    "earlystop_coat= EarlyStopping(monitor='val_accuracy', patience=5, verbose=1)\n",
    "\n",
    "\n",
    "coat_history = model_coat0.fit(\n",
    "    keras_train_data,\n",
    "    epochs=epochs,\n",
    "    steps_per_epoch=steps_per_epoch,\n",
    "    validation_steps=validation_steps,\n",
    "    validation_data=keras_val_data,\n",
    "    callbacks=[checkpoint_coat, reduce_lr_coat, earlystop_coat]\n",
    ")"
   ]
  },
  {
   "cell_type": "code",
   "execution_count": null,
   "id": "d482c21c",
   "metadata": {},
   "outputs": [],
   "source": [
    "model_coat0.load_weights(filepath_coat)\n",
    "\n",
    "model_coat0.save(save_dir + '/coat0.h5')\n",
    "\n",
    "with open(save_dir + '/coat0_hist.pickle', 'wb') as handle:\n",
    "    pickle.dump(coat_history.history, handle, protocol=pickle.HIGHEST_PROTOCOL)"
   ]
  },
  {
   "cell_type": "code",
   "execution_count": null,
   "id": "5fe3ae43",
   "metadata": {},
   "outputs": [],
   "source": [
    "plot_results(base_cnn_history)"
   ]
  }
 ],
 "metadata": {
  "kernelspec": {
   "display_name": "Python [conda env:.conda-msds2022-ml3]",
   "language": "python",
   "name": "conda-env-.conda-msds2022-ml3-py"
  },
  "language_info": {
   "codemirror_mode": {
    "name": "ipython",
    "version": 3
   },
   "file_extension": ".py",
   "mimetype": "text/x-python",
   "name": "python",
   "nbconvert_exporter": "python",
   "pygments_lexer": "ipython3",
   "version": "3.9.6"
  },
  "toc": {
   "base_numbering": 1,
   "nav_menu": {},
   "number_sections": false,
   "sideBar": true,
   "skip_h1_title": false,
   "title_cell": "Table of Contents",
   "title_sidebar": "Contents",
   "toc_cell": false,
   "toc_position": {
    "height": "calc(100% - 180px)",
    "left": "10px",
    "top": "150px",
    "width": "288px"
   },
   "toc_section_display": true,
   "toc_window_display": true
  }
 },
 "nbformat": 4,
 "nbformat_minor": 5
}
