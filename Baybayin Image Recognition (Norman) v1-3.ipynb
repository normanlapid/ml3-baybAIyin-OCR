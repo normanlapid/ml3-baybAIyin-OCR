{
 "cells": [
  {
   "cell_type": "code",
   "execution_count": 1,
   "id": "13b88ba2",
   "metadata": {
    "ExecuteTime": {
     "end_time": "2022-03-13T06:13:00.118785Z",
     "start_time": "2022-03-13T06:13:00.113720Z"
    }
   },
   "outputs": [],
   "source": [
    "# !pip install opencv-python"
   ]
  },
  {
   "cell_type": "code",
   "execution_count": 97,
   "id": "d7930bfc",
   "metadata": {
    "ExecuteTime": {
     "end_time": "2022-03-14T13:51:47.668083Z",
     "start_time": "2022-03-14T13:47:02.717087Z"
    }
   },
   "outputs": [
    {
     "name": "stdout",
     "output_type": "stream",
     "text": [
      "\u001b[33mWARNING: The directory '/home/nlapid/.cache/pip' or its parent directory is not owned or is not writable by the current user. The cache has been disabled. Check the permissions and owner of that directory. If executing pip with sudo, you should use sudo's -H flag.\u001b[0m\n",
      "Requirement already satisfied: pandas in /home/msds2022/nlapid/.conda/envs/msds2022-ml3/lib/python3.9/site-packages (1.2.5)\n",
      "Collecting pandas\n",
      "  Downloading pandas-1.4.1-cp39-cp39-manylinux_2_17_x86_64.manylinux2014_x86_64.whl (11.7 MB)\n",
      "\u001b[K     |████████████████████████████████| 11.7 MB 17.9 MB/s eta 0:00:01     |████████████████████████████▎   | 10.3 MB 17.9 MB/s eta 0:00:01\n",
      "\u001b[?25hRequirement already satisfied: pytz>=2020.1 in /home/msds2022/nlapid/.conda/envs/msds2022-ml3/lib/python3.9/site-packages (from pandas) (2021.3)\n",
      "Requirement already satisfied: python-dateutil>=2.8.1 in /home/msds2022/nlapid/.conda/envs/msds2022-ml3/lib/python3.9/site-packages (from pandas) (2.8.2)\n",
      "Requirement already satisfied: numpy>=1.18.5 in /home/msds2022/nlapid/.local/lib/python3.9/site-packages (from pandas) (1.21.5)\n",
      "Requirement already satisfied: six>=1.5 in /home/msds2022/nlapid/.conda/envs/msds2022-ml3/lib/python3.9/site-packages (from python-dateutil>=2.8.1->pandas) (1.15.0)\n",
      "Installing collected packages: pandas\n",
      "  Attempting uninstall: pandas\n",
      "    Found existing installation: pandas 1.2.5\n",
      "    Uninstalling pandas-1.2.5:\n",
      "      Successfully uninstalled pandas-1.2.5\n",
      "\u001b[31mERROR: pip's dependency resolver does not currently take into account all the packages that are installed. This behaviour is the source of the following dependency conflicts.\n",
      "dtreeviz 1.3.2 requires colour, which is not installed.\n",
      "dtreeviz 1.3.2 requires graphviz>=0.9, which is not installed.\n",
      "dtreeviz 1.3.2 requires pytest, which is not installed.\u001b[0m\n",
      "Successfully installed pandas-1.4.1\n"
     ]
    }
   ],
   "source": [
    "!pip install --upgrade pandas"
   ]
  },
  {
   "cell_type": "code",
   "execution_count": 98,
   "id": "b2842bb0",
   "metadata": {
    "ExecuteTime": {
     "end_time": "2022-03-14T13:52:39.082219Z",
     "start_time": "2022-03-14T13:52:39.061305Z"
    }
   },
   "outputs": [],
   "source": [
    "import os\n",
    "os.environ['TF_CPP_MIN_LOG_LEVEL'] = '2' \n",
    "from pathlib import Path\n",
    "\n",
    "from tqdm import tqdm\n",
    "import numpy as np \n",
    "import pandas as pd \n",
    "import seaborn as sns\n",
    "import matplotlib.pyplot as plt\n",
    "%matplotlib inline\n",
    "\n",
    "# import PIL\n",
    "from PIL import Image\n",
    "import pickle\n",
    "import random\n",
    "import gc\n",
    "import cv2\n",
    "\n",
    "import tensorflow as tf\n",
    "tf.get_logger().setLevel('ERROR')\n",
    "tf.autograph.set_verbosity(2)\n",
    "from tensorflow.keras import models, layers, optimizers, applications\n",
    "from tensorflow.keras.preprocessing import image\n",
    "from tensorflow.keras.preprocessing.image import ImageDataGenerator\n",
    "from tensorflow.keras.callbacks import ModelCheckpoint, EarlyStopping, ReduceLROnPlateau\n",
    "from tensorflow.keras.optimizers import Adam\n",
    "\n",
    "import keras_cv_attention_models"
   ]
  },
  {
   "cell_type": "markdown",
   "id": "94618c20",
   "metadata": {},
   "source": [
    "## Preparing the Dataset and Setting Parameters"
   ]
  },
  {
   "cell_type": "code",
   "execution_count": 3,
   "id": "70ea808d",
   "metadata": {
    "ExecuteTime": {
     "end_time": "2022-03-13T06:13:57.748597Z",
     "start_time": "2022-03-13T06:13:57.742853Z"
    }
   },
   "outputs": [],
   "source": [
    "seed = 143\n",
    "random.seed(seed)\n",
    "np.random.seed(seed)\n",
    "os.environ['PYTHONHASHSEED'] = str(seed)\n",
    "tf.random.set_seed(seed)"
   ]
  },
  {
   "cell_type": "code",
   "execution_count": 4,
   "id": "69cbbbb3",
   "metadata": {
    "ExecuteTime": {
     "end_time": "2022-03-13T06:13:58.167394Z",
     "start_time": "2022-03-13T06:13:57.751004Z"
    }
   },
   "outputs": [
    {
     "name": "stdout",
     "output_type": "stream",
     "text": [
      "Number of images found:  38398\n",
      "Number of labels found:  19\n",
      "Labels: ['a', 'ba', 'dara', 'ei', 'ga', 'ha', 'ka', 'kuw', 'la', 'ma', 'na', 'nga', 'ou', 'pa', 'sa', 'ta', 'tul', 'wa', 'ya']\n"
     ]
    }
   ],
   "source": [
    "data_dir = './raw/'\n",
    "save_dir = './savefiles/'\n",
    "size = 64\n",
    "epochs = 30\n",
    "val_split = 0.25\n",
    "\n",
    "batch_size = 32\n",
    "\n",
    "data_path = Path(data_dir)\n",
    "images = sorted(list(map(str, list(data_path.glob(\"*/*.jpg\")))))\n",
    "labels = set([img.split(os.path.sep)[-2] for img in images])\n",
    "num_labels = len(labels)\n",
    "\n",
    "steps_per_epoch = len(images) * (1 - val_split) / batch_size\n",
    "validation_steps = len(images) * val_split / batch_size\n",
    "\n",
    "print(\"Number of images found: \", len(images))\n",
    "print(\"Number of labels found: \", num_labels)\n",
    "print(\"Labels:\", sorted(labels))"
   ]
  },
  {
   "cell_type": "code",
   "execution_count": 5,
   "id": "d01f63c1",
   "metadata": {
    "ExecuteTime": {
     "end_time": "2022-03-13T06:13:58.176920Z",
     "start_time": "2022-03-13T06:13:58.170072Z"
    }
   },
   "outputs": [
    {
     "data": {
      "text/plain": [
       "{0: 'a',\n",
       " 1: 'ba',\n",
       " 2: 'dara',\n",
       " 3: 'ei',\n",
       " 4: 'ga',\n",
       " 5: 'ha',\n",
       " 6: 'ka',\n",
       " 7: 'kuw',\n",
       " 8: 'la',\n",
       " 9: 'ma',\n",
       " 10: 'na',\n",
       " 11: 'nga',\n",
       " 12: 'ou',\n",
       " 13: 'pa',\n",
       " 14: 'sa',\n",
       " 15: 'ta',\n",
       " 16: 'tul',\n",
       " 17: 'wa',\n",
       " 18: 'ya'}"
      ]
     },
     "execution_count": 5,
     "metadata": {},
     "output_type": "execute_result"
    }
   ],
   "source": [
    "label_dict = {i: j for i, j in zip(range(19), sorted(labels))}\n",
    "label_dict"
   ]
  },
  {
   "cell_type": "code",
   "execution_count": 6,
   "id": "061fb858",
   "metadata": {
    "ExecuteTime": {
     "end_time": "2022-03-13T06:13:58.235757Z",
     "start_time": "2022-03-13T06:13:58.178828Z"
    }
   },
   "outputs": [
    {
     "data": {
      "text/plain": [
       "a       1307\n",
       "ba      2088\n",
       "dara    2410\n",
       "ei      1294\n",
       "ga      2479\n",
       "ha      2397\n",
       "ka      2564\n",
       "kuw     1091\n",
       "la      2284\n",
       "ma      2185\n",
       "na      2365\n",
       "nga     2378\n",
       "ou      1287\n",
       "pa      2255\n",
       "sa      2155\n",
       "ta      2302\n",
       "tul     1000\n",
       "wa      2308\n",
       "ya      2249\n",
       "dtype: int64"
      ]
     },
     "metadata": {},
     "output_type": "display_data"
    },
    {
     "name": "stdout",
     "output_type": "stream",
     "text": [
      "PCC x 1.25: = 6.996%\n"
     ]
    }
   ],
   "source": [
    "dist = pd.Series([img.split(os.path.sep)[-2] for img in images]).value_counts()\n",
    "PCC = sum(pd.Series([img.split(os.path.sep)[-2] for img in images]).\n",
    "       value_counts(normalize=True)**2)\n",
    "\n",
    "display(dist.sort_index())\n",
    "print(f'PCC x 1.25: = {1.25*PCC:.3%}')"
   ]
  },
  {
   "cell_type": "markdown",
   "id": "0fabcde5",
   "metadata": {},
   "source": [
    "ᜅ"
   ]
  },
  {
   "cell_type": "code",
   "execution_count": 15,
   "id": "851da97e",
   "metadata": {
    "ExecuteTime": {
     "end_time": "2022-03-13T06:31:25.810482Z",
     "start_time": "2022-03-13T06:31:25.802826Z"
    }
   },
   "outputs": [
    {
     "data": {
      "text/plain": [
       "38398"
      ]
     },
     "execution_count": 15,
     "metadata": {},
     "output_type": "execute_result"
    }
   ],
   "source": [
    "dist.sum()"
   ]
  },
  {
   "cell_type": "code",
   "execution_count": 21,
   "id": "3406a9d0",
   "metadata": {
    "ExecuteTime": {
     "end_time": "2022-03-13T06:52:14.819746Z",
     "start_time": "2022-03-13T06:52:14.777642Z"
    }
   },
   "outputs": [
    {
     "data": {
      "image/png": "[encoded data removed]",
      "text/plain": [
       "<PIL.JpegImagePlugin.JpegImageFile image mode=L size=109x52 at 0x7F897C853BE0>"
      ]
     },
     "metadata": {},
     "output_type": "display_data"
    }
   ],
   "source": [
    "im = Image.open(data_dir + 'ha/ha_00001_file001.jpg')\n",
    "im.show()"
   ]
  },
  {
   "cell_type": "code",
   "execution_count": 126,
   "id": "db87b2c1",
   "metadata": {
    "ExecuteTime": {
     "end_time": "2022-03-14T14:00:55.393584Z",
     "start_time": "2022-03-14T14:00:54.793770Z"
    }
   },
   "outputs": [
    {
     "name": "stderr",
     "output_type": "stream",
     "text": [
      "/home/msds2022/nlapid/.conda/envs/msds2022-ml3/lib/python3.9/site-packages/pandas/plotting/_matplotlib/tools.py:395: MatplotlibDeprecationWarning: \n",
      "The is_last_row function was deprecated in Matplotlib 3.4 and will be removed two minor releases later. Use ax.get_subplotspec().is_last_row() instead.\n",
      "  if ax.is_last_row():\n"
     ]
    },
    {
     "data": {
      "image/png": "[encoded data removed]",
      "text/plain": [
       "<Figure size 1152x864 with 2 Axes>"
      ]
     },
     "metadata": {
      "needs_background": "light"
     },
     "output_type": "display_data"
    }
   ],
   "source": [
    "fig = plt.figure(figsize=(16, 12), constrained_layout=True)\n",
    "gs = fig.add_gridspec(3, 1)\n",
    "\n",
    "ax1 = fig.add_subplot(gs[0:2])\n",
    "ax1 = dist.sort_index().plot(kind='pie', fontsize=15)\n",
    "ax1.set_ylabel('')\n",
    "\n",
    "ax2 = fig.add_subplot(gs[2])\n",
    "dist.sort_index().plot(kind='bar', color='maroon', fontsize=15)\n",
    "# ax2.bar(dist.sort_index().index, dist.sort_index(), color='maroon')\n",
    "\n",
    "plt.suptitle('Dataset distribution', fontsize=20)\n",
    "\n",
    "plt.show()\n"
   ]
  },
  {
   "cell_type": "code",
   "execution_count": 137,
   "id": "96d0ffdd",
   "metadata": {
    "ExecuteTime": {
     "end_time": "2022-03-14T14:10:03.338146Z",
     "start_time": "2022-03-14T14:10:03.050228Z"
    }
   },
   "outputs": [
    {
     "data": {
      "image/png": "[encoded data removed]",
      "text/plain": [
       "<Figure size 432x432 with 1 Axes>"
      ]
     },
     "metadata": {},
     "output_type": "display_data"
    }
   ],
   "source": [
    "fig, ax = plt.subplots(figsize=(6, 6))\n",
    "dist.sort_index(ascending=False).plot(kind='pie', fontsize=12, startangle=90)\n",
    "plt.ylabel('')\n",
    "plt.suptitle('Dataset distribution', fontsize=14)\n",
    "plt.tight_layout()\n",
    "plt.show()"
   ]
  },
  {
   "cell_type": "code",
   "execution_count": 141,
   "id": "f9f1e3a2",
   "metadata": {
    "ExecuteTime": {
     "end_time": "2022-03-14T14:10:43.280518Z",
     "start_time": "2022-03-14T14:10:42.977834Z"
    }
   },
   "outputs": [
    {
     "data": {
      "image/png": "[encoded data removed]",
      "text/plain": [
       "<Figure size 1152x288 with 1 Axes>"
      ]
     },
     "metadata": {
      "needs_background": "light"
     },
     "output_type": "display_data"
    }
   ],
   "source": [
    "fig, ax = plt.subplots(figsize=(16, 4))\n",
    "dist.sort_index().plot(kind='bar', color='maroon')\n",
    "plt.ylabel('Number of images', fontsize=14)\n",
    "plt.suptitle('Dataset distribution', fontsize=15)\n",
    "plt.show()"
   ]
  },
  {
   "cell_type": "code",
   "execution_count": 5,
   "id": "9deecf95",
   "metadata": {
    "ExecuteTime": {
     "end_time": "2022-03-11T18:14:50.783235Z",
     "start_time": "2022-03-11T18:14:50.780001Z"
    }
   },
   "outputs": [],
   "source": [
    "# !ls raw"
   ]
  },
  {
   "cell_type": "code",
   "execution_count": 6,
   "id": "8969512a",
   "metadata": {
    "ExecuteTime": {
     "end_time": "2022-03-11T18:14:50.789205Z",
     "start_time": "2022-03-11T18:14:50.786038Z"
    }
   },
   "outputs": [],
   "source": [
    "# Check dimensions of a sample image\n",
    "\n",
    "# img = cv2.imread(data_dir + 'a/a_00553_file087.jpg')\n",
    "# dimensions = img.shape\n",
    "# dimensions"
   ]
  },
  {
   "cell_type": "code",
   "execution_count": 22,
   "id": "e879c36a",
   "metadata": {
    "ExecuteTime": {
     "end_time": "2022-03-14T06:13:40.085152Z",
     "start_time": "2022-03-14T06:13:33.198603Z"
    }
   },
   "outputs": [
    {
     "name": "stdout",
     "output_type": "stream",
     "text": [
      "Found 28806 images belonging to 19 classes.\n",
      "Found 9592 images belonging to 19 classes.\n"
     ]
    }
   ],
   "source": [
    "# Augmentation\n",
    "train_datagen = ImageDataGenerator(rescale=1./255,\n",
    "                                   validation_split=val_split,\n",
    "                                   preprocessing_function=None,\n",
    "                                   rotation_range=20,\n",
    "                                   width_shift_range=0.2,\n",
    "                                   height_shift_range=0.2,\n",
    "                                   brightness_range=[0.7, 1.3],\n",
    "                                   shear_range=0.2,\n",
    "                                   zoom_range=0.2,\n",
    "                                   channel_shift_range=0.7,\n",
    "                                   horizontal_flip=False,\n",
    "                                   vertical_flip=False,)\n",
    "\n",
    "val_datagen = ImageDataGenerator(rescale=1./255,\n",
    "                                 validation_split=val_split)\n",
    "\n",
    "\n",
    "# Load data and turn into batches\n",
    "train_data = train_datagen.flow_from_directory(data_dir,\n",
    "                                               subset=\"training\",\n",
    "                                               target_size=(size, size),\n",
    "                                               batch_size=batch_size,\n",
    "                                               class_mode=\"categorical\",\n",
    "                                               seed=seed)\n",
    "\n",
    "val_data = val_datagen.flow_from_directory(data_dir,\n",
    "                                           subset=\"validation\",\n",
    "                                           target_size=(size, size),\n",
    "                                           batch_size=batch_size,\n",
    "                                           class_mode=\"categorical\",\n",
    "                                           seed=seed)"
   ]
  },
  {
   "cell_type": "code",
   "execution_count": 23,
   "id": "2b0e20de",
   "metadata": {
    "ExecuteTime": {
     "end_time": "2022-03-14T06:13:43.919748Z",
     "start_time": "2022-03-14T06:13:40.087690Z"
    }
   },
   "outputs": [
    {
     "name": "stdout",
     "output_type": "stream",
     "text": [
      "Found 28806 images belonging to 19 classes.\n",
      "Found 9592 images belonging to 19 classes.\n"
     ]
    }
   ],
   "source": [
    "# For Keras Models (VGG16, Inception)\n",
    "\n",
    "keras_train_datagen = ImageDataGenerator(validation_split=val_split,\n",
    "                                   preprocessing_function=None,\n",
    "                                   rotation_range=20,\n",
    "                                   width_shift_range=0.2,\n",
    "                                   height_shift_range=0.2,\n",
    "                                   brightness_range=[0.7, 1.3],\n",
    "                                   shear_range=0.2,\n",
    "                                   zoom_range=0.2,\n",
    "                                   channel_shift_range=0.7,\n",
    "                                   horizontal_flip=False,\n",
    "                                   vertical_flip=False,)\n",
    "\n",
    "keras_val_datagen = ImageDataGenerator(validation_split=val_split)\n",
    "\n",
    "\n",
    "# Load data and turn into batches\n",
    "keras_train_data = keras_train_datagen.flow_from_directory(data_dir,\n",
    "                                               subset=\"training\",\n",
    "                                               target_size=(size, size),\n",
    "                                               batch_size=batch_size,\n",
    "                                               class_mode=\"categorical\",\n",
    "                                               seed=seed)\n",
    "\n",
    "keras_val_data = keras_val_datagen.flow_from_directory(data_dir,\n",
    "                                           subset=\"validation\",\n",
    "                                           target_size=(size, size),\n",
    "                                           batch_size=batch_size,\n",
    "                                           class_mode=\"categorical\",\n",
    "                                           seed=seed)"
   ]
  },
  {
   "cell_type": "code",
   "execution_count": 24,
   "id": "016a321d",
   "metadata": {
    "ExecuteTime": {
     "end_time": "2022-03-14T06:13:43.930617Z",
     "start_time": "2022-03-14T06:13:43.922213Z"
    }
   },
   "outputs": [
    {
     "data": {
      "text/plain": [
       "19"
      ]
     },
     "execution_count": 24,
     "metadata": {},
     "output_type": "execute_result"
    }
   ],
   "source": [
    "len(set(train_data.labels))"
   ]
  },
  {
   "cell_type": "markdown",
   "id": "e11c5542",
   "metadata": {},
   "source": [
    "## Models"
   ]
  },
  {
   "cell_type": "markdown",
   "id": "69555923",
   "metadata": {},
   "source": [
    "### CNN"
   ]
  },
  {
   "cell_type": "code",
   "execution_count": 63,
   "id": "7b5d2be8",
   "metadata": {
    "ExecuteTime": {
     "end_time": "2022-03-11T14:43:19.402334Z",
     "start_time": "2022-03-11T14:43:19.031318Z"
    }
   },
   "outputs": [
    {
     "data": {
      "text/plain": [
       "16849"
      ]
     },
     "execution_count": 63,
     "metadata": {},
     "output_type": "execute_result"
    }
   ],
   "source": [
    "tf.keras.backend.clear_session()\n",
    "gc.collect()"
   ]
  },
  {
   "cell_type": "code",
   "execution_count": 64,
   "id": "15f35842",
   "metadata": {
    "ExecuteTime": {
     "end_time": "2022-03-11T14:43:19.495501Z",
     "start_time": "2022-03-11T14:43:19.404224Z"
    }
   },
   "outputs": [
    {
     "name": "stdout",
     "output_type": "stream",
     "text": [
      "Model: \"sequential\"\n",
      "_________________________________________________________________\n",
      "Layer (type)                 Output Shape              Param #   \n",
      "=================================================================\n",
      "conv2d (Conv2D)              (None, 64, 64, 4)         112       \n",
      "_________________________________________________________________\n",
      "batch_normalization (BatchNo (None, 64, 64, 4)         16        \n",
      "_________________________________________________________________\n",
      "activation (Activation)      (None, 64, 64, 4)         0         \n",
      "_________________________________________________________________\n",
      "max_pooling2d (MaxPooling2D) (None, 32, 32, 4)         0         \n",
      "_________________________________________________________________\n",
      "conv2d_1 (Conv2D)            (None, 32, 32, 4)         148       \n",
      "_________________________________________________________________\n",
      "max_pooling2d_1 (MaxPooling2 (None, 10, 10, 4)         0         \n",
      "_________________________________________________________________\n",
      "flatten (Flatten)            (None, 400)               0         \n",
      "_________________________________________________________________\n",
      "dense (Dense)                (None, 32)                12832     \n",
      "_________________________________________________________________\n",
      "dropout (Dropout)            (None, 32)                0         \n",
      "_________________________________________________________________\n",
      "dense_1 (Dense)              (None, 19)                627       \n",
      "=================================================================\n",
      "Total params: 13,735\n",
      "Trainable params: 13,727\n",
      "Non-trainable params: 8\n",
      "_________________________________________________________________\n"
     ]
    }
   ],
   "source": [
    "base_cnn = models.Sequential()\n",
    "\n",
    "base_cnn.add(layers.Conv2D(filters=4, kernel_size=3, strides=1, padding='same',\n",
    "                 input_shape=(size, size, 3)))\n",
    "base_cnn.add(layers.BatchNormalization(axis=3))\n",
    "base_cnn.add(layers.Activation('relu'))\n",
    "base_cnn.add(layers.MaxPooling2D(pool_size=(2, 2)))\n",
    "\n",
    "base_cnn.add(layers.Conv2D(filters=4, kernel_size=3, strides=1, padding='same',\n",
    "                        activation='relu'))\n",
    "base_cnn.add(layers.MaxPooling2D(pool_size=(3, 3)))\n",
    "\n",
    "base_cnn.add(layers.Flatten())\n",
    "base_cnn.add(layers.Dense(32, activation=\"relu\"))\n",
    "base_cnn.add(layers.Dropout(0.6))\n",
    "\n",
    "base_cnn.add(layers.Dense(num_labels, activation='softmax'))\n",
    "base_cnn.summary()\n",
    "\n",
    "\n",
    "base_cnn.compile(loss='categorical_crossentropy',\n",
    "                 optimizer=optimizers.Adam(learning_rate=0.001),\n",
    "                 metrics=['accuracy'])"
   ]
  },
  {
   "cell_type": "code",
   "execution_count": 65,
   "id": "779c9774",
   "metadata": {
    "ExecuteTime": {
     "end_time": "2022-03-11T15:29:37.767881Z",
     "start_time": "2022-03-11T14:43:19.498198Z"
    }
   },
   "outputs": [
    {
     "name": "stdout",
     "output_type": "stream",
     "text": [
      "Epoch 1/30\n",
      "899/899 [==============================] - 117s 130ms/step - loss: 2.6534 - accuracy: 0.1702 - val_loss: 1.4708 - val_accuracy: 0.6272\n",
      "\n",
      "Epoch 00001: val_accuracy improved from -inf to 0.62719, saving model to ./savefiles/base_cnn_wts.hdf5\n",
      "Epoch 2/30\n",
      "899/899 [==============================] - 117s 130ms/step - loss: 2.1704 - accuracy: 0.3105 - val_loss: 1.0643 - val_accuracy: 0.7681\n",
      "\n",
      "Epoch 00002: val_accuracy improved from 0.62719 to 0.76814, saving model to ./savefiles/base_cnn_wts.hdf5\n",
      "Epoch 3/30\n",
      "899/899 [==============================] - 117s 130ms/step - loss: 1.9710 - accuracy: 0.3675 - val_loss: 0.8629 - val_accuracy: 0.7809\n",
      "\n",
      "Epoch 00003: val_accuracy improved from 0.76814 to 0.78086, saving model to ./savefiles/base_cnn_wts.hdf5\n",
      "Epoch 4/30\n",
      "899/899 [==============================] - 113s 126ms/step - loss: 1.8641 - accuracy: 0.3997 - val_loss: 0.8034 - val_accuracy: 0.7837\n",
      "\n",
      "Epoch 00004: val_accuracy improved from 0.78086 to 0.78367, saving model to ./savefiles/base_cnn_wts.hdf5\n",
      "Epoch 5/30\n",
      "899/899 [==============================] - 116s 129ms/step - loss: 1.8006 - accuracy: 0.4129 - val_loss: 0.7147 - val_accuracy: 0.8092\n",
      "\n",
      "Epoch 00005: val_accuracy improved from 0.78367 to 0.80922, saving model to ./savefiles/base_cnn_wts.hdf5\n",
      "Epoch 6/30\n",
      "899/899 [==============================] - 118s 131ms/step - loss: 1.7645 - accuracy: 0.4306 - val_loss: 0.7108 - val_accuracy: 0.8026\n",
      "\n",
      "Epoch 00006: val_accuracy did not improve from 0.80922\n",
      "Epoch 7/30\n",
      "899/899 [==============================] - 111s 123ms/step - loss: 1.7336 - accuracy: 0.4334 - val_loss: 0.7408 - val_accuracy: 0.7903\n",
      "\n",
      "Epoch 00007: val_accuracy did not improve from 0.80922\n",
      "Epoch 8/30\n",
      "899/899 [==============================] - 116s 129ms/step - loss: 1.7075 - accuracy: 0.4469 - val_loss: 0.6687 - val_accuracy: 0.8039\n",
      "\n",
      "Epoch 00008: val_accuracy did not improve from 0.80922\n",
      "Epoch 9/30\n",
      "899/899 [==============================] - 121s 135ms/step - loss: 1.6881 - accuracy: 0.4507 - val_loss: 0.6626 - val_accuracy: 0.8094\n",
      "\n",
      "Epoch 00009: val_accuracy improved from 0.80922 to 0.80942, saving model to ./savefiles/base_cnn_wts.hdf5\n",
      "Epoch 10/30\n",
      "899/899 [==============================] - 119s 132ms/step - loss: 1.6772 - accuracy: 0.4519 - val_loss: 0.7013 - val_accuracy: 0.8031\n",
      "\n",
      "Epoch 00010: val_accuracy did not improve from 0.80942\n",
      "Epoch 11/30\n",
      "899/899 [==============================] - 117s 130ms/step - loss: 1.6558 - accuracy: 0.4600 - val_loss: 0.6787 - val_accuracy: 0.8122\n",
      "\n",
      "Epoch 00011: val_accuracy improved from 0.80942 to 0.81224, saving model to ./savefiles/base_cnn_wts.hdf5\n",
      "\n",
      "Epoch 00011: ReduceLROnPlateau reducing learning rate to 0.00020000000949949026.\n",
      "Epoch 12/30\n",
      "899/899 [==============================] - 118s 131ms/step - loss: 1.6194 - accuracy: 0.4773 - val_loss: 0.6414 - val_accuracy: 0.8161\n",
      "\n",
      "Epoch 00012: val_accuracy improved from 0.81224 to 0.81610, saving model to ./savefiles/base_cnn_wts.hdf5\n",
      "Epoch 13/30\n",
      "899/899 [==============================] - 116s 128ms/step - loss: 1.6187 - accuracy: 0.4743 - val_loss: 0.6151 - val_accuracy: 0.8266\n",
      "\n",
      "Epoch 00013: val_accuracy improved from 0.81610 to 0.82663, saving model to ./savefiles/base_cnn_wts.hdf5\n",
      "Epoch 14/30\n",
      "899/899 [==============================] - 116s 129ms/step - loss: 1.6072 - accuracy: 0.4778 - val_loss: 0.6119 - val_accuracy: 0.8301\n",
      "\n",
      "Epoch 00014: val_accuracy improved from 0.82663 to 0.83007, saving model to ./savefiles/base_cnn_wts.hdf5\n",
      "Epoch 15/30\n",
      "899/899 [==============================] - 116s 129ms/step - loss: 1.6018 - accuracy: 0.4780 - val_loss: 0.6176 - val_accuracy: 0.8301\n",
      "\n",
      "Epoch 00015: val_accuracy did not improve from 0.83007\n",
      "Epoch 16/30\n",
      "899/899 [==============================] - 114s 126ms/step - loss: 1.6072 - accuracy: 0.4763 - val_loss: 0.6185 - val_accuracy: 0.8273\n",
      "\n",
      "Epoch 00016: val_accuracy did not improve from 0.83007\n",
      "\n",
      "Epoch 00016: ReduceLROnPlateau reducing learning rate to 4.0000001899898055e-05.\n",
      "Epoch 17/30\n",
      "899/899 [==============================] - 112s 125ms/step - loss: 1.5905 - accuracy: 0.4790 - val_loss: 0.6117 - val_accuracy: 0.8296\n",
      "\n",
      "Epoch 00017: val_accuracy did not improve from 0.83007\n",
      "Epoch 18/30\n",
      "899/899 [==============================] - 114s 127ms/step - loss: 1.5924 - accuracy: 0.4798 - val_loss: 0.6175 - val_accuracy: 0.8264\n",
      "\n",
      "Epoch 00018: val_accuracy did not improve from 0.83007\n",
      "Epoch 19/30\n",
      "899/899 [==============================] - 116s 129ms/step - loss: 1.5783 - accuracy: 0.4853 - val_loss: 0.6067 - val_accuracy: 0.8314\n",
      "\n",
      "Epoch 00019: val_accuracy improved from 0.83007 to 0.83142, saving model to ./savefiles/base_cnn_wts.hdf5\n",
      "Epoch 20/30\n",
      "899/899 [==============================] - 116s 129ms/step - loss: 1.5891 - accuracy: 0.4831 - val_loss: 0.6028 - val_accuracy: 0.8313\n",
      "\n",
      "Epoch 00020: val_accuracy did not improve from 0.83142\n",
      "Epoch 21/30\n",
      "899/899 [==============================] - 113s 126ms/step - loss: 1.5958 - accuracy: 0.4788 - val_loss: 0.6123 - val_accuracy: 0.8308\n",
      "\n",
      "Epoch 00021: val_accuracy did not improve from 0.83142\n",
      "Epoch 22/30\n",
      "899/899 [==============================] - 117s 130ms/step - loss: 1.5903 - accuracy: 0.4796 - val_loss: 0.6064 - val_accuracy: 0.8313\n",
      "\n",
      "Epoch 00022: val_accuracy did not improve from 0.83142\n",
      "\n",
      "Epoch 00022: ReduceLROnPlateau reducing learning rate to 1e-05.\n",
      "Epoch 23/30\n",
      "899/899 [==============================] - 115s 128ms/step - loss: 1.5928 - accuracy: 0.4810 - val_loss: 0.6098 - val_accuracy: 0.8293\n",
      "\n",
      "Epoch 00023: val_accuracy did not improve from 0.83142\n",
      "Epoch 24/30\n",
      "899/899 [==============================] - 112s 124ms/step - loss: 1.5755 - accuracy: 0.4868 - val_loss: 0.6080 - val_accuracy: 0.8308\n",
      "\n",
      "Epoch 00024: val_accuracy did not improve from 0.83142\n",
      "Epoch 00024: early stopping\n",
      "CPU times: user 37min 39s, sys: 3min 16s, total: 40min 55s\n",
      "Wall time: 46min 18s\n"
     ]
    }
   ],
   "source": [
    "%%time\n",
    "\n",
    "filepath_cnn = save_dir + \"/base_cnn_wts.hdf5\"\n",
    "checkpoint_cnn = ModelCheckpoint(filepath_cnn, monitor='val_accuracy',\n",
    "                             verbose=1, save_best_only=True, mode='max')\n",
    "reduce_lr_cnn = ReduceLROnPlateau(monitor='val_loss', factor=0.2,\n",
    "                                  patience=2, min_lr=0.00001, verbose=1)\n",
    "earlystop_cnn = EarlyStopping(monitor='val_accuracy', patience=5, verbose=1)\n",
    "\n",
    "\n",
    "base_cnn_history = base_cnn.fit(\n",
    "    train_data,\n",
    "    epochs=epochs,\n",
    "    steps_per_epoch=steps_per_epoch,\n",
    "    validation_steps=validation_steps,\n",
    "    validation_data=val_data,\n",
    "    callbacks=[checkpoint_cnn, reduce_lr_cnn, earlystop_cnn]\n",
    ")"
   ]
  },
  {
   "cell_type": "code",
   "execution_count": 42,
   "id": "a35637fd",
   "metadata": {
    "ExecuteTime": {
     "end_time": "2022-03-14T07:26:42.143204Z",
     "start_time": "2022-03-14T07:26:42.136708Z"
    }
   },
   "outputs": [],
   "source": [
    "def plot_results(history):\n",
    "    fig, (ax1, ax2) = plt.subplots(1, 2, figsize=(15,5))\n",
    "\n",
    "    # plot accuracy \n",
    "    acc = history.history['accuracy']\n",
    "    val_acc = history.history['val_accuracy']\n",
    "    epochs = range(1, len(acc) + 1)\n",
    "\n",
    "    ax1.plot(epochs, acc, 'ko', label='Training acc')\n",
    "    ax1.plot(epochs, val_acc, 'k', label='Validation acc')\n",
    "    ax1.set_title('Training and validation accuracy')\n",
    "    ax1.set_xlabel('Epochs')\n",
    "    ax1.legend()\n",
    "\n",
    "    # plot loss\n",
    "    loss = history.history['loss']\n",
    "    val_loss = history.history['val_loss']\n",
    "\n",
    "    ax2.plot(epochs, loss, 'ro', label='Training loss')\n",
    "    ax2.plot(epochs, val_loss, 'r', label='Validation loss')\n",
    "    ax2.set_title('Training and validation loss')\n",
    "    ax2.set_xlabel('Epochs')\n",
    "    ax2.legend()"
   ]
  },
  {
   "cell_type": "code",
   "execution_count": 67,
   "id": "e7ea673b",
   "metadata": {
    "ExecuteTime": {
     "end_time": "2022-03-11T15:29:37.859522Z",
     "start_time": "2022-03-11T15:29:37.786366Z"
    }
   },
   "outputs": [],
   "source": [
    "base_cnn.load_weights(filepath_cnn)\n",
    "\n",
    "base_cnn.save(save_dir + '/base_cnn.h5')\n",
    "\n",
    "import pickle\n",
    "with open(save_dir + '/base_cnn_hist.pickle', 'wb') as handle:\n",
    "    pickle.dump(base_cnn_history.history, handle, protocol=pickle.HIGHEST_PROTOCOL)"
   ]
  },
  {
   "cell_type": "code",
   "execution_count": 68,
   "id": "9608cc5d",
   "metadata": {
    "ExecuteTime": {
     "end_time": "2022-03-11T15:29:38.233670Z",
     "start_time": "2022-03-11T15:29:37.861391Z"
    }
   },
   "outputs": [
    {
     "data": {
      "image/png": "[encoded data removed]",
      "text/plain": [
       "<Figure size 1080x360 with 2 Axes>"
      ]
     },
     "metadata": {
      "needs_background": "light"
     },
     "output_type": "display_data"
    }
   ],
   "source": [
    "plot_results(base_cnn_history)"
   ]
  },
  {
   "cell_type": "markdown",
   "id": "e55062af",
   "metadata": {},
   "source": [
    "### VGG16"
   ]
  },
  {
   "cell_type": "code",
   "execution_count": 18,
   "id": "dbff4a44",
   "metadata": {
    "ExecuteTime": {
     "end_time": "2022-03-11T18:32:37.061073Z",
     "start_time": "2022-03-11T18:32:36.635472Z"
    }
   },
   "outputs": [
    {
     "data": {
      "text/plain": [
       "23728"
      ]
     },
     "execution_count": 18,
     "metadata": {},
     "output_type": "execute_result"
    }
   ],
   "source": [
    "tf.keras.backend.clear_session()\n",
    "gc.collect()"
   ]
  },
  {
   "cell_type": "code",
   "execution_count": 19,
   "id": "a29ee778",
   "metadata": {
    "ExecuteTime": {
     "end_time": "2022-03-11T18:33:04.136587Z",
     "start_time": "2022-03-11T18:33:03.862708Z"
    }
   },
   "outputs": [
    {
     "name": "stdout",
     "output_type": "stream",
     "text": [
      "Model: \"sequential\"\n",
      "_________________________________________________________________\n",
      "Layer (type)                 Output Shape              Param #   \n",
      "=================================================================\n",
      "lambda (Lambda)              (None, 64, 64, 3)         0         \n",
      "_________________________________________________________________\n",
      "vgg16 (Functional)           (None, None, None, 512)   14714688  \n",
      "_________________________________________________________________\n",
      "flatten (Flatten)            (None, 2048)              0         \n",
      "_________________________________________________________________\n",
      "dense (Dense)                (None, 19)                38931     \n",
      "=================================================================\n",
      "Total params: 14,753,619\n",
      "Trainable params: 14,753,619\n",
      "Non-trainable params: 0\n",
      "_________________________________________________________________\n"
     ]
    }
   ],
   "source": [
    "from tensorflow.keras.applications.vgg16 import preprocess_input as preprocess_vgg16\n",
    "\n",
    "vgg16 = tf.keras.applications.VGG16(weights=None,\n",
    "                  include_top=False)\n",
    "\n",
    "model_vgg16 = models.Sequential()\n",
    "model_vgg16.add(layers.Lambda(preprocess_vgg16,\n",
    "                             input_shape=(size, size, 3)))\n",
    "model_vgg16.add(vgg16)\n",
    "model_vgg16.add(layers.Flatten())\n",
    "model_vgg16.add(layers.Dense(num_labels, activation='softmax'))\n",
    "\n",
    "model_vgg16.summary()\n",
    "\n",
    "model_vgg16.compile(loss='categorical_crossentropy',\n",
    "                   optimizer=optimizers.Adam(learning_rate=0.0001),\n",
    "                   metrics=['accuracy'])"
   ]
  },
  {
   "cell_type": "code",
   "execution_count": 52,
   "id": "6f270225",
   "metadata": {
    "ExecuteTime": {
     "end_time": "2022-03-11T14:31:01.425328Z",
     "start_time": "2022-03-11T14:11:12.678159Z"
    }
   },
   "outputs": [
    {
     "name": "stdout",
     "output_type": "stream",
     "text": [
      "Epoch 1/30\n",
      "899/899 [==============================] - 119s 131ms/step - loss: 0.7331 - accuracy: 0.7733 - val_loss: 0.3934 - val_accuracy: 0.9021\n",
      "\n",
      "Epoch 00001: val_accuracy improved from -inf to 0.90211, saving model to ./savefiles/base_vgg_wts.hdf5\n",
      "Epoch 2/30\n",
      "899/899 [==============================] - 116s 129ms/step - loss: 0.1989 - accuracy: 0.9400 - val_loss: 0.1167 - val_accuracy: 0.9658\n",
      "\n",
      "Epoch 00002: val_accuracy improved from 0.90211 to 0.96580, saving model to ./savefiles/base_vgg_wts.hdf5\n",
      "Epoch 3/30\n",
      "899/899 [==============================] - 140s 156ms/step - loss: 0.1496 - accuracy: 0.9560 - val_loss: 0.1804 - val_accuracy: 0.9441\n",
      "\n",
      "Epoch 00003: val_accuracy did not improve from 0.96580\n",
      "Epoch 4/30\n",
      "899/899 [==============================] - 116s 128ms/step - loss: 0.1197 - accuracy: 0.9649 - val_loss: 0.1340 - val_accuracy: 0.9602\n",
      "\n",
      "Epoch 00004: val_accuracy did not improve from 0.96580\n",
      "\n",
      "Epoch 00004: ReduceLROnPlateau reducing learning rate to 1.9999999494757503e-05.\n",
      "Epoch 5/30\n",
      "899/899 [==============================] - 118s 131ms/step - loss: 0.0658 - accuracy: 0.9818 - val_loss: 0.0820 - val_accuracy: 0.9795\n",
      "\n",
      "Epoch 00005: val_accuracy improved from 0.96580 to 0.97946, saving model to ./savefiles/base_vgg_wts.hdf5\n",
      "Epoch 6/30\n",
      "899/899 [==============================] - 115s 128ms/step - loss: 0.0574 - accuracy: 0.9834 - val_loss: 0.0864 - val_accuracy: 0.9779\n",
      "\n",
      "Epoch 00006: val_accuracy did not improve from 0.97946\n",
      "Epoch 7/30\n",
      "899/899 [==============================] - 114s 127ms/step - loss: 0.0534 - accuracy: 0.9844 - val_loss: 0.0972 - val_accuracy: 0.9756\n",
      "\n",
      "Epoch 00007: val_accuracy did not improve from 0.97946\n",
      "\n",
      "Epoch 00007: ReduceLROnPlateau reducing learning rate to 1e-05.\n",
      "Epoch 8/30\n",
      "899/899 [==============================] - 116s 129ms/step - loss: 0.0478 - accuracy: 0.9863 - val_loss: 0.0974 - val_accuracy: 0.9773\n",
      "\n",
      "Epoch 00008: val_accuracy did not improve from 0.97946\n",
      "Epoch 9/30\n",
      "899/899 [==============================] - 113s 126ms/step - loss: 0.0418 - accuracy: 0.9878 - val_loss: 0.0901 - val_accuracy: 0.9783\n",
      "\n",
      "Epoch 00009: val_accuracy did not improve from 0.97946\n",
      "Epoch 10/30\n",
      "899/899 [==============================] - 116s 128ms/step - loss: 0.0436 - accuracy: 0.9867 - val_loss: 0.0876 - val_accuracy: 0.9794\n",
      "\n",
      "Epoch 00010: val_accuracy did not improve from 0.97946\n",
      "Epoch 00010: early stopping\n",
      "CPU times: user 19min 25s, sys: 1min 22s, total: 20min 48s\n",
      "Wall time: 19min 48s\n"
     ]
    }
   ],
   "source": [
    "%%time\n",
    "\n",
    "filepath_vgg = save_dir + \"/base_vgg_wts.hdf5\"\n",
    "checkpoint_vgg = ModelCheckpoint(filepath_vgg, monitor='val_accuracy',\n",
    "                             verbose=1, save_best_only=True, mode='max')\n",
    "reduce_lr_vgg = ReduceLROnPlateau(monitor='val_loss', factor=0.2,\n",
    "                              patience=2, min_lr=0.000001, verbose=1)\n",
    "earlystop_vgg = EarlyStopping(monitor='val_accuracy', patience=5, verbose=1)\n",
    "\n",
    "\n",
    "vgg_history = model_vgg16.fit(\n",
    "    keras_train_data,\n",
    "    epochs=epochs,\n",
    "    steps_per_epoch=steps_per_epoch,\n",
    "    validation_steps=validation_steps,\n",
    "    validation_data=keras_val_data,\n",
    "    callbacks=[checkpoint_vgg, reduce_lr_vgg, earlystop_vgg]\n",
    ")"
   ]
  },
  {
   "cell_type": "code",
   "execution_count": 54,
   "id": "c33fb7f8",
   "metadata": {
    "ExecuteTime": {
     "end_time": "2022-03-11T14:31:50.272924Z",
     "start_time": "2022-03-11T14:31:50.266687Z"
    }
   },
   "outputs": [],
   "source": [
    "model_vgg16.load_weights(filepath_vgg)\n",
    "\n",
    "model_vgg16.save(save_dir + '/vgg16.h5')\n",
    "\n",
    "with open(save_dir + '/vgg16_hist.pickle', 'wb') as handle:\n",
    "    pickle.dump(vgg_history.history, handle, protocol=pickle.HIGHEST_PROTOCOL)"
   ]
  },
  {
   "cell_type": "code",
   "execution_count": 56,
   "id": "d635630d",
   "metadata": {
    "ExecuteTime": {
     "end_time": "2022-03-11T14:31:58.875139Z",
     "start_time": "2022-03-11T14:31:58.484947Z"
    }
   },
   "outputs": [
    {
     "data": {
      "image/png": "[encoded data removed]",
      "text/plain": [
       "<Figure size 1080x360 with 2 Axes>"
      ]
     },
     "metadata": {
      "needs_background": "light"
     },
     "output_type": "display_data"
    }
   ],
   "source": [
    "plot_results(vgg_history)"
   ]
  },
  {
   "cell_type": "markdown",
   "id": "17b6651b",
   "metadata": {},
   "source": [
    "#### Tried VGG16 again"
   ]
  },
  {
   "cell_type": "code",
   "execution_count": 20,
   "id": "fd57ecd1",
   "metadata": {
    "ExecuteTime": {
     "end_time": "2022-03-11T19:16:08.434587Z",
     "start_time": "2022-03-11T18:34:03.232256Z"
    }
   },
   "outputs": [
    {
     "name": "stdout",
     "output_type": "stream",
     "text": [
      "Epoch 1/30\n",
      "899/899 [==============================] - 121s 133ms/step - loss: 0.7419 - accuracy: 0.7682 - val_loss: 0.1836 - val_accuracy: 0.9461\n",
      "\n",
      "Epoch 00001: val_accuracy improved from -inf to 0.94610, saving model to ./savefiles/base_vgg_wts_v2.hdf5\n",
      "Epoch 2/30\n",
      "899/899 [==============================] - 112s 125ms/step - loss: 0.1922 - accuracy: 0.9435 - val_loss: 0.1373 - val_accuracy: 0.9583\n",
      "\n",
      "Epoch 00002: val_accuracy improved from 0.94610 to 0.95830, saving model to ./savefiles/base_vgg_wts_v2.hdf5\n",
      "Epoch 3/30\n",
      "899/899 [==============================] - 114s 127ms/step - loss: 0.1415 - accuracy: 0.9576 - val_loss: 0.1619 - val_accuracy: 0.9507\n",
      "\n",
      "Epoch 00003: val_accuracy did not improve from 0.95830\n",
      "Epoch 4/30\n",
      "899/899 [==============================] - 113s 125ms/step - loss: 0.1217 - accuracy: 0.9640 - val_loss: 0.1345 - val_accuracy: 0.9577\n",
      "\n",
      "Epoch 00004: val_accuracy did not improve from 0.95830\n",
      "Epoch 5/30\n",
      "899/899 [==============================] - 115s 127ms/step - loss: 0.1001 - accuracy: 0.9723 - val_loss: 0.1376 - val_accuracy: 0.9577\n",
      "\n",
      "Epoch 00005: val_accuracy did not improve from 0.95830\n",
      "Epoch 6/30\n",
      "899/899 [==============================] - 112s 125ms/step - loss: 0.1004 - accuracy: 0.9714 - val_loss: 0.1229 - val_accuracy: 0.9682\n",
      "\n",
      "Epoch 00006: val_accuracy improved from 0.95830 to 0.96820, saving model to ./savefiles/base_vgg_wts_v2.hdf5\n",
      "Epoch 7/30\n",
      "899/899 [==============================] - 114s 127ms/step - loss: 0.0838 - accuracy: 0.9767 - val_loss: 0.1395 - val_accuracy: 0.9697\n",
      "\n",
      "Epoch 00007: val_accuracy improved from 0.96820 to 0.96966, saving model to ./savefiles/base_vgg_wts_v2.hdf5\n",
      "Epoch 8/30\n",
      "899/899 [==============================] - 115s 127ms/step - loss: 0.0796 - accuracy: 0.9781 - val_loss: 0.1115 - val_accuracy: 0.9707\n",
      "\n",
      "Epoch 00008: val_accuracy improved from 0.96966 to 0.97070, saving model to ./savefiles/base_vgg_wts_v2.hdf5\n",
      "Epoch 9/30\n",
      "899/899 [==============================] - 108s 120ms/step - loss: 0.0740 - accuracy: 0.9792 - val_loss: 0.1610 - val_accuracy: 0.9682\n",
      "\n",
      "Epoch 00009: val_accuracy did not improve from 0.97070\n",
      "Epoch 10/30\n",
      "899/899 [==============================] - 117s 130ms/step - loss: 0.0721 - accuracy: 0.9804 - val_loss: 0.2192 - val_accuracy: 0.9615\n",
      "\n",
      "Epoch 00010: val_accuracy did not improve from 0.97070\n",
      "\n",
      "Epoch 00010: ReduceLROnPlateau reducing learning rate to 1.9999999494757503e-05.\n",
      "Epoch 11/30\n",
      "899/899 [==============================] - 114s 127ms/step - loss: 0.0409 - accuracy: 0.9885 - val_loss: 0.1022 - val_accuracy: 0.9765\n",
      "\n",
      "Epoch 00011: val_accuracy improved from 0.97070 to 0.97654, saving model to ./savefiles/base_vgg_wts_v2.hdf5\n",
      "Epoch 12/30\n",
      "899/899 [==============================] - 113s 125ms/step - loss: 0.0386 - accuracy: 0.9888 - val_loss: 0.0904 - val_accuracy: 0.9805\n",
      "\n",
      "Epoch 00012: val_accuracy improved from 0.97654 to 0.98050, saving model to ./savefiles/base_vgg_wts_v2.hdf5\n",
      "Epoch 13/30\n",
      "899/899 [==============================] - 115s 127ms/step - loss: 0.0358 - accuracy: 0.9902 - val_loss: 0.0800 - val_accuracy: 0.9836\n",
      "\n",
      "Epoch 00013: val_accuracy improved from 0.98050 to 0.98363, saving model to ./savefiles/base_vgg_wts_v2.hdf5\n",
      "Epoch 14/30\n",
      "899/899 [==============================] - 117s 130ms/step - loss: 0.0324 - accuracy: 0.9909 - val_loss: 0.0865 - val_accuracy: 0.9826\n",
      "\n",
      "Epoch 00014: val_accuracy did not improve from 0.98363\n",
      "Epoch 15/30\n",
      "899/899 [==============================] - 115s 128ms/step - loss: 0.0324 - accuracy: 0.9908 - val_loss: 0.1031 - val_accuracy: 0.9783\n",
      "\n",
      "Epoch 00015: val_accuracy did not improve from 0.98363\n",
      "\n",
      "Epoch 00015: ReduceLROnPlateau reducing learning rate to 3.999999898951501e-06.\n",
      "Epoch 16/30\n",
      "899/899 [==============================] - 110s 122ms/step - loss: 0.0305 - accuracy: 0.9911 - val_loss: 0.0808 - val_accuracy: 0.9833\n",
      "\n",
      "Epoch 00016: val_accuracy did not improve from 0.98363\n",
      "Epoch 17/30\n",
      "899/899 [==============================] - 115s 128ms/step - loss: 0.0297 - accuracy: 0.9915 - val_loss: 0.0732 - val_accuracy: 0.9851\n",
      "\n",
      "Epoch 00017: val_accuracy improved from 0.98363 to 0.98509, saving model to ./savefiles/base_vgg_wts_v2.hdf5\n",
      "Epoch 18/30\n",
      "899/899 [==============================] - 117s 130ms/step - loss: 0.0257 - accuracy: 0.9920 - val_loss: 0.0884 - val_accuracy: 0.9827\n",
      "\n",
      "Epoch 00018: val_accuracy did not improve from 0.98509\n",
      "Epoch 19/30\n",
      "899/899 [==============================] - 115s 128ms/step - loss: 0.0258 - accuracy: 0.9923 - val_loss: 0.0848 - val_accuracy: 0.9834\n",
      "\n",
      "Epoch 00019: val_accuracy did not improve from 0.98509\n",
      "\n",
      "Epoch 00019: ReduceLROnPlateau reducing learning rate to 1e-06.\n",
      "Epoch 20/30\n",
      "899/899 [==============================] - 116s 129ms/step - loss: 0.0253 - accuracy: 0.9931 - val_loss: 0.0798 - val_accuracy: 0.9850\n",
      "\n",
      "Epoch 00020: val_accuracy did not improve from 0.98509\n",
      "Epoch 21/30\n",
      "899/899 [==============================] - 115s 128ms/step - loss: 0.0248 - accuracy: 0.9931 - val_loss: 0.0817 - val_accuracy: 0.9847\n",
      "\n",
      "Epoch 00021: val_accuracy did not improve from 0.98509\n",
      "Epoch 22/30\n",
      "899/899 [==============================] - 113s 126ms/step - loss: 0.0276 - accuracy: 0.9916 - val_loss: 0.0801 - val_accuracy: 0.9847\n",
      "\n",
      "Epoch 00022: val_accuracy did not improve from 0.98509\n",
      "Epoch 00022: early stopping\n",
      "CPU times: user 43min 4s, sys: 3min 5s, total: 46min 10s\n",
      "Wall time: 42min 5s\n"
     ]
    }
   ],
   "source": [
    "%%time\n",
    "\n",
    "filepath_vgg = save_dir + \"/base_vgg_wts_v2.hdf5\"\n",
    "checkpoint_vgg = ModelCheckpoint(filepath_vgg, monitor='val_accuracy',\n",
    "                             verbose=1, save_best_only=True, mode='max')\n",
    "reduce_lr_vgg = ReduceLROnPlateau(monitor='val_loss', factor=0.2,\n",
    "                              patience=2, min_lr=0.000001, verbose=1)\n",
    "earlystop_vgg = EarlyStopping(monitor='val_accuracy', patience=5, verbose=1)\n",
    "\n",
    "\n",
    "vgg_history = model_vgg16.fit(\n",
    "    keras_train_data,\n",
    "    epochs=epochs,\n",
    "    steps_per_epoch=steps_per_epoch,\n",
    "    validation_steps=validation_steps,\n",
    "    validation_data=keras_val_data,\n",
    "    callbacks=[checkpoint_vgg, reduce_lr_vgg, earlystop_vgg]\n",
    ")"
   ]
  },
  {
   "cell_type": "code",
   "execution_count": 21,
   "id": "c512bcce",
   "metadata": {
    "ExecuteTime": {
     "end_time": "2022-03-11T19:16:09.612612Z",
     "start_time": "2022-03-11T19:16:08.438534Z"
    }
   },
   "outputs": [],
   "source": [
    "model_vgg16.load_weights(filepath_vgg)\n",
    "\n",
    "model_vgg16.save(save_dir + '/vgg16_v2.h5')\n",
    "\n",
    "with open(save_dir + '/vgg16_hist_v2.pickle', 'wb') as handle:\n",
    "    pickle.dump(vgg_history.history, handle, protocol=pickle.HIGHEST_PROTOCOL)"
   ]
  },
  {
   "cell_type": "code",
   "execution_count": 24,
   "id": "18b2b694",
   "metadata": {
    "ExecuteTime": {
     "end_time": "2022-03-11T19:32:06.014165Z",
     "start_time": "2022-03-11T19:32:05.438764Z"
    }
   },
   "outputs": [
    {
     "data": {
      "image/png": "[encoded data removed]",
      "text/plain": [
       "<Figure size 1080x360 with 2 Axes>"
      ]
     },
     "metadata": {
      "needs_background": "light"
     },
     "output_type": "display_data"
    }
   ],
   "source": [
    "plot_results(vgg_history)"
   ]
  },
  {
   "cell_type": "markdown",
   "id": "7c05d26c",
   "metadata": {},
   "source": [
    "### ResNet50"
   ]
  },
  {
   "cell_type": "code",
   "execution_count": 34,
   "id": "9ac115a7",
   "metadata": {
    "ExecuteTime": {
     "end_time": "2022-03-14T06:34:33.325626Z",
     "start_time": "2022-03-14T06:34:32.836317Z"
    }
   },
   "outputs": [
    {
     "data": {
      "text/plain": [
       "33653"
      ]
     },
     "execution_count": 34,
     "metadata": {},
     "output_type": "execute_result"
    }
   ],
   "source": [
    "tf.keras.backend.clear_session()\n",
    "gc.collect()"
   ]
  },
  {
   "cell_type": "code",
   "execution_count": 38,
   "id": "910c1013",
   "metadata": {
    "ExecuteTime": {
     "end_time": "2022-03-14T06:38:53.587744Z",
     "start_time": "2022-03-14T06:38:51.635106Z"
    }
   },
   "outputs": [
    {
     "name": "stdout",
     "output_type": "stream",
     "text": [
      "Model: \"sequential_1\"\n",
      "_________________________________________________________________\n",
      "Layer (type)                 Output Shape              Param #   \n",
      "=================================================================\n",
      "lambda_1 (Lambda)            (None, 64, 64, 3)         0         \n",
      "_________________________________________________________________\n",
      "resnet50 (Functional)        (None, None, None, 2048)  23587712  \n",
      "_________________________________________________________________\n",
      "flatten_1 (Flatten)          (None, 8192)              0         \n",
      "_________________________________________________________________\n",
      "dense_2 (Dense)              (None, 19)                155667    \n",
      "=================================================================\n",
      "Total params: 23,743,379\n",
      "Trainable params: 23,690,259\n",
      "Non-trainable params: 53,120\n",
      "_________________________________________________________________\n"
     ]
    }
   ],
   "source": [
    "from tensorflow.keras.applications.resnet50 import preprocess_input as preprocess_res50\n",
    "\n",
    "resnet50 = tf.keras.applications.ResNet50(\n",
    "    include_top=False,\n",
    "    weights=None)\n",
    "\n",
    "model_res50 = models.Sequential()\n",
    "\n",
    "model_res50.add(layers.Lambda(preprocess_res50,\n",
    "                             input_shape=(size, size, 3)))\n",
    "model_res50.add(resnet50)\n",
    "model_res50.add(layers.Flatten())\n",
    "# model_res50.add(layers.Dense(32, activation=\"relu\"))\n",
    "# model_effb0.add(layers.Dropout(0.6))\n",
    "model_res50.add(layers.Dense(num_labels, activation='softmax'))\n",
    "\n",
    "model_res50.summary()\n",
    "\n",
    "model_res50.compile(loss='categorical_crossentropy',\n",
    "                    optimizer=optimizers.Adam(learning_rate=0.0001),\n",
    "                    metrics=['accuracy'])"
   ]
  },
  {
   "cell_type": "code",
   "execution_count": 39,
   "id": "5ff86077",
   "metadata": {
    "ExecuteTime": {
     "end_time": "2022-03-14T07:26:39.591621Z",
     "start_time": "2022-03-14T06:38:56.840687Z"
    }
   },
   "outputs": [
    {
     "name": "stdout",
     "output_type": "stream",
     "text": [
      "Epoch 1/30\n",
      "899/899 [==============================] - 123s 131ms/step - loss: 2.6374 - accuracy: 0.2764 - val_loss: 2.0328 - val_accuracy: 0.4513\n",
      "\n",
      "Epoch 00001: val_accuracy improved from -inf to 0.45131, saving model to ./savefiles/base_res_wts.hdf5\n",
      "Epoch 2/30\n",
      "899/899 [==============================] - 115s 127ms/step - loss: 1.1996 - accuracy: 0.6260 - val_loss: 1.1956 - val_accuracy: 0.6686\n",
      "\n",
      "Epoch 00002: val_accuracy improved from 0.45131 to 0.66858, saving model to ./savefiles/base_res_wts.hdf5\n",
      "Epoch 3/30\n",
      "899/899 [==============================] - 115s 127ms/step - loss: 0.7017 - accuracy: 0.7832 - val_loss: 0.7144 - val_accuracy: 0.8098\n",
      "\n",
      "Epoch 00003: val_accuracy improved from 0.66858 to 0.80984, saving model to ./savefiles/base_res_wts.hdf5\n",
      "Epoch 4/30\n",
      "899/899 [==============================] - 110s 122ms/step - loss: 0.4655 - accuracy: 0.8600 - val_loss: 0.6326 - val_accuracy: 0.8337\n",
      "\n",
      "Epoch 00004: val_accuracy improved from 0.80984 to 0.83372, saving model to ./savefiles/base_res_wts.hdf5\n",
      "Epoch 5/30\n",
      "899/899 [==============================] - 112s 124ms/step - loss: 0.3632 - accuracy: 0.8918 - val_loss: 0.5119 - val_accuracy: 0.8771\n",
      "\n",
      "Epoch 00005: val_accuracy improved from 0.83372 to 0.87709, saving model to ./savefiles/base_res_wts.hdf5\n",
      "Epoch 6/30\n",
      "899/899 [==============================] - 112s 124ms/step - loss: 0.2951 - accuracy: 0.9124 - val_loss: 0.4349 - val_accuracy: 0.8898\n",
      "\n",
      "Epoch 00006: val_accuracy improved from 0.87709 to 0.88980, saving model to ./savefiles/base_res_wts.hdf5\n",
      "Epoch 7/30\n",
      "899/899 [==============================] - 116s 129ms/step - loss: 0.2585 - accuracy: 0.9253 - val_loss: 0.5411 - val_accuracy: 0.9086\n",
      "\n",
      "Epoch 00007: val_accuracy improved from 0.88980 to 0.90857, saving model to ./savefiles/base_res_wts.hdf5\n",
      "Epoch 8/30\n",
      "899/899 [==============================] - 109s 121ms/step - loss: 0.2209 - accuracy: 0.9364 - val_loss: 0.3413 - val_accuracy: 0.9125\n",
      "\n",
      "Epoch 00008: val_accuracy improved from 0.90857 to 0.91253, saving model to ./savefiles/base_res_wts.hdf5\n",
      "Epoch 9/30\n",
      "899/899 [==============================] - 111s 124ms/step - loss: 0.2020 - accuracy: 0.9420 - val_loss: 0.3261 - val_accuracy: 0.9206\n",
      "\n",
      "Epoch 00009: val_accuracy improved from 0.91253 to 0.92056, saving model to ./savefiles/base_res_wts.hdf5\n",
      "Epoch 10/30\n",
      "899/899 [==============================] - 116s 129ms/step - loss: 0.1991 - accuracy: 0.9452 - val_loss: 0.6183 - val_accuracy: 0.8699\n",
      "\n",
      "Epoch 00010: val_accuracy did not improve from 0.92056\n",
      "Epoch 11/30\n",
      "899/899 [==============================] - 113s 125ms/step - loss: 0.1754 - accuracy: 0.9516 - val_loss: 0.2760 - val_accuracy: 0.9374\n",
      "\n",
      "Epoch 00011: val_accuracy improved from 0.92056 to 0.93745, saving model to ./savefiles/base_res_wts.hdf5\n",
      "Epoch 12/30\n",
      "899/899 [==============================] - 112s 125ms/step - loss: 0.1440 - accuracy: 0.9594 - val_loss: 2.0288 - val_accuracy: 0.8307\n",
      "\n",
      "Epoch 00012: val_accuracy did not improve from 0.93745\n",
      "Epoch 13/30\n",
      "899/899 [==============================] - 113s 126ms/step - loss: 0.1998 - accuracy: 0.9486 - val_loss: 0.3154 - val_accuracy: 0.9361\n",
      "\n",
      "Epoch 00013: val_accuracy did not improve from 0.93745\n",
      "\n",
      "Epoch 00013: ReduceLROnPlateau reducing learning rate to 1.9999999494757503e-05.\n",
      "Epoch 14/30\n",
      "899/899 [==============================] - 114s 127ms/step - loss: 0.1017 - accuracy: 0.9717 - val_loss: 0.1162 - val_accuracy: 0.9681\n",
      "\n",
      "Epoch 00014: val_accuracy improved from 0.93745 to 0.96810, saving model to ./savefiles/base_res_wts.hdf5\n",
      "Epoch 15/30\n",
      "899/899 [==============================] - 114s 126ms/step - loss: 0.0765 - accuracy: 0.9771 - val_loss: 0.1051 - val_accuracy: 0.9712\n",
      "\n",
      "Epoch 00015: val_accuracy improved from 0.96810 to 0.97123, saving model to ./savefiles/base_res_wts.hdf5\n",
      "Epoch 16/30\n",
      "899/899 [==============================] - 111s 123ms/step - loss: 0.0657 - accuracy: 0.9805 - val_loss: 0.1149 - val_accuracy: 0.9693\n",
      "\n",
      "Epoch 00016: val_accuracy did not improve from 0.97123\n",
      "Epoch 17/30\n",
      "899/899 [==============================] - 111s 123ms/step - loss: 0.0641 - accuracy: 0.9805 - val_loss: 0.0941 - val_accuracy: 0.9753\n",
      "\n",
      "Epoch 00017: val_accuracy improved from 0.97123 to 0.97529, saving model to ./savefiles/base_res_wts.hdf5\n",
      "Epoch 18/30\n",
      "899/899 [==============================] - 112s 125ms/step - loss: 0.0644 - accuracy: 0.9802 - val_loss: 0.1106 - val_accuracy: 0.9695\n",
      "\n",
      "Epoch 00018: val_accuracy did not improve from 0.97529\n",
      "Epoch 19/30\n",
      "899/899 [==============================] - 115s 128ms/step - loss: 0.0619 - accuracy: 0.9810 - val_loss: 0.1170 - val_accuracy: 0.9701\n",
      "\n",
      "Epoch 00019: val_accuracy did not improve from 0.97529\n",
      "\n",
      "Epoch 00019: ReduceLROnPlateau reducing learning rate to 3.999999898951501e-06.\n",
      "Epoch 20/30\n",
      "899/899 [==============================] - 111s 124ms/step - loss: 0.0540 - accuracy: 0.9842 - val_loss: 0.0900 - val_accuracy: 0.9772\n",
      "\n",
      "Epoch 00020: val_accuracy improved from 0.97529 to 0.97717, saving model to ./savefiles/base_res_wts.hdf5\n",
      "Epoch 21/30\n",
      "899/899 [==============================] - 115s 127ms/step - loss: 0.0481 - accuracy: 0.9848 - val_loss: 0.0924 - val_accuracy: 0.9754\n",
      "\n",
      "Epoch 00021: val_accuracy did not improve from 0.97717\n",
      "Epoch 22/30\n",
      "899/899 [==============================] - 108s 120ms/step - loss: 0.0494 - accuracy: 0.9850 - val_loss: 0.0917 - val_accuracy: 0.9764\n",
      "\n",
      "Epoch 00022: val_accuracy did not improve from 0.97717\n",
      "\n",
      "Epoch 00022: ReduceLROnPlateau reducing learning rate to 1e-06.\n",
      "Epoch 23/30\n",
      "899/899 [==============================] - 114s 127ms/step - loss: 0.0467 - accuracy: 0.9861 - val_loss: 0.0911 - val_accuracy: 0.9764\n",
      "\n",
      "Epoch 00023: val_accuracy did not improve from 0.97717\n",
      "Epoch 24/30\n",
      "899/899 [==============================] - 114s 126ms/step - loss: 0.0442 - accuracy: 0.9866 - val_loss: 0.0882 - val_accuracy: 0.9772\n",
      "\n",
      "Epoch 00024: val_accuracy did not improve from 0.97717\n",
      "Epoch 25/30\n",
      "899/899 [==============================] - 111s 123ms/step - loss: 0.0489 - accuracy: 0.9855 - val_loss: 0.0900 - val_accuracy: 0.9764\n",
      "\n",
      "Epoch 00025: val_accuracy did not improve from 0.97717\n",
      "Epoch 00025: early stopping\n",
      "CPU times: user 59min 1s, sys: 3min 35s, total: 1h 2min 36s\n",
      "Wall time: 47min 42s\n"
     ]
    }
   ],
   "source": [
    "%%time\n",
    "\n",
    "filepath_res = save_dir + \"/base_res_wts.hdf5\"\n",
    "checkpoint_res = ModelCheckpoint(filepath_res, monitor='val_accuracy',\n",
    "                             verbose=1, save_best_only=True, mode='max')\n",
    "reduce_lr_res = ReduceLROnPlateau(monitor='val_loss', factor=0.2,\n",
    "                              patience=2, min_lr=0.000001, verbose=1)\n",
    "earlystop_res = EarlyStopping(monitor='val_accuracy', patience=5, verbose=1)\n",
    "\n",
    "\n",
    "res_history = model_res50.fit(\n",
    "    keras_train_data,\n",
    "    epochs=epochs,\n",
    "    steps_per_epoch=steps_per_epoch,\n",
    "    validation_steps=validation_steps,\n",
    "    validation_data=keras_val_data,\n",
    "    callbacks=[checkpoint_res, reduce_lr_res, earlystop_res]\n",
    ")"
   ]
  },
  {
   "cell_type": "code",
   "execution_count": 41,
   "id": "9d6c2f68",
   "metadata": {
    "ExecuteTime": {
     "end_time": "2022-03-14T07:26:42.134036Z",
     "start_time": "2022-03-14T07:26:40.003262Z"
    }
   },
   "outputs": [],
   "source": [
    "model_res50.load_weights(filepath_res)\n",
    "\n",
    "model_res50.save(save_dir + '/res50.h5')\n",
    "\n",
    "with open(save_dir + '/res50_hist.pickle', 'wb') as handle:\n",
    "    pickle.dump(res_history.history, handle, protocol=pickle.HIGHEST_PROTOCOL)"
   ]
  },
  {
   "cell_type": "code",
   "execution_count": 43,
   "id": "78c7fd4f",
   "metadata": {
    "ExecuteTime": {
     "end_time": "2022-03-14T07:26:42.647673Z",
     "start_time": "2022-03-14T07:26:42.145055Z"
    }
   },
   "outputs": [
    {
     "data": {
      "image/png": "[encoded data removed]",
      "text/plain": [
       "<Figure size 1080x360 with 2 Axes>"
      ]
     },
     "metadata": {
      "needs_background": "light"
     },
     "output_type": "display_data"
    }
   ],
   "source": [
    "plot_results(res_history)"
   ]
  },
  {
   "cell_type": "code",
   "execution_count": null,
   "id": "aa0ba0fd",
   "metadata": {},
   "outputs": [],
   "source": []
  },
  {
   "cell_type": "markdown",
   "id": "aa416f70",
   "metadata": {},
   "source": [
    "### EfficientNet"
   ]
  },
  {
   "cell_type": "code",
   "execution_count": 40,
   "id": "a6652824",
   "metadata": {
    "ExecuteTime": {
     "end_time": "2022-03-14T07:26:40.001396Z",
     "start_time": "2022-03-14T07:26:39.596311Z"
    }
   },
   "outputs": [
    {
     "data": {
      "text/plain": [
       "2857"
      ]
     },
     "execution_count": 40,
     "metadata": {},
     "output_type": "execute_result"
    }
   ],
   "source": [
    "tf.keras.backend.clear_session()\n",
    "gc.collect()"
   ]
  },
  {
   "cell_type": "code",
   "execution_count": 44,
   "id": "f10fcf1a",
   "metadata": {
    "ExecuteTime": {
     "end_time": "2022-03-14T07:26:45.343220Z",
     "start_time": "2022-03-14T07:26:43.416363Z"
    }
   },
   "outputs": [
    {
     "name": "stdout",
     "output_type": "stream",
     "text": [
      "Model: \"sequential\"\n",
      "_________________________________________________________________\n",
      "Layer (type)                 Output Shape              Param #   \n",
      "=================================================================\n",
      "efficientnetb0 (Functional)  (None, 2, 2, 1280)        4049571   \n",
      "_________________________________________________________________\n",
      "flatten (Flatten)            (None, 5120)              0         \n",
      "_________________________________________________________________\n",
      "dense (Dense)                (None, 19)                97299     \n",
      "=================================================================\n",
      "Total params: 4,146,870\n",
      "Trainable params: 4,104,847\n",
      "Non-trainable params: 42,023\n",
      "_________________________________________________________________\n"
     ]
    }
   ],
   "source": [
    "effnetb0 = tf.keras.applications.EfficientNetB0(\n",
    "    include_top=False,\n",
    "    weights=None,\n",
    "    input_shape=(size, size, 3))\n",
    "\n",
    "model_effb0 = models.Sequential()\n",
    "\n",
    "model_effb0.add(effnetb0)\n",
    "model_effb0.add(layers.Flatten())\n",
    "# model_effb0.add(layers.Dense(32, activation=\"relu\"))\n",
    "# model_effb0.add(layers.Dropout(0.6))\n",
    "model_effb0.add(layers.Dense(num_labels, activation='softmax'))\n",
    "\n",
    "model_effb0.summary()\n",
    "\n",
    "model_effb0.compile(loss='categorical_crossentropy',\n",
    "                    optimizer=optimizers.Adam(learning_rate=0.0001),\n",
    "                    metrics=['accuracy'])"
   ]
  },
  {
   "cell_type": "code",
   "execution_count": 45,
   "id": "69ae67f5",
   "metadata": {
    "ExecuteTime": {
     "end_time": "2022-03-14T08:25:27.404019Z",
     "start_time": "2022-03-14T07:26:45.346092Z"
    }
   },
   "outputs": [
    {
     "name": "stdout",
     "output_type": "stream",
     "text": [
      "Epoch 1/30\n",
      "899/899 [==============================] - 127s 130ms/step - loss: 2.9586 - accuracy: 0.1144 - val_loss: 7.9886 - val_accuracy: 0.1046\n",
      "\n",
      "Epoch 00001: val_accuracy improved from -inf to 0.10457, saving model to ./savefiles/base_eff_wts.hdf5\n",
      "Epoch 2/30\n",
      "899/899 [==============================] - 110s 122ms/step - loss: 2.5397 - accuracy: 0.2229 - val_loss: 5.6488 - val_accuracy: 0.1860\n",
      "\n",
      "Epoch 00002: val_accuracy improved from 0.10457 to 0.18599, saving model to ./savefiles/base_eff_wts.hdf5\n",
      "Epoch 3/30\n",
      "899/899 [==============================] - 112s 124ms/step - loss: 2.0065 - accuracy: 0.3571 - val_loss: 2.9666 - val_accuracy: 0.3832\n",
      "\n",
      "Epoch 00003: val_accuracy improved from 0.18599 to 0.38324, saving model to ./savefiles/base_eff_wts.hdf5\n",
      "Epoch 4/30\n",
      "899/899 [==============================] - 113s 125ms/step - loss: 1.5145 - accuracy: 0.5040 - val_loss: 1.7189 - val_accuracy: 0.5303\n",
      "\n",
      "Epoch 00004: val_accuracy improved from 0.38324 to 0.53034, saving model to ./savefiles/base_eff_wts.hdf5\n",
      "Epoch 5/30\n",
      "899/899 [==============================] - 109s 121ms/step - loss: 1.1453 - accuracy: 0.6221 - val_loss: 0.9836 - val_accuracy: 0.6997\n",
      "\n",
      "Epoch 00005: val_accuracy improved from 0.53034 to 0.69975, saving model to ./savefiles/base_eff_wts.hdf5\n",
      "Epoch 6/30\n",
      "899/899 [==============================] - 113s 125ms/step - loss: 0.8543 - accuracy: 0.7204 - val_loss: 0.7962 - val_accuracy: 0.7681\n",
      "\n",
      "Epoch 00006: val_accuracy improved from 0.69975 to 0.76814, saving model to ./savefiles/base_eff_wts.hdf5\n",
      "Epoch 7/30\n",
      "899/899 [==============================] - 167s 186ms/step - loss: 0.6636 - accuracy: 0.7862 - val_loss: 0.6349 - val_accuracy: 0.8158\n",
      "\n",
      "Epoch 00007: val_accuracy improved from 0.76814 to 0.81578, saving model to ./savefiles/base_eff_wts.hdf5\n",
      "Epoch 8/30\n",
      "899/899 [==============================] - 168s 187ms/step - loss: 0.5269 - accuracy: 0.8334 - val_loss: 0.4851 - val_accuracy: 0.8570\n",
      "\n",
      "Epoch 00008: val_accuracy improved from 0.81578 to 0.85696, saving model to ./savefiles/base_eff_wts.hdf5\n",
      "Epoch 9/30\n",
      "899/899 [==============================] - 117s 130ms/step - loss: 0.4368 - accuracy: 0.8602 - val_loss: 0.4137 - val_accuracy: 0.8767\n",
      "\n",
      "Epoch 00009: val_accuracy improved from 0.85696 to 0.87667, saving model to ./savefiles/base_eff_wts.hdf5\n",
      "Epoch 10/30\n",
      "899/899 [==============================] - 117s 129ms/step - loss: 0.3723 - accuracy: 0.8814 - val_loss: 0.3358 - val_accuracy: 0.9058\n",
      "\n",
      "Epoch 00010: val_accuracy improved from 0.87667 to 0.90575, saving model to ./savefiles/base_eff_wts.hdf5\n",
      "Epoch 11/30\n",
      "899/899 [==============================] - 113s 125ms/step - loss: 0.3288 - accuracy: 0.8972 - val_loss: 0.3954 - val_accuracy: 0.8849\n",
      "\n",
      "Epoch 00011: val_accuracy did not improve from 0.90575\n",
      "Epoch 12/30\n",
      "899/899 [==============================] - 112s 124ms/step - loss: 0.2794 - accuracy: 0.9111 - val_loss: 0.4048 - val_accuracy: 0.8978\n",
      "\n",
      "Epoch 00012: val_accuracy did not improve from 0.90575\n",
      "\n",
      "Epoch 00012: ReduceLROnPlateau reducing learning rate to 1.9999999494757503e-05.\n",
      "Epoch 13/30\n",
      "899/899 [==============================] - 110s 122ms/step - loss: 0.2334 - accuracy: 0.9252 - val_loss: 0.3083 - val_accuracy: 0.9182\n",
      "\n",
      "Epoch 00013: val_accuracy improved from 0.90575 to 0.91816, saving model to ./savefiles/base_eff_wts.hdf5\n",
      "Epoch 14/30\n",
      "899/899 [==============================] - 113s 125ms/step - loss: 0.2177 - accuracy: 0.9326 - val_loss: 0.2964 - val_accuracy: 0.9197\n",
      "\n",
      "Epoch 00014: val_accuracy improved from 0.91816 to 0.91972, saving model to ./savefiles/base_eff_wts.hdf5\n",
      "Epoch 15/30\n",
      "899/899 [==============================] - 111s 123ms/step - loss: 0.2001 - accuracy: 0.9374 - val_loss: 0.2942 - val_accuracy: 0.9208\n",
      "\n",
      "Epoch 00015: val_accuracy improved from 0.91972 to 0.92077, saving model to ./savefiles/base_eff_wts.hdf5\n",
      "Epoch 16/30\n",
      "899/899 [==============================] - 110s 123ms/step - loss: 0.1958 - accuracy: 0.9365 - val_loss: 0.2857 - val_accuracy: 0.9236\n",
      "\n",
      "Epoch 00016: val_accuracy improved from 0.92077 to 0.92358, saving model to ./savefiles/base_eff_wts.hdf5\n",
      "Epoch 17/30\n",
      "899/899 [==============================] - 113s 126ms/step - loss: 0.1863 - accuracy: 0.9408 - val_loss: 0.2749 - val_accuracy: 0.9239\n",
      "\n",
      "Epoch 00017: val_accuracy improved from 0.92358 to 0.92389, saving model to ./savefiles/base_eff_wts.hdf5\n",
      "Epoch 18/30\n",
      "899/899 [==============================] - 114s 126ms/step - loss: 0.1910 - accuracy: 0.9381 - val_loss: 0.2881 - val_accuracy: 0.9229\n",
      "\n",
      "Epoch 00018: val_accuracy did not improve from 0.92389\n",
      "Epoch 19/30\n",
      "899/899 [==============================] - 114s 127ms/step - loss: 0.1837 - accuracy: 0.9414 - val_loss: 0.2768 - val_accuracy: 0.9265\n",
      "\n",
      "Epoch 00019: val_accuracy improved from 0.92389 to 0.92650, saving model to ./savefiles/base_eff_wts.hdf5\n",
      "\n",
      "Epoch 00019: ReduceLROnPlateau reducing learning rate to 3.999999898951501e-06.\n",
      "Epoch 20/30\n",
      "899/899 [==============================] - 114s 127ms/step - loss: 0.1704 - accuracy: 0.9462 - val_loss: 0.2747 - val_accuracy: 0.9258\n",
      "\n",
      "Epoch 00020: val_accuracy did not improve from 0.92650\n",
      "Epoch 21/30\n",
      "899/899 [==============================] - 112s 124ms/step - loss: 0.1691 - accuracy: 0.9476 - val_loss: 0.2828 - val_accuracy: 0.9249\n",
      "\n",
      "Epoch 00021: val_accuracy did not improve from 0.92650\n",
      "Epoch 22/30\n",
      "899/899 [==============================] - 114s 126ms/step - loss: 0.1687 - accuracy: 0.9460 - val_loss: 0.2694 - val_accuracy: 0.9278\n",
      "\n",
      "Epoch 00022: val_accuracy improved from 0.92650 to 0.92775, saving model to ./savefiles/base_eff_wts.hdf5\n",
      "Epoch 23/30\n",
      "899/899 [==============================] - 110s 122ms/step - loss: 0.1666 - accuracy: 0.9474 - val_loss: 0.2645 - val_accuracy: 0.9296\n",
      "\n",
      "Epoch 00023: val_accuracy improved from 0.92775 to 0.92963, saving model to ./savefiles/base_eff_wts.hdf5\n",
      "Epoch 24/30\n",
      "899/899 [==============================] - 113s 125ms/step - loss: 0.1645 - accuracy: 0.9496 - val_loss: 0.2688 - val_accuracy: 0.9283\n",
      "\n",
      "Epoch 00024: val_accuracy did not improve from 0.92963\n",
      "Epoch 25/30\n",
      "899/899 [==============================] - 112s 124ms/step - loss: 0.1659 - accuracy: 0.9483 - val_loss: 0.2648 - val_accuracy: 0.9300\n",
      "\n",
      "Epoch 00025: val_accuracy improved from 0.92963 to 0.93005, saving model to ./savefiles/base_eff_wts.hdf5\n",
      "\n",
      "Epoch 00025: ReduceLROnPlateau reducing learning rate to 1e-06.\n",
      "Epoch 26/30\n",
      "899/899 [==============================] - 116s 128ms/step - loss: 0.1594 - accuracy: 0.9496 - val_loss: 0.2718 - val_accuracy: 0.9288\n",
      "\n",
      "Epoch 00026: val_accuracy did not improve from 0.93005\n",
      "Epoch 27/30\n",
      "899/899 [==============================] - 115s 128ms/step - loss: 0.1656 - accuracy: 0.9487 - val_loss: 0.2654 - val_accuracy: 0.9304\n",
      "\n",
      "Epoch 00027: val_accuracy improved from 0.93005 to 0.93036, saving model to ./savefiles/base_eff_wts.hdf5\n",
      "Epoch 28/30\n",
      "899/899 [==============================] - 114s 126ms/step - loss: 0.1626 - accuracy: 0.9501 - val_loss: 0.2685 - val_accuracy: 0.9291\n",
      "\n",
      "Epoch 00028: val_accuracy did not improve from 0.93036\n",
      "Epoch 29/30\n",
      "899/899 [==============================] - 113s 126ms/step - loss: 0.1642 - accuracy: 0.9480 - val_loss: 0.2704 - val_accuracy: 0.9289\n",
      "\n",
      "Epoch 00029: val_accuracy did not improve from 0.93036\n",
      "Epoch 30/30\n",
      "899/899 [==============================] - 111s 123ms/step - loss: 0.1607 - accuracy: 0.9487 - val_loss: 0.2694 - val_accuracy: 0.9282\n",
      "\n",
      "Epoch 00030: val_accuracy did not improve from 0.93036\n",
      "CPU times: user 1h 20min 18s, sys: 5min 4s, total: 1h 25min 23s\n",
      "Wall time: 58min 42s\n"
     ]
    }
   ],
   "source": [
    "%%time\n",
    "\n",
    "filepath_eff = save_dir + \"/base_eff_wts.hdf5\"\n",
    "checkpoint_eff = ModelCheckpoint(filepath_eff, monitor='val_accuracy',\n",
    "                             verbose=1, save_best_only=True, mode='max')\n",
    "reduce_lr_eff = ReduceLROnPlateau(monitor='val_loss', factor=0.2,\n",
    "                              patience=2, min_lr=0.000001, verbose=1)\n",
    "earlystop_eff = EarlyStopping(monitor='val_accuracy', patience=5, verbose=1)\n",
    "\n",
    "\n",
    "eff_history = model_effb0.fit(\n",
    "    keras_train_data,\n",
    "    epochs=epochs,\n",
    "    steps_per_epoch=steps_per_epoch,\n",
    "    validation_steps=validation_steps,\n",
    "    validation_data=keras_val_data,\n",
    "    callbacks=[checkpoint_eff, reduce_lr_eff, earlystop_eff]\n",
    ")"
   ]
  },
  {
   "cell_type": "code",
   "execution_count": 46,
   "id": "13501bb2",
   "metadata": {
    "ExecuteTime": {
     "end_time": "2022-03-14T08:25:28.482959Z",
     "start_time": "2022-03-14T08:25:27.406921Z"
    }
   },
   "outputs": [],
   "source": [
    "model_effb0.load_weights(filepath_eff)\n",
    "\n",
    "model_effb0.save(save_dir + '/effb0.h5')\n",
    "\n",
    "with open(save_dir + '/effb0_hist.pickle', 'wb') as handle:\n",
    "    pickle.dump(eff_history.history, handle, protocol=pickle.HIGHEST_PROTOCOL)"
   ]
  },
  {
   "cell_type": "code",
   "execution_count": 47,
   "id": "b40376c8",
   "metadata": {
    "ExecuteTime": {
     "end_time": "2022-03-14T08:25:28.827661Z",
     "start_time": "2022-03-14T08:25:28.485488Z"
    }
   },
   "outputs": [
    {
     "data": {
      "image/png": "[encoded data removed]",
      "text/plain": [
       "<Figure size 1080x360 with 2 Axes>"
      ]
     },
     "metadata": {
      "needs_background": "light"
     },
     "output_type": "display_data"
    }
   ],
   "source": [
    "plot_results(eff_history)"
   ]
  },
  {
   "cell_type": "code",
   "execution_count": null,
   "id": "96fb48a6",
   "metadata": {},
   "outputs": [],
   "source": []
  },
  {
   "cell_type": "markdown",
   "id": "f6f197bf",
   "metadata": {},
   "source": [
    "### CoAtNet"
   ]
  },
  {
   "cell_type": "code",
   "execution_count": 83,
   "id": "7fb0a0fb",
   "metadata": {
    "ExecuteTime": {
     "end_time": "2022-03-11T16:59:50.366971Z",
     "start_time": "2022-03-11T16:59:50.362837Z"
    }
   },
   "outputs": [],
   "source": [
    "tf.keras.backend.clear_session()\n",
    "gc.collect()"
   ]
  },
  {
   "cell_type": "code",
   "execution_count": 84,
   "id": "2ad6a82c",
   "metadata": {
    "ExecuteTime": {
     "end_time": "2022-03-11T17:04:19.890574Z",
     "start_time": "2022-03-11T17:04:14.279694Z"
    }
   },
   "outputs": [
    {
     "name": "stdout",
     "output_type": "stream",
     "text": [
      "Model: \"sequential_1\"\n",
      "_________________________________________________________________\n",
      "Layer (type)                 Output Shape              Param #   \n",
      "=================================================================\n",
      "coatnet0 (Functional)        (None, 2, 2, 768)         23032698  \n",
      "_________________________________________________________________\n",
      "flatten_1 (Flatten)          (None, 3072)              0         \n",
      "_________________________________________________________________\n",
      "dense_1 (Dense)              (None, 19)                58387     \n",
      "=================================================================\n",
      "Total params: 23,091,085\n",
      "Trainable params: 23,079,437\n",
      "Non-trainable params: 11,648\n",
      "_________________________________________________________________\n"
     ]
    }
   ],
   "source": [
    "coatnet0 = keras_cv_attention_models.coatnet.CoAtNet0(num_classes=0,\n",
    "                                                      pretrained=None,\n",
    "                                                      input_shape=(size, size, 3))\n",
    "\n",
    "model_coat0 = models.Sequential()\n",
    "\n",
    "model_coat0.add(coatnet0)\n",
    "model_coat0.add(layers.Flatten())\n",
    "# model_coat0.add(layers.Dense(32, activation=\"relu\"))\n",
    "# model_coat0.add(layers.Dropout(0.6))\n",
    "model_coat0.add(layers.Dense(num_labels, activation='softmax'))\n",
    "\n",
    "model_coat0.summary()\n",
    "\n",
    "model_coat0.compile(loss='categorical_crossentropy',\n",
    "                   optimizer=optimizers.Adam(learning_rate=0.0001),\n",
    "                   metrics=['accuracy'])"
   ]
  },
  {
   "cell_type": "code",
   "execution_count": 73,
   "id": "02bfaa6a",
   "metadata": {
    "ExecuteTime": {
     "end_time": "2022-03-11T16:32:39.355054Z",
     "start_time": "2022-03-11T15:33:25.562921Z"
    }
   },
   "outputs": [
    {
     "name": "stdout",
     "output_type": "stream",
     "text": [
      "Epoch 1/30\n",
      "899/899 [==============================] - 138s 138ms/step - loss: 2.1519 - accuracy: 0.6282 - val_loss: 0.9994 - val_accuracy: 0.8247\n",
      "\n",
      "Epoch 00001: val_accuracy improved from -inf to 0.82475, saving model to ./savefiles/base_coat_wts.hdf5\n"
     ]
    },
    {
     "name": "stderr",
     "output_type": "stream",
     "text": [
      "/home/msds2022/nlapid/.conda/envs/msds2022-ml3/lib/python3.9/site-packages/keras/utils/generic_utils.py:494: CustomMaskWarning: Custom mask layers require a config and must override get_config. When loading, the custom mask layer must be passed to the custom_objects argument.\n",
      "  warnings.warn('Custom mask layers require a config and must override '\n"
     ]
    },
    {
     "name": "stdout",
     "output_type": "stream",
     "text": [
      "Epoch 2/30\n",
      "899/899 [==============================] - 119s 132ms/step - loss: 0.8063 - accuracy: 0.8394 - val_loss: 0.6910 - val_accuracy: 0.8637\n",
      "\n",
      "Epoch 00002: val_accuracy improved from 0.82475 to 0.86374, saving model to ./savefiles/base_coat_wts.hdf5\n",
      "Epoch 3/30\n",
      "899/899 [==============================] - 117s 130ms/step - loss: 0.6343 - accuracy: 0.8824 - val_loss: 0.6891 - val_accuracy: 0.8864\n",
      "\n",
      "Epoch 00003: val_accuracy improved from 0.86374 to 0.88636, saving model to ./savefiles/base_coat_wts.hdf5\n",
      "Epoch 4/30\n",
      "899/899 [==============================] - 116s 129ms/step - loss: 0.5349 - accuracy: 0.9031 - val_loss: 0.6355 - val_accuracy: 0.8984\n",
      "\n",
      "Epoch 00004: val_accuracy improved from 0.88636 to 0.89835, saving model to ./savefiles/base_coat_wts.hdf5\n",
      "Epoch 5/30\n",
      "899/899 [==============================] - 116s 129ms/step - loss: 0.4747 - accuracy: 0.9162 - val_loss: 0.4197 - val_accuracy: 0.9281\n",
      "\n",
      "Epoch 00005: val_accuracy improved from 0.89835 to 0.92807, saving model to ./savefiles/base_coat_wts.hdf5\n",
      "Epoch 6/30\n",
      "899/899 [==============================] - 114s 127ms/step - loss: 0.4155 - accuracy: 0.9290 - val_loss: 0.3852 - val_accuracy: 0.9369\n",
      "\n",
      "Epoch 00006: val_accuracy improved from 0.92807 to 0.93693, saving model to ./savefiles/base_coat_wts.hdf5\n",
      "Epoch 7/30\n",
      "899/899 [==============================] - 117s 130ms/step - loss: 0.3654 - accuracy: 0.9357 - val_loss: 0.3450 - val_accuracy: 0.9415\n",
      "\n",
      "Epoch 00007: val_accuracy improved from 0.93693 to 0.94151, saving model to ./savefiles/base_coat_wts.hdf5\n",
      "Epoch 8/30\n",
      "899/899 [==============================] - 116s 129ms/step - loss: 0.3427 - accuracy: 0.9410 - val_loss: 0.4909 - val_accuracy: 0.9336\n",
      "\n",
      "Epoch 00008: val_accuracy did not improve from 0.94151\n",
      "Epoch 9/30\n",
      "899/899 [==============================] - 114s 127ms/step - loss: 0.2990 - accuracy: 0.9481 - val_loss: 0.4013 - val_accuracy: 0.9387\n",
      "\n",
      "Epoch 00009: val_accuracy did not improve from 0.94151\n",
      "\n",
      "Epoch 00009: ReduceLROnPlateau reducing learning rate to 1.9999999494757503e-05.\n",
      "Epoch 10/30\n",
      "899/899 [==============================] - 115s 128ms/step - loss: 0.1462 - accuracy: 0.9689 - val_loss: 0.2408 - val_accuracy: 0.9589\n",
      "\n",
      "Epoch 00010: val_accuracy improved from 0.94151 to 0.95892, saving model to ./savefiles/base_coat_wts.hdf5\n",
      "Epoch 11/30\n",
      "899/899 [==============================] - 111s 123ms/step - loss: 0.1146 - accuracy: 0.9730 - val_loss: 0.2560 - val_accuracy: 0.9528\n",
      "\n",
      "Epoch 00011: val_accuracy did not improve from 0.95892\n",
      "Epoch 12/30\n",
      "899/899 [==============================] - 115s 128ms/step - loss: 0.1011 - accuracy: 0.9750 - val_loss: 0.2537 - val_accuracy: 0.9569\n",
      "\n",
      "Epoch 00012: val_accuracy did not improve from 0.95892\n",
      "\n",
      "Epoch 00012: ReduceLROnPlateau reducing learning rate to 3.999999898951501e-06.\n",
      "Epoch 13/30\n",
      "899/899 [==============================] - 113s 126ms/step - loss: 0.0770 - accuracy: 0.9804 - val_loss: 0.1981 - val_accuracy: 0.9610\n",
      "\n",
      "Epoch 00013: val_accuracy improved from 0.95892 to 0.96101, saving model to ./savefiles/base_coat_wts.hdf5\n",
      "Epoch 14/30\n",
      "899/899 [==============================] - 117s 130ms/step - loss: 0.0794 - accuracy: 0.9797 - val_loss: 0.1927 - val_accuracy: 0.9612\n",
      "\n",
      "Epoch 00014: val_accuracy improved from 0.96101 to 0.96122, saving model to ./savefiles/base_coat_wts.hdf5\n",
      "Epoch 15/30\n",
      "899/899 [==============================] - 117s 130ms/step - loss: 0.0712 - accuracy: 0.9813 - val_loss: 0.1816 - val_accuracy: 0.9650\n",
      "\n",
      "Epoch 00015: val_accuracy improved from 0.96122 to 0.96497, saving model to ./savefiles/base_coat_wts.hdf5\n",
      "Epoch 16/30\n",
      "899/899 [==============================] - 117s 130ms/step - loss: 0.0674 - accuracy: 0.9821 - val_loss: 0.1791 - val_accuracy: 0.9659\n",
      "\n",
      "Epoch 00016: val_accuracy improved from 0.96497 to 0.96591, saving model to ./savefiles/base_coat_wts.hdf5\n",
      "Epoch 17/30\n",
      "899/899 [==============================] - 115s 128ms/step - loss: 0.0643 - accuracy: 0.9829 - val_loss: 0.1796 - val_accuracy: 0.9655\n",
      "\n",
      "Epoch 00017: val_accuracy did not improve from 0.96591\n",
      "Epoch 18/30\n",
      "899/899 [==============================] - 116s 129ms/step - loss: 0.0659 - accuracy: 0.9819 - val_loss: 0.1700 - val_accuracy: 0.9661\n",
      "\n",
      "Epoch 00018: val_accuracy improved from 0.96591 to 0.96612, saving model to ./savefiles/base_coat_wts.hdf5\n",
      "Epoch 19/30\n",
      "899/899 [==============================] - 117s 130ms/step - loss: 0.0626 - accuracy: 0.9825 - val_loss: 0.1798 - val_accuracy: 0.9647\n",
      "\n",
      "Epoch 00019: val_accuracy did not improve from 0.96612\n",
      "Epoch 20/30\n",
      "899/899 [==============================] - 116s 128ms/step - loss: 0.0644 - accuracy: 0.9821 - val_loss: 0.1835 - val_accuracy: 0.9649\n",
      "\n",
      "Epoch 00020: val_accuracy did not improve from 0.96612\n",
      "\n",
      "Epoch 00020: ReduceLROnPlateau reducing learning rate to 1e-06.\n",
      "Epoch 21/30\n",
      "899/899 [==============================] - 117s 130ms/step - loss: 0.0584 - accuracy: 0.9843 - val_loss: 0.1722 - val_accuracy: 0.9655\n",
      "\n",
      "Epoch 00021: val_accuracy did not improve from 0.96612\n",
      "Epoch 22/30\n",
      "899/899 [==============================] - 113s 126ms/step - loss: 0.0552 - accuracy: 0.9849 - val_loss: 0.1698 - val_accuracy: 0.9664\n",
      "\n",
      "Epoch 00022: val_accuracy improved from 0.96612 to 0.96643, saving model to ./savefiles/base_coat_wts.hdf5\n",
      "Epoch 23/30\n",
      "899/899 [==============================] - 117s 129ms/step - loss: 0.0593 - accuracy: 0.9839 - val_loss: 0.1740 - val_accuracy: 0.9658\n",
      "\n",
      "Epoch 00023: val_accuracy did not improve from 0.96643\n",
      "Epoch 24/30\n",
      "899/899 [==============================] - 115s 128ms/step - loss: 0.0583 - accuracy: 0.9832 - val_loss: 0.1720 - val_accuracy: 0.9648\n",
      "\n",
      "Epoch 00024: val_accuracy did not improve from 0.96643\n",
      "Epoch 25/30\n",
      "899/899 [==============================] - 113s 125ms/step - loss: 0.0610 - accuracy: 0.9838 - val_loss: 0.1653 - val_accuracy: 0.9666\n",
      "\n",
      "Epoch 00025: val_accuracy improved from 0.96643 to 0.96664, saving model to ./savefiles/base_coat_wts.hdf5\n",
      "Epoch 26/30\n",
      "899/899 [==============================] - 114s 126ms/step - loss: 0.0566 - accuracy: 0.9829 - val_loss: 0.1685 - val_accuracy: 0.9659\n",
      "\n",
      "Epoch 00026: val_accuracy did not improve from 0.96664\n",
      "Epoch 27/30\n",
      "899/899 [==============================] - 112s 125ms/step - loss: 0.0564 - accuracy: 0.9836 - val_loss: 0.1655 - val_accuracy: 0.9660\n",
      "\n",
      "Epoch 00027: val_accuracy did not improve from 0.96664\n",
      "Epoch 28/30\n",
      "899/899 [==============================] - 114s 127ms/step - loss: 0.0560 - accuracy: 0.9842 - val_loss: 0.1609 - val_accuracy: 0.9675\n",
      "\n",
      "Epoch 00028: val_accuracy improved from 0.96664 to 0.96747, saving model to ./savefiles/base_coat_wts.hdf5\n",
      "Epoch 29/30\n",
      "899/899 [==============================] - 114s 127ms/step - loss: 0.0554 - accuracy: 0.9849 - val_loss: 0.1673 - val_accuracy: 0.9662\n",
      "\n",
      "Epoch 00029: val_accuracy did not improve from 0.96747\n",
      "Epoch 30/30\n",
      "899/899 [==============================] - 116s 128ms/step - loss: 0.0623 - accuracy: 0.9833 - val_loss: 0.1658 - val_accuracy: 0.9665\n",
      "\n",
      "Epoch 00030: val_accuracy did not improve from 0.96747\n",
      "CPU times: user 1h 31min 34s, sys: 5min 32s, total: 1h 37min 7s\n",
      "Wall time: 59min 13s\n"
     ]
    }
   ],
   "source": [
    "%%time\n",
    "\n",
    "filepath_coat = save_dir + \"/base_coat_wts.hdf5\"\n",
    "checkpoint_coat = ModelCheckpoint(filepath_coat, monitor='val_accuracy',\n",
    "                             verbose=1, save_best_only=True, mode='max')\n",
    "reduce_lr_coat = ReduceLROnPlateau(monitor='val_loss', factor=0.2,\n",
    "                              patience=2, min_lr=0.000001, verbose=1)\n",
    "earlystop_coat= EarlyStopping(monitor='val_accuracy', patience=5, verbose=1)\n",
    "\n",
    "\n",
    "coat_history = model_coat0.fit(\n",
    "    keras_train_data,\n",
    "    epochs=epochs,\n",
    "    steps_per_epoch=steps_per_epoch,\n",
    "    validation_steps=validation_steps,\n",
    "    validation_data=keras_val_data,\n",
    "    callbacks=[checkpoint_coat, reduce_lr_coat, earlystop_coat]\n",
    ")"
   ]
  },
  {
   "cell_type": "code",
   "execution_count": 74,
   "id": "3ad625d3",
   "metadata": {
    "ExecuteTime": {
     "end_time": "2022-03-11T16:32:41.236206Z",
     "start_time": "2022-03-11T16:32:39.359429Z"
    }
   },
   "outputs": [],
   "source": [
    "model_coat0.load_weights(filepath_coat)\n",
    "\n",
    "model_coat0.save(save_dir + '/coat0.h5')\n",
    "\n",
    "with open(save_dir + '/coat0_hist.pickle', 'wb') as handle:\n",
    "    pickle.dump(coat_history.history, handle, protocol=pickle.HIGHEST_PROTOCOL)"
   ]
  },
  {
   "cell_type": "code",
   "execution_count": 75,
   "id": "fcc37c89",
   "metadata": {
    "ExecuteTime": {
     "end_time": "2022-03-11T16:32:41.635822Z",
     "start_time": "2022-03-11T16:32:41.239079Z"
    }
   },
   "outputs": [
    {
     "data": {
      "image/png": "[encoded data removed]",
      "text/plain": [
       "<Figure size 1080x360 with 2 Axes>"
      ]
     },
     "metadata": {
      "needs_background": "light"
     },
     "output_type": "display_data"
    }
   ],
   "source": [
    "plot_results(base_cnn_history)"
   ]
  },
  {
   "cell_type": "markdown",
   "id": "87d91100",
   "metadata": {},
   "source": [
    "#### Tried CoAtNet again"
   ]
  },
  {
   "cell_type": "code",
   "execution_count": 85,
   "id": "469526ad",
   "metadata": {
    "ExecuteTime": {
     "end_time": "2022-03-11T17:49:29.340310Z",
     "start_time": "2022-03-11T17:04:42.048706Z"
    }
   },
   "outputs": [
    {
     "name": "stdout",
     "output_type": "stream",
     "text": [
      "Epoch 1/30\n",
      "899/899 [==============================] - 173s 174ms/step - loss: 2.1017 - accuracy: 0.6296 - val_loss: 0.9069 - val_accuracy: 0.8177\n",
      "\n",
      "Epoch 00001: val_accuracy improved from -inf to 0.81766, saving model to ./savefiles/base_coat_wts_v2.hdf5\n",
      "Epoch 2/30\n",
      "899/899 [==============================] - 122s 136ms/step - loss: 0.8194 - accuracy: 0.8392 - val_loss: 0.5237 - val_accuracy: 0.8968\n",
      "\n",
      "Epoch 00002: val_accuracy improved from 0.81766 to 0.89679, saving model to ./savefiles/base_coat_wts_v2.hdf5\n",
      "Epoch 3/30\n",
      "899/899 [==============================] - 117s 130ms/step - loss: 0.6359 - accuracy: 0.8830 - val_loss: 0.5662 - val_accuracy: 0.9019\n",
      "\n",
      "Epoch 00003: val_accuracy improved from 0.89679 to 0.90190, saving model to ./savefiles/base_coat_wts_v2.hdf5\n",
      "Epoch 4/30\n",
      "899/899 [==============================] - 120s 133ms/step - loss: 0.5360 - accuracy: 0.9048 - val_loss: 0.4588 - val_accuracy: 0.9212\n",
      "\n",
      "Epoch 00004: val_accuracy improved from 0.90190 to 0.92118, saving model to ./savefiles/base_coat_wts_v2.hdf5\n",
      "Epoch 5/30\n",
      "899/899 [==============================] - 120s 133ms/step - loss: 0.4641 - accuracy: 0.9189 - val_loss: 0.3542 - val_accuracy: 0.9432\n",
      "\n",
      "Epoch 00005: val_accuracy improved from 0.92118 to 0.94318, saving model to ./savefiles/base_coat_wts_v2.hdf5\n",
      "Epoch 6/30\n",
      "899/899 [==============================] - 118s 131ms/step - loss: 0.4131 - accuracy: 0.9291 - val_loss: 0.5022 - val_accuracy: 0.9198\n",
      "\n",
      "Epoch 00006: val_accuracy did not improve from 0.94318\n",
      "Epoch 7/30\n",
      "899/899 [==============================] - 118s 131ms/step - loss: 0.3679 - accuracy: 0.9343 - val_loss: 0.4449 - val_accuracy: 0.9346\n",
      "\n",
      "Epoch 00007: val_accuracy did not improve from 0.94318\n",
      "\n",
      "Epoch 00007: ReduceLROnPlateau reducing learning rate to 1.9999999494757503e-05.\n",
      "Epoch 8/30\n",
      "899/899 [==============================] - 117s 130ms/step - loss: 0.1631 - accuracy: 0.9659 - val_loss: 0.2588 - val_accuracy: 0.9538\n",
      "\n",
      "Epoch 00008: val_accuracy improved from 0.94318 to 0.95382, saving model to ./savefiles/base_coat_wts_v2.hdf5\n",
      "Epoch 9/30\n",
      "899/899 [==============================] - 118s 131ms/step - loss: 0.1270 - accuracy: 0.9703 - val_loss: 0.2245 - val_accuracy: 0.9536\n",
      "\n",
      "Epoch 00009: val_accuracy did not improve from 0.95382\n",
      "Epoch 10/30\n",
      "899/899 [==============================] - 117s 130ms/step - loss: 0.1103 - accuracy: 0.9732 - val_loss: 0.2087 - val_accuracy: 0.9619\n",
      "\n",
      "Epoch 00010: val_accuracy improved from 0.95382 to 0.96195, saving model to ./savefiles/base_coat_wts_v2.hdf5\n",
      "Epoch 11/30\n",
      "899/899 [==============================] - 116s 129ms/step - loss: 0.1166 - accuracy: 0.9716 - val_loss: 0.2026 - val_accuracy: 0.9597\n",
      "\n",
      "Epoch 00011: val_accuracy did not improve from 0.96195\n",
      "Epoch 12/30\n",
      "899/899 [==============================] - 117s 130ms/step - loss: 0.1061 - accuracy: 0.9729 - val_loss: 0.2635 - val_accuracy: 0.9505\n",
      "\n",
      "Epoch 00012: val_accuracy did not improve from 0.96195\n",
      "Epoch 13/30\n",
      "899/899 [==============================] - 117s 130ms/step - loss: 0.0981 - accuracy: 0.9744 - val_loss: 0.2194 - val_accuracy: 0.9560\n",
      "\n",
      "Epoch 00013: val_accuracy did not improve from 0.96195\n",
      "\n",
      "Epoch 00013: ReduceLROnPlateau reducing learning rate to 3.999999898951501e-06.\n",
      "Epoch 14/30\n",
      "899/899 [==============================] - 116s 129ms/step - loss: 0.0822 - accuracy: 0.9780 - val_loss: 0.1765 - val_accuracy: 0.9644\n",
      "\n",
      "Epoch 00014: val_accuracy improved from 0.96195 to 0.96445, saving model to ./savefiles/base_coat_wts_v2.hdf5\n",
      "Epoch 15/30\n",
      "899/899 [==============================] - 120s 133ms/step - loss: 0.0714 - accuracy: 0.9804 - val_loss: 0.1916 - val_accuracy: 0.9603\n",
      "\n",
      "Epoch 00015: val_accuracy did not improve from 0.96445\n",
      "Epoch 16/30\n",
      "899/899 [==============================] - 118s 131ms/step - loss: 0.0705 - accuracy: 0.9812 - val_loss: 0.1738 - val_accuracy: 0.9637\n",
      "\n",
      "Epoch 00016: val_accuracy did not improve from 0.96445\n",
      "Epoch 17/30\n",
      "899/899 [==============================] - 113s 125ms/step - loss: 0.0708 - accuracy: 0.9805 - val_loss: 0.1674 - val_accuracy: 0.9651\n",
      "\n",
      "Epoch 00017: val_accuracy improved from 0.96445 to 0.96508, saving model to ./savefiles/base_coat_wts_v2.hdf5\n",
      "Epoch 18/30\n",
      "899/899 [==============================] - 119s 132ms/step - loss: 0.0658 - accuracy: 0.9805 - val_loss: 0.1787 - val_accuracy: 0.9638\n",
      "\n",
      "Epoch 00018: val_accuracy did not improve from 0.96508\n",
      "Epoch 19/30\n",
      "899/899 [==============================] - 117s 130ms/step - loss: 0.0604 - accuracy: 0.9825 - val_loss: 0.1732 - val_accuracy: 0.9641\n",
      "\n",
      "Epoch 00019: val_accuracy did not improve from 0.96508\n",
      "\n",
      "Epoch 00019: ReduceLROnPlateau reducing learning rate to 1e-06.\n",
      "Epoch 20/30\n",
      "899/899 [==============================] - 118s 131ms/step - loss: 0.0580 - accuracy: 0.9832 - val_loss: 0.1670 - val_accuracy: 0.9649\n",
      "\n",
      "Epoch 00020: val_accuracy did not improve from 0.96508\n",
      "Epoch 21/30\n",
      "899/899 [==============================] - 119s 132ms/step - loss: 0.0592 - accuracy: 0.9829 - val_loss: 0.1685 - val_accuracy: 0.9649\n",
      "\n",
      "Epoch 00021: val_accuracy did not improve from 0.96508\n",
      "Epoch 22/30\n",
      "899/899 [==============================] - 117s 130ms/step - loss: 0.0596 - accuracy: 0.9828 - val_loss: 0.1697 - val_accuracy: 0.9639\n",
      "\n",
      "Epoch 00022: val_accuracy did not improve from 0.96508\n",
      "Epoch 00022: early stopping\n",
      "CPU times: user 1h 7min 34s, sys: 4min 5s, total: 1h 11min 39s\n",
      "Wall time: 44min 47s\n"
     ]
    }
   ],
   "source": [
    "%%time\n",
    "\n",
    "filepath_coat = save_dir + \"/base_coat_wts_v2.hdf5\"\n",
    "checkpoint_coat = ModelCheckpoint(filepath_coat, monitor='val_accuracy',\n",
    "                             verbose=1, save_best_only=True, mode='max')\n",
    "reduce_lr_coat = ReduceLROnPlateau(monitor='val_loss', factor=0.2,\n",
    "                              patience=2, min_lr=0.000001, verbose=1)\n",
    "earlystop_coat= EarlyStopping(monitor='val_accuracy', patience=5, verbose=1)\n",
    "\n",
    "\n",
    "coat_history = model_coat0.fit(\n",
    "    train_data,\n",
    "    epochs=epochs,\n",
    "    steps_per_epoch=steps_per_epoch,\n",
    "    validation_steps=validation_steps,\n",
    "    validation_data=val_data,\n",
    "    callbacks=[checkpoint_coat, reduce_lr_coat, earlystop_coat]\n",
    ")"
   ]
  },
  {
   "cell_type": "code",
   "execution_count": 86,
   "id": "2d714604",
   "metadata": {
    "ExecuteTime": {
     "end_time": "2022-03-11T17:50:07.906469Z",
     "start_time": "2022-03-11T17:50:04.641194Z"
    }
   },
   "outputs": [],
   "source": [
    "model_coat0.load_weights(filepath_coat)\n",
    "\n",
    "model_coat0.save(save_dir + '/coat0_v2.h5')\n",
    "\n",
    "with open(save_dir + '/coat0_hist_v2.pickle', 'wb') as handle:\n",
    "    pickle.dump(coat_history.history, handle, protocol=pickle.HIGHEST_PROTOCOL)"
   ]
  },
  {
   "cell_type": "code",
   "execution_count": 87,
   "id": "3cca8093",
   "metadata": {
    "ExecuteTime": {
     "end_time": "2022-03-11T17:50:22.795756Z",
     "start_time": "2022-03-11T17:50:22.381958Z"
    }
   },
   "outputs": [
    {
     "data": {
      "image/png": "[encoded data removed]",
      "text/plain": [
       "<Figure size 1080x360 with 2 Axes>"
      ]
     },
     "metadata": {
      "needs_background": "light"
     },
     "output_type": "display_data"
    }
   ],
   "source": [
    "plot_results(base_cnn_history)"
   ]
  },
  {
   "cell_type": "markdown",
   "id": "17b4f9e9",
   "metadata": {},
   "source": [
    "### LeViT192 (low accuracy)"
   ]
  },
  {
   "cell_type": "code",
   "execution_count": 52,
   "id": "ae38bcd4",
   "metadata": {
    "ExecuteTime": {
     "end_time": "2022-03-14T08:34:43.816375Z",
     "start_time": "2022-03-14T08:34:43.024956Z"
    }
   },
   "outputs": [
    {
     "data": {
      "text/plain": [
       "24421"
      ]
     },
     "execution_count": 52,
     "metadata": {},
     "output_type": "execute_result"
    }
   ],
   "source": [
    "tf.keras.backend.clear_session()\n",
    "gc.collect()"
   ]
  },
  {
   "cell_type": "code",
   "execution_count": 49,
   "id": "414712be",
   "metadata": {
    "ExecuteTime": {
     "end_time": "2022-03-14T08:31:34.185706Z",
     "start_time": "2022-03-14T08:31:30.193937Z"
    }
   },
   "outputs": [
    {
     "name": "stdout",
     "output_type": "stream",
     "text": [
      "Model: \"sequential\"\n",
      "_________________________________________________________________\n",
      "Layer (type)                 Output Shape              Param #   \n",
      "=================================================================\n",
      "levit128 (Functional)        (None, 1, 384)            8482272   \n",
      "_________________________________________________________________\n",
      "flatten (Flatten)            (None, 384)               0         \n",
      "_________________________________________________________________\n",
      "dense (Dense)                (None, 19)                7315      \n",
      "=================================================================\n",
      "Total params: 8,489,587\n",
      "Trainable params: 8,442,515\n",
      "Non-trainable params: 47,072\n",
      "_________________________________________________________________\n"
     ]
    }
   ],
   "source": [
    "levit128 = keras_cv_attention_models.levit.LeViT128(\n",
    "    num_classes=0,\n",
    "    pretrained=None,\n",
    "    input_shape=(size, size, 3))\n",
    "\n",
    "# levit192.trainable = False\n",
    "\n",
    "model_levit = models.Sequential()\n",
    "\n",
    "model_levit.add(levit128)\n",
    "model_levit.add(layers.Flatten())\n",
    "# model_levit.add(layers.Dense(32, activation=\"relu\"))\n",
    "# model_levit.add(layers.Dropout(0.6))\n",
    "model_levit.add(layers.Dense(num_labels, activation='softmax'))\n",
    "\n",
    "model_levit.summary()\n",
    "\n",
    "model_levit.compile(loss='categorical_crossentropy',\n",
    "                   optimizer=optimizers.Adam(learning_rate=0.0001),\n",
    "                   metrics=['accuracy'])"
   ]
  },
  {
   "cell_type": "code",
   "execution_count": 51,
   "id": "adcabfae",
   "metadata": {
    "ExecuteTime": {
     "end_time": "2022-03-14T08:34:36.844749Z",
     "start_time": "2022-03-14T08:34:36.839510Z"
    }
   },
   "outputs": [],
   "source": [
    "%%time\n",
    "\n",
    "filepath_levit = save_dir + \"/base_levit_wts.hdf5\"\n",
    "checkpoint_levit = ModelCheckpoint(filepath_levit, monitor='val_accuracy',\n",
    "                             verbose=1, save_best_only=True, mode='max')\n",
    "reduce_lr_levit = ReduceLROnPlateau(monitor='val_loss', factor=0.2,\n",
    "                              patience=2, min_lr=0.000001, verbose=1)\n",
    "earlystop_levit= EarlyStopping(monitor='val_accuracy', patience=5, verbose=1)\n",
    "\n",
    "\n",
    "levit_history = model_levit.fit(\n",
    "    train_data,\n",
    "    epochs=epochs,\n",
    "    steps_per_epoch=steps_per_epoch,\n",
    "    validation_steps=validation_steps,\n",
    "    validation_data=val_data,\n",
    "    callbacks=[checkpoint_levit, reduce_lr_levit, earlystop_levit]\n",
    ")"
   ]
  },
  {
   "cell_type": "code",
   "execution_count": null,
   "id": "5f1beb65",
   "metadata": {},
   "outputs": [],
   "source": [
    "model_levit.load_weights(filepath_levit)\n",
    "\n",
    "model_levit.save(save_dir + '/levit.h5')\n",
    "\n",
    "with open(save_dir + '/levit_hist.pickle', 'wb') as handle:\n",
    "    pickle.dump(levit_history.history, handle, protocol=pickle.HIGHEST_PROTOCOL)"
   ]
  },
  {
   "cell_type": "markdown",
   "id": "66bb3dca",
   "metadata": {},
   "source": [
    "## Model Selection and Sample Prediction"
   ]
  },
  {
   "cell_type": "markdown",
   "id": "c2bd0402",
   "metadata": {},
   "source": [
    "Having trained the various models, it was a simple matter to compare the various test accuracies obtained. While all the architectures performed better than the baseline CNN model, it was clear that VGG16 had the best performance. Not only did it end up having the highest accuracy, but similar to ResNet50 and EfficientNetB0, its training plot was close to ideal as well, with no clear signs of overfitting or underfitting."
   ]
  },
  {
   "cell_type": "code",
   "execution_count": 199,
   "id": "de763f27",
   "metadata": {
    "ExecuteTime": {
     "end_time": "2022-03-14T16:06:54.130567Z",
     "start_time": "2022-03-14T16:06:53.869222Z"
    }
   },
   "outputs": [
    {
     "data": {
      "image/png": "[encoded data removed]",
      "text/plain": [
       "<Figure size 576x360 with 1 Axes>"
      ]
     },
     "metadata": {
      "needs_background": "light"
     },
     "output_type": "display_data"
    }
   ],
   "source": [
    "models = ['Baseline CNN', 'VGG16', 'ResNet50', 'EfficientNetB0', 'CoAtNet0']\n",
    "scores = [.8314, .9851, .9772, .9304, .9675]\n",
    "model_eval = pd.Series(scores, index=models)\n",
    "\n",
    "fig, ax = plt.subplots(figsize=(8, 5))\n",
    "\n",
    "pps = ax.bar(model_eval.index, model_eval.values, width=0.6,\n",
    "             color=['gold', 'maroon', 'darkorange',\n",
    "                    'darkorange', 'darkorange'])\n",
    "\n",
    "for p in pps:\n",
    "   height = p.get_height()\n",
    "   ax.annotate('{}'.format(height),\n",
    "      xy=(p.get_x() + p.get_width() / 2, height),\n",
    "      xytext=(0, 0), # vertical offset\n",
    "      textcoords=\"offset points\",\n",
    "      ha='center', va='bottom')\n",
    "\n",
    "plt.ylim(0, 1.1)\n",
    "plt.ylabel('Categorical Accuracy', fontsize=13)\n",
    "plt.xlabel('Deep Learning Model', fontsize=13)\n",
    "plt.suptitle('Model Comparison', fontsize=15)\n",
    "plt.xticks(rotation='horizontal')\n",
    "plt.tight_layout()\n",
    "plt.show()"
   ]
  },
  {
   "cell_type": "markdown",
   "id": "06452fe3",
   "metadata": {},
   "source": [
    "Given that VGG16 had the best performance, this was chosen as the preferred model for deployment. To demonstrate, it was used to predict the label of a sample image from the \"a\" vowel class. The VGG16 model was indeed able to classify the image correctly with a high degree of confidence.\n",
    "\n",
    "Of course this is only a sanity check, as the sample image was taken from the original dataset and may not be considered as unseen data."
   ]
  },
  {
   "cell_type": "code",
   "execution_count": 201,
   "id": "caccfaea",
   "metadata": {
    "ExecuteTime": {
     "end_time": "2022-03-14T16:09:58.982395Z",
     "start_time": "2022-03-14T16:09:58.167822Z"
    }
   },
   "outputs": [],
   "source": [
    "model = tf.keras.models.load_model(save_dir + 'vgg16_v2.h5')"
   ]
  },
  {
   "cell_type": "code",
   "execution_count": 203,
   "id": "b24c5560",
   "metadata": {
    "ExecuteTime": {
     "end_time": "2022-03-14T16:10:26.569728Z",
     "start_time": "2022-03-14T16:10:26.481164Z"
    }
   },
   "outputs": [
    {
     "name": "stdout",
     "output_type": "stream",
     "text": [
      "Sample image:\n"
     ]
    },
    {
     "data": {
      "image/png": "[encoded data removed]",
      "text/plain": [
       "<PIL.JpegImagePlugin.JpegImageFile image mode=L size=75x93 at 0x7F87984B1580>"
      ]
     },
     "metadata": {},
     "output_type": "display_data"
    },
    {
     "name": "stdout",
     "output_type": "stream",
     "text": [
      "Predicted character: a\n",
      "Prediction score: 99.7606%\n"
     ]
    }
   ],
   "source": [
    "img = cv2.imread(data_dir + 'a/a_00001_file001.jpg')\n",
    "img = cv2.resize(img, (64, 64))\n",
    "img = np.expand_dims(img, axis=0)\n",
    "\n",
    "print('Sample image:')\n",
    "im = Image.open(data_dir + 'a/a_00001_file001.jpg')\n",
    "im.show()\n",
    "\n",
    "predictions = model.predict(img)\n",
    "pred_label = label_dict[np.argmax(predictions)]\n",
    "probVal = np.amax(predictions)\n",
    "\n",
    "print(f'Predicted character: {pred_label}')\n",
    "print(f'Prediction score: {probVal:.4%}')"
   ]
  },
  {
   "cell_type": "markdown",
   "id": "a13edaa2",
   "metadata": {},
   "source": [
    "To deploy the model on new images, the team undertook to implement a real-time Optical Character Recognition Model, as demonstrated below. "
   ]
  },
  {
   "cell_type": "markdown",
   "id": "f029dad5",
   "metadata": {},
   "source": [
    "## Translating characters on video"
   ]
  },
  {
   "cell_type": "markdown",
   "id": "0723e612",
   "metadata": {},
   "source": [
    "### Note: Doesn't work in Jojie, has to be on local"
   ]
  },
  {
   "cell_type": "code",
   "execution_count": 100,
   "id": "ea4b2679",
   "metadata": {
    "ExecuteTime": {
     "end_time": "2022-03-12T13:40:16.928089Z",
     "start_time": "2022-03-12T13:40:16.922485Z"
    }
   },
   "outputs": [],
   "source": [
    "# If using a video file:\n",
    "video = './OpenCV/ka_pa.mp4'\n",
    "\n",
    "# If using a webcam:\n",
    "video = 0"
   ]
  },
  {
   "cell_type": "code",
   "execution_count": null,
   "id": "5646248c",
   "metadata": {},
   "outputs": [],
   "source": [
    "cap = cv2.VideoCapture(video)\n",
    "\n",
    "if not cap.isOpened():\n",
    "    print(\"Error loading the video file or camera\")\n",
    "    exit()\n",
    "\n",
    "# width = int(cap.get(cv2.CAP_PROP_FRAME_WIDTH))\n",
    "# height = int(cap.get(cv2.CAP_PROP_FRAME_HEIGHT))\n",
    "\n",
    "width = 640\n",
    "height = 480\n",
    "cap.set(3, width)\n",
    "cap.set(4, height)\n",
    "\n",
    "time_start = time.time()\n",
    "\n",
    "\n",
    "while True:\n",
    "    try:\n",
    "        success, imgOriginal = cap.read()\n",
    "        img = cv2.resize(imgOriginal, (64, 64))\n",
    "        img = np.expand_dims(img, axis=0)\n",
    "\n",
    "        #predict\n",
    "        predictions = model.predict(img)\n",
    "        pred_label = label_dict[np.argmax(predictions)]\n",
    "        probVal = np.amax(predictions)\n",
    "        \n",
    "        threshold = 0.50\n",
    "        if probVal > threshold:\n",
    "            cv2.putText(img=imgOriginal, text=pred_label + ': ' + str(probVal),\n",
    "                        org=(100, 100), fontFace=cv2.FONT_HERSHEY_COMPLEX,\n",
    "                        fontScale=3, color=(255,255,0), thickness=3)\n",
    "            print(pred_label, probVal)\n",
    "        else:\n",
    "            cv2.putText(img=imgOriginal, text='Unable to predict',\n",
    "                        org=(100, 100), fontFace=cv2.FONT_HERSHEY_COMPLEX,\n",
    "                        fontScale=3, color=(255,255,0), thickness=3)\n",
    "#             print(pred_label, probVal)\n",
    "\n",
    "        cv2.imshow('Original Image', imgOriginal)\n",
    "\n",
    "        time_now = time.time()\n",
    "        num_seconds = time_now - time_start\n",
    "        if num_seconds > 90:\n",
    "            print('Time is up.')\n",
    "            break\n",
    "\n",
    "    except:\n",
    "        print('Error: Closing camera')\n",
    "        success = False\n",
    "        cap.release()\n",
    "        cv2.destroyAllWindows()\n",
    "        break\n",
    "\n",
    "    if (cv2.waitKey(1) & 0xFF == ord('q')):\n",
    "        print('Camera or video closed by user')\n",
    "        success = False\n",
    "        cap.release()\n",
    "        cv2.destroyAllWindows()\n",
    "        break\n",
    "\n",
    "    if not success:\n",
    "        print('Failed to capture image')\n",
    "        cap.release()\n",
    "        cv2.destroyAllWindows()\n",
    "        break\n",
    "\n",
    "\n",
    "cap.release()\n",
    "cv2.destroyAllWindows()\n",
    "print('End of video')"
   ]
  }
 ],
 "metadata": {
  "hide_input": false,
  "kernelspec": {
   "display_name": "Python [conda env:.conda-msds2022-ml3]",
   "language": "python",
   "name": "conda-env-.conda-msds2022-ml3-py"
  },
  "language_info": {
   "codemirror_mode": {
    "name": "ipython",
    "version": 3
   },
   "file_extension": ".py",
   "mimetype": "text/x-python",
   "name": "python",
   "nbconvert_exporter": "python",
   "pygments_lexer": "ipython3",
   "version": "3.9.6"
  },
  "toc": {
   "base_numbering": 1,
   "nav_menu": {},
   "number_sections": false,
   "sideBar": true,
   "skip_h1_title": false,
   "title_cell": "Table of Contents",
   "title_sidebar": "Contents",
   "toc_cell": false,
   "toc_position": {
    "height": "calc(100% - 180px)",
    "left": "10px",
    "top": "150px",
    "width": "288px"
   },
   "toc_section_display": true,
   "toc_window_display": false
  }
 },
 "nbformat": 4,
 "nbformat_minor": 5
}
