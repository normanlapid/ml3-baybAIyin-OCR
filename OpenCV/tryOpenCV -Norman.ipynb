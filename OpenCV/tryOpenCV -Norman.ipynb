{
 "cells": [
  {
   "cell_type": "code",
   "execution_count": 1,
   "id": "94b2798d",
   "metadata": {
    "ExecuteTime": {
     "end_time": "2022-03-11T15:48:20.823227Z",
     "start_time": "2022-03-11T15:48:20.817674Z"
    }
   },
   "outputs": [],
   "source": [
    "# pip install tqdm"
   ]
  },
  {
   "cell_type": "code",
   "execution_count": null,
   "id": "4e3a2eb4",
   "metadata": {},
   "outputs": [],
   "source": []
  },
  {
   "cell_type": "markdown",
   "id": "2e468814",
   "metadata": {},
   "source": [
    "# Load the libraries"
   ]
  },
  {
   "cell_type": "code",
   "execution_count": 4,
   "id": "3d7f5ca6",
   "metadata": {
    "ExecuteTime": {
     "end_time": "2022-03-11T15:49:52.047456Z",
     "start_time": "2022-03-11T15:49:52.032344Z"
    }
   },
   "outputs": [],
   "source": [
    "import numpy as np\n",
    "import cv2\n",
    "import os\n",
    "import matplotlib.pyplot as plt\n",
    "import PIL\n",
    "from PIL import Image\n",
    "\n",
    "import os\n",
    "# os.environ['TF_CPP_MIN_LOG_LEVEL'] = '2' \n",
    "from pathlib import Path\n",
    "\n",
    "from tqdm import tqdm\n",
    "import numpy as np \n",
    "import pandas as pd \n",
    "import seaborn as sns\n",
    "import matplotlib.pyplot as plt\n",
    "%matplotlib inline\n",
    "\n",
    "import pickle\n",
    "import random\n",
    "import gc\n",
    "import cv2\n",
    "\n",
    "import tensorflow as tf\n",
    "# tf.get_logger().setLevel('ERROR')\n",
    "# tf.autograph.set_verbosity(2)\n",
    "from tensorflow.keras import models, layers, optimizers, applications\n",
    "from tensorflow.keras.preprocessing import image\n",
    "from tensorflow.keras.preprocessing.image import ImageDataGenerator\n",
    "from tensorflow.keras.callbacks import ModelCheckpoint, EarlyStopping, ReduceLROnPlateau\n",
    "from tensorflow.keras.optimizers import Adam"
   ]
  },
  {
   "cell_type": "markdown",
   "id": "dd9a6e41",
   "metadata": {},
   "source": [
    "## Preparing the Dataset and Setting Parameters"
   ]
  },
  {
   "cell_type": "code",
   "execution_count": 5,
   "id": "26083a47",
   "metadata": {
    "ExecuteTime": {
     "end_time": "2022-03-11T15:49:56.505853Z",
     "start_time": "2022-03-11T15:49:56.500035Z"
    }
   },
   "outputs": [],
   "source": [
    "seed = 143\n",
    "random.seed(seed)\n",
    "np.random.seed(seed)\n",
    "os.environ['PYTHONHASHSEED'] = str(seed)\n",
    "tf.random.set_seed(seed)"
   ]
  },
  {
   "cell_type": "code",
   "execution_count": 11,
   "id": "420c9c6a",
   "metadata": {
    "ExecuteTime": {
     "end_time": "2022-03-11T15:53:24.074193Z",
     "start_time": "2022-03-11T15:53:23.647404Z"
    }
   },
   "outputs": [
    {
     "name": "stdout",
     "output_type": "stream",
     "text": [
      "Number of images found:  38398\n",
      "Number of labels found:  19\n",
      "Labels: ['a', 'ba', 'dara', 'ei', 'ga', 'ha', 'ka', 'kuw', 'la', 'ma', 'na', 'nga', 'ou', 'pa', 'sa', 'ta', 'tul', 'wa', 'ya']\n"
     ]
    }
   ],
   "source": [
    "data_dir = './raw/'\n",
    "save_dir = './savefiles/'\n",
    "size = 64\n",
    "epochs = 5\n",
    "val_split = 0.25\n",
    "\n",
    "batch_size = 32\n",
    "\n",
    "data_path = Path(data_dir)\n",
    "images = sorted(list(map(str, list(data_path.glob(\"*/*.jpg\")))))\n",
    "labels = set([img.split(os.path.sep)[-2] for img in images])\n",
    "num_labels = len(labels)\n",
    "\n",
    "steps_per_epoch = len(images) * (1 - val_split) / batch_size\n",
    "validation_steps = len(images) * val_split / batch_size\n",
    "\n",
    "print(\"Number of images found: \", len(images))\n",
    "print(\"Number of labels found: \", num_labels)\n",
    "print(\"Labels:\", sorted(labels))"
   ]
  },
  {
   "cell_type": "code",
   "execution_count": 12,
   "id": "42971401",
   "metadata": {
    "ExecuteTime": {
     "end_time": "2022-03-11T15:53:58.765604Z",
     "start_time": "2022-03-11T15:53:26.439288Z"
    }
   },
   "outputs": [
    {
     "name": "stdout",
     "output_type": "stream",
     "text": [
      "Found 28806 images belonging to 19 classes.\n",
      "Found 9592 images belonging to 19 classes.\n"
     ]
    }
   ],
   "source": [
    "# Augmentation\n",
    "train_datagen = ImageDataGenerator(rescale=1./255,\n",
    "                                   validation_split=val_split,\n",
    "                                   preprocessing_function=None,\n",
    "                                   rotation_range=20,\n",
    "                                   width_shift_range=0.2,\n",
    "                                   height_shift_range=0.2,\n",
    "                                   brightness_range=[0.7, 1.3],\n",
    "                                   shear_range=0.2,\n",
    "                                   zoom_range=0.2,\n",
    "                                   channel_shift_range=0.7,\n",
    "                                   horizontal_flip=False,\n",
    "                                   vertical_flip=False,)\n",
    "\n",
    "val_datagen = ImageDataGenerator(rescale=1./255,\n",
    "                                 validation_split=val_split)\n",
    "\n",
    "\n",
    "# Load data and turn into batches\n",
    "train_data = train_datagen.flow_from_directory(data_dir,\n",
    "                                               subset=\"training\",\n",
    "                                               target_size=(size, size),\n",
    "                                               batch_size=batch_size,\n",
    "                                               class_mode=\"categorical\",\n",
    "                                               seed=seed)\n",
    "\n",
    "val_data = val_datagen.flow_from_directory(data_dir,\n",
    "                                           subset=\"validation\",\n",
    "                                           target_size=(size, size),\n",
    "                                           batch_size=batch_size,\n",
    "                                           class_mode=\"categorical\",\n",
    "                                           seed=seed)"
   ]
  },
  {
   "cell_type": "code",
   "execution_count": 13,
   "id": "4a259803",
   "metadata": {
    "ExecuteTime": {
     "end_time": "2022-03-11T15:54:29.452794Z",
     "start_time": "2022-03-11T15:53:58.768868Z"
    }
   },
   "outputs": [
    {
     "name": "stdout",
     "output_type": "stream",
     "text": [
      "Found 28806 images belonging to 19 classes.\n",
      "Found 9592 images belonging to 19 classes.\n"
     ]
    }
   ],
   "source": [
    "# For Keras Models (VGG16, Inception)\n",
    "\n",
    "keras_train_datagen = ImageDataGenerator(validation_split=val_split,\n",
    "                                   preprocessing_function=None,\n",
    "                                   rotation_range=20,\n",
    "                                   width_shift_range=0.2,\n",
    "                                   height_shift_range=0.2,\n",
    "                                   brightness_range=[0.7, 1.3],\n",
    "                                   shear_range=0.2,\n",
    "                                   zoom_range=0.2,\n",
    "                                   channel_shift_range=0.7,\n",
    "                                   horizontal_flip=False,\n",
    "                                   vertical_flip=False,)\n",
    "\n",
    "keras_val_datagen = ImageDataGenerator(validation_split=val_split)\n",
    "\n",
    "\n",
    "# Load data and turn into batches\n",
    "keras_train_data = keras_train_datagen.flow_from_directory(data_dir,\n",
    "                                               subset=\"training\",\n",
    "                                               target_size=(size, size),\n",
    "                                               batch_size=batch_size,\n",
    "                                               class_mode=\"categorical\",\n",
    "                                               seed=seed)\n",
    "\n",
    "keras_val_data = keras_val_datagen.flow_from_directory(data_dir,\n",
    "                                           subset=\"validation\",\n",
    "                                           target_size=(size, size),\n",
    "                                           batch_size=batch_size,\n",
    "                                           class_mode=\"categorical\",\n",
    "                                           seed=seed)"
   ]
  },
  {
   "cell_type": "markdown",
   "id": "52dfa86b",
   "metadata": {},
   "source": [
    "# CNN"
   ]
  },
  {
   "cell_type": "code",
   "execution_count": 14,
   "id": "20feb804",
   "metadata": {
    "ExecuteTime": {
     "end_time": "2022-03-11T15:54:29.697366Z",
     "start_time": "2022-03-11T15:54:29.455522Z"
    }
   },
   "outputs": [
    {
     "data": {
      "text/plain": [
       "65"
      ]
     },
     "execution_count": 14,
     "metadata": {},
     "output_type": "execute_result"
    }
   ],
   "source": [
    "tf.keras.backend.clear_session()\n",
    "gc.collect()"
   ]
  },
  {
   "cell_type": "code",
   "execution_count": 16,
   "id": "d4ce88e8",
   "metadata": {
    "ExecuteTime": {
     "end_time": "2022-03-11T15:54:47.825394Z",
     "start_time": "2022-03-11T15:54:47.727431Z"
    }
   },
   "outputs": [
    {
     "name": "stdout",
     "output_type": "stream",
     "text": [
      "Model: \"sequential_1\"\n",
      "_________________________________________________________________\n",
      "Layer (type)                 Output Shape              Param #   \n",
      "=================================================================\n",
      "conv2d_2 (Conv2D)            (None, 64, 64, 4)         112       \n",
      "_________________________________________________________________\n",
      "batch_normalization_1 (Batch (None, 64, 64, 4)         16        \n",
      "_________________________________________________________________\n",
      "activation_1 (Activation)    (None, 64, 64, 4)         0         \n",
      "_________________________________________________________________\n",
      "max_pooling2d_2 (MaxPooling2 (None, 32, 32, 4)         0         \n",
      "_________________________________________________________________\n",
      "conv2d_3 (Conv2D)            (None, 32, 32, 4)         148       \n",
      "_________________________________________________________________\n",
      "max_pooling2d_3 (MaxPooling2 (None, 10, 10, 4)         0         \n",
      "_________________________________________________________________\n",
      "flatten_1 (Flatten)          (None, 400)               0         \n",
      "_________________________________________________________________\n",
      "dense_2 (Dense)              (None, 32)                12832     \n",
      "_________________________________________________________________\n",
      "dropout_1 (Dropout)          (None, 32)                0         \n",
      "_________________________________________________________________\n",
      "dense_3 (Dense)              (None, 19)                627       \n",
      "=================================================================\n",
      "Total params: 13,735\n",
      "Trainable params: 13,727\n",
      "Non-trainable params: 8\n",
      "_________________________________________________________________\n"
     ]
    }
   ],
   "source": [
    "base_cnn = models.Sequential()\n",
    "\n",
    "base_cnn.add(layers.Conv2D(filters=4, kernel_size=3, strides=1, padding='same',\n",
    "                 input_shape=(size, size, 3)))\n",
    "base_cnn.add(layers.BatchNormalization(axis=3))\n",
    "base_cnn.add(layers.Activation('relu'))\n",
    "base_cnn.add(layers.MaxPooling2D(pool_size=(2, 2)))\n",
    "\n",
    "base_cnn.add(layers.Conv2D(filters=4, kernel_size=3, strides=1, padding='same',\n",
    "                        activation='relu'))\n",
    "base_cnn.add(layers.MaxPooling2D(pool_size=(3, 3)))\n",
    "\n",
    "base_cnn.add(layers.Flatten())\n",
    "base_cnn.add(layers.Dense(32, activation=\"relu\"))\n",
    "base_cnn.add(layers.Dropout(0.6))\n",
    "\n",
    "base_cnn.add(layers.Dense(num_labels, activation='softmax'))\n",
    "base_cnn.summary()\n",
    "\n",
    "\n",
    "base_cnn.compile(loss='categorical_crossentropy',\n",
    "                 optimizer=optimizers.Adam(learning_rate=0.001),\n",
    "                 metrics=['accuracy'])"
   ]
  },
  {
   "cell_type": "code",
   "execution_count": 19,
   "id": "7cf35530",
   "metadata": {
    "ExecuteTime": {
     "end_time": "2022-03-11T16:23:53.221284Z",
     "start_time": "2022-03-11T15:57:11.948702Z"
    }
   },
   "outputs": [
    {
     "name": "stdout",
     "output_type": "stream",
     "text": [
      "Epoch 1/2\n",
      "899/899 [==============================] - 1484s 2s/step - loss: 2.3790 - accuracy: 0.2398 - val_loss: 1.1834 - val_accuracy: 0.7238\n",
      "\n",
      "Epoch 00001: val_accuracy improved from -inf to 0.72383, saving model to ./savefiles/testcnn.hdf5\n",
      "Epoch 2/2\n",
      "899/899 [==============================] - 117s 129ms/step - loss: 1.9681 - accuracy: 0.3579 - val_loss: 0.8943 - val_accuracy: 0.7907\n",
      "\n",
      "Epoch 00002: val_accuracy improved from 0.72383 to 0.79066, saving model to ./savefiles/testcnn.hdf5\n",
      "CPU times: user 3min 53s, sys: 20.9 s, total: 4min 14s\n",
      "Wall time: 26min 41s\n"
     ]
    }
   ],
   "source": [
    "%%time\n",
    "\n",
    "filepath_cnn = save_dir + \"/testcnn.hdf5\"\n",
    "checkpoint_cnn = ModelCheckpoint(filepath_cnn, monitor='val_accuracy',\n",
    "                             verbose=1, save_best_only=True, mode='max')\n",
    "reduce_lr_cnn = ReduceLROnPlateau(monitor='val_loss', factor=0.2,\n",
    "                                  patience=2, min_lr=0.00001, verbose=1)\n",
    "earlystop_cnn = EarlyStopping(monitor='val_accuracy', patience=5, verbose=1)\n",
    "\n",
    "epochs = 2\n",
    "\n",
    "base_cnn_history = base_cnn.fit(\n",
    "    train_data,\n",
    "    epochs=epochs,\n",
    "    steps_per_epoch=steps_per_epoch,\n",
    "    validation_steps=validation_steps,\n",
    "    validation_data=val_data,\n",
    "    callbacks=[checkpoint_cnn, reduce_lr_cnn, earlystop_cnn]\n",
    ")"
   ]
  },
  {
   "cell_type": "code",
   "execution_count": 20,
   "id": "fc76a812",
   "metadata": {
    "ExecuteTime": {
     "end_time": "2022-03-11T16:23:53.235806Z",
     "start_time": "2022-03-11T16:23:53.225988Z"
    }
   },
   "outputs": [],
   "source": [
    "def plot_results(history):\n",
    "    fig, (ax1, ax2) = plt.subplots(1, 2, figsize=(15,5))\n",
    "\n",
    "    # plot accuracy \n",
    "    acc = history.history['accuracy']\n",
    "    val_acc = history.history['val_accuracy']\n",
    "    epochs = range(1, len(acc) + 1)\n",
    "\n",
    "    ax1.plot(epochs, acc, 'ko', label='Training acc')\n",
    "    ax1.plot(epochs, val_acc, 'k', label='Validation acc')\n",
    "    ax1.set_title('Training and validation accuracy')\n",
    "    ax1.set_xlabel('Epochs')\n",
    "    ax1.legend()\n",
    "\n",
    "    # plot loss\n",
    "    loss = history.history['loss']\n",
    "    val_loss = history.history['val_loss']\n",
    "\n",
    "    ax2.plot(epochs, loss, 'ro', label='Training loss')\n",
    "    ax2.plot(epochs, val_loss, 'r', label='Validation loss')\n",
    "    ax2.set_title('Training and validation loss')\n",
    "    ax2.set_xlabel('Epochs')\n",
    "    ax2.legend()"
   ]
  },
  {
   "cell_type": "code",
   "execution_count": 21,
   "id": "7a89553d",
   "metadata": {
    "ExecuteTime": {
     "end_time": "2022-03-11T16:26:36.128054Z",
     "start_time": "2022-03-11T16:26:35.504030Z"
    }
   },
   "outputs": [
    {
     "data": {
      "image/png": "[encoded data removed]",
      "text/plain": [
       "<Figure size 1080x360 with 2 Axes>"
      ]
     },
     "metadata": {
      "needs_background": "light"
     },
     "output_type": "display_data"
    }
   ],
   "source": [
    "plot_results(base_cnn_history)"
   ]
  },
  {
   "cell_type": "code",
   "execution_count": null,
   "id": "afa8afee",
   "metadata": {},
   "outputs": [],
   "source": []
  },
  {
   "cell_type": "code",
   "execution_count": 25,
   "id": "f5bc3bad",
   "metadata": {
    "ExecuteTime": {
     "end_time": "2022-03-11T16:31:33.848629Z",
     "start_time": "2022-03-11T16:31:33.829293Z"
    }
   },
   "outputs": [
    {
     "ename": "TypeError",
     "evalue": "dump() missing 1 required positional argument: 'filename'",
     "output_type": "error",
     "traceback": [
      "\u001b[0;31m---------------------------------------------------------------------------\u001b[0m",
      "\u001b[0;31mTypeError\u001b[0m                                 Traceback (most recent call last)",
      "\u001b[0;32m/tmp/ipykernel_316/3057321467.py\u001b[0m in \u001b[0;36m<module>\u001b[0;34m\u001b[0m\n\u001b[1;32m      2\u001b[0m \u001b[0;32mimport\u001b[0m \u001b[0mjoblib\u001b[0m\u001b[0;34m\u001b[0m\u001b[0;34m\u001b[0m\u001b[0m\n\u001b[1;32m      3\u001b[0m \u001b[0;34m\u001b[0m\u001b[0m\n\u001b[0;32m----> 4\u001b[0;31m \u001b[0mjoblib\u001b[0m\u001b[0;34m.\u001b[0m\u001b[0mdump\u001b[0m\u001b[0;34m(\u001b[0m\u001b[0;34m'testcnn.pkl'\u001b[0m\u001b[0;34m)\u001b[0m\u001b[0;34m\u001b[0m\u001b[0;34m\u001b[0m\u001b[0m\n\u001b[0m",
      "\u001b[0;31mTypeError\u001b[0m: dump() missing 1 required positional argument: 'filename'"
     ]
    }
   ],
   "source": [
    "# save to pickle file\n",
    "import joblib\n",
    "\n",
    "joblib.dump('testcnn.pkl')"
   ]
  },
  {
   "cell_type": "code",
   "execution_count": null,
   "id": "489af0cd",
   "metadata": {},
   "outputs": [],
   "source": []
  },
  {
   "cell_type": "code",
   "execution_count": null,
   "id": "f7f152a3",
   "metadata": {},
   "outputs": [],
   "source": []
  },
  {
   "cell_type": "code",
   "execution_count": 3,
   "id": "0692665d",
   "metadata": {
    "ExecuteTime": {
     "end_time": "2022-03-11T15:31:22.782381Z",
     "start_time": "2022-03-11T15:31:22.776407Z"
    }
   },
   "outputs": [],
   "source": [
    "def preProcessing(img):\n",
    "    img = cv2.cvtColor(img, cv2.COLOR_BGR2GRAY)\n",
    "    img = cv2.equalizeHist(img)\n",
    "    img = img/255\n",
    "    return img"
   ]
  },
  {
   "cell_type": "code",
   "execution_count": 29,
   "id": "3adbb533",
   "metadata": {
    "ExecuteTime": {
     "end_time": "2022-03-11T15:41:12.512304Z",
     "start_time": "2022-03-11T15:41:12.507338Z"
    }
   },
   "outputs": [],
   "source": [
    "path = ('/mnt/processed/private/msds2022/cpt11/ML3/'\n",
    "        'Baybayin-Handwritten-Character-Dataset/raw/a/')\n",
    "img_a = 'a_00001_file001.jpg'\n",
    "img_ba = 'ba_00002_file001.jpg'"
   ]
  },
  {
   "cell_type": "code",
   "execution_count": 30,
   "id": "15a67063",
   "metadata": {
    "ExecuteTime": {
     "end_time": "2022-03-11T15:41:12.686658Z",
     "start_time": "2022-03-11T15:41:12.514976Z"
    }
   },
   "outputs": [
    {
     "data": {
      "text/plain": [
       "<matplotlib.image.AxesImage at 0x7fd014bfc850>"
      ]
     },
     "execution_count": 30,
     "metadata": {},
     "output_type": "execute_result"
    },
    {
     "data": {
      "image/png": "[encoded data removed]",
      "text/plain": [
       "<Figure size 432x288 with 1 Axes>"
      ]
     },
     "metadata": {
      "needs_background": "light"
     },
     "output_type": "display_data"
    }
   ],
   "source": [
    "sample_a = cv2.imread(path+img_a)\n",
    "plt.imshow(sample_a)"
   ]
  },
  {
   "cell_type": "code",
   "execution_count": null,
   "id": "9f9133b3",
   "metadata": {},
   "outputs": [],
   "source": []
  },
  {
   "cell_type": "code",
   "execution_count": null,
   "id": "0b8bb7f7",
   "metadata": {},
   "outputs": [],
   "source": [
    "import cv2\n",
    "\n",
    "width = 640\n",
    "height = 480\n",
    "\n",
    "cap = cv2.VideoCapture(1)\n",
    "\n",
    "width = 640\n",
    "height = 480\n",
    "cap.set(3, width)\n",
    "cap.set(4, height)\n",
    "\n",
    "pickle_in = open('cnn_sample.p', 'rb')\n",
    "model = pickle.load(pickle_in)"
   ]
  },
  {
   "cell_type": "code",
   "execution_count": null,
   "id": "1235536a",
   "metadata": {},
   "outputs": [],
   "source": [
    "while True:\n",
    "    success, imgOriginal = cap.read()\n",
    "    img = np.asarray(imgOriginal)\n",
    "    img = cv2.resize(img(32, 32))\n",
    "    img = preProcessing(img)\n",
    "    img = img.reshape(1,32,32,1)\n",
    "    \n",
    "    #predict\n",
    "    classIndex = model.predict_classes(img)\n",
    "    predictions = model.predict(img)\n",
    "    probVal = np.amax(predictions)\n",
    "    print(classIndex, probVal)\n",
    "    \n",
    "    threshold = 0.60\n",
    "\n",
    "    if probVal > threshold:\n",
    "        cv2.putText(imgOriginal, str(classIndex) + str(probVal),\n",
    "                    (50,50), cv2.FONT_HERSHEY_COMPLEX, 1,\n",
    "                    (0,0,255), 1)\n",
    "    \n",
    "    cv2.imshow('Original Image', imgOriginal)\n",
    "    \n",
    "    if cv2.waitKey(1) & 0xFF == ord('q'):\n",
    "        break"
   ]
  },
  {
   "cell_type": "code",
   "execution_count": 26,
   "id": "ce5351bb",
   "metadata": {
    "ExecuteTime": {
     "end_time": "2022-03-11T16:49:48.833801Z",
     "start_time": "2022-03-11T16:49:48.825040Z"
    }
   },
   "outputs": [
    {
     "data": {
      "text/plain": [
       "'/mnt/processed/private/msds2022/cpt11/ML3/Baybayin-Handwritten-Character-Dataset'"
      ]
     },
     "execution_count": 26,
     "metadata": {},
     "output_type": "execute_result"
    }
   ],
   "source": [
    "pwd"
   ]
  },
  {
   "cell_type": "code",
   "execution_count": 30,
   "id": "8a16d2bf",
   "metadata": {
    "ExecuteTime": {
     "end_time": "2022-03-11T16:52:14.609653Z",
     "start_time": "2022-03-11T16:52:14.604677Z"
    }
   },
   "outputs": [],
   "source": [
    "checkpoint_path = \"./savefiles/base_cnn_wts.hdf5\"\n"
   ]
  },
  {
   "cell_type": "code",
   "execution_count": 31,
   "id": "71a5f007",
   "metadata": {
    "ExecuteTime": {
     "end_time": "2022-03-11T16:52:16.568918Z",
     "start_time": "2022-03-11T16:52:16.369210Z"
    }
   },
   "outputs": [],
   "source": [
    "model = models.load_model('./savefiles/base_cnn.h5')\n"
   ]
  },
  {
   "cell_type": "code",
   "execution_count": 37,
   "id": "3c1fc79c",
   "metadata": {
    "ExecuteTime": {
     "end_time": "2022-03-11T16:54:48.770927Z",
     "start_time": "2022-03-11T16:54:48.762892Z"
    }
   },
   "outputs": [
    {
     "data": {
      "text/plain": [
       "'./savefiles'"
      ]
     },
     "execution_count": 37,
     "metadata": {},
     "output_type": "execute_result"
    }
   ],
   "source": [
    "checkpoint_dir = os.path.dirname(checkpoint_path)\n",
    "checkpoint_dir"
   ]
  },
  {
   "cell_type": "code",
   "execution_count": 39,
   "id": "723406da",
   "metadata": {
    "ExecuteTime": {
     "end_time": "2022-03-11T16:55:34.734984Z",
     "start_time": "2022-03-11T16:55:34.652235Z"
    }
   },
   "outputs": [],
   "source": [
    "model.load_weights(checkpoint_path)\n"
   ]
  },
  {
   "cell_type": "code",
   "execution_count": null,
   "id": "cfb5135e",
   "metadata": {
    "ExecuteTime": {
     "start_time": "2022-03-11T18:19:44.375Z"
    }
   },
   "outputs": [],
   "source": [
    "import cv2\n",
    "import numpy as np\n",
    "from PIL import Image\n",
    "from keras import models\n",
    "import os\n",
    "import tensorflow as tf\n",
    "\n",
    "checkpoint_dir = os.path.dirname(checkpoint_path)\n",
    "\n",
    "model = models.load_model('./savefiles/base_cnn.h5')\n",
    "model.load_weights(checkpoint_path)\n",
    "video = cv2.VideoCapture(1)"
   ]
  },
  {
   "cell_type": "code",
   "execution_count": 50,
   "id": "16de6503",
   "metadata": {
    "ExecuteTime": {
     "end_time": "2022-03-11T17:03:39.675656Z",
     "start_time": "2022-03-11T17:03:38.833407Z"
    }
   },
   "outputs": [
    {
     "name": "stdout",
     "output_type": "stream",
     "text": [
      "/bin/bash: - : invalid option\r\n",
      "Usage:\t/bin/bash [GNU long option] [option] ...\r\n",
      "\t/bin/bash [GNU long option] [option] script-file ...\r\n",
      "GNU long options:\r\n",
      "\t--debug\r\n",
      "\t--debugger\r\n",
      "\t--dump-po-strings\r\n",
      "\t--dump-strings\r\n",
      "\t--help\r\n",
      "\t--init-file\r\n",
      "\t--login\r\n",
      "\t--noediting\r\n",
      "\t--noprofile\r\n",
      "\t--norc\r\n",
      "\t--posix\r\n",
      "\t--pretty-print\r\n",
      "\t--rcfile\r\n",
      "\t--restricted\r\n",
      "\t--verbose\r\n",
      "\t--version\r\n",
      "Shell options:\r\n",
      "\t-ilrsD or -c command or -O shopt_option\t\t(invocation only)\r\n",
      "\t-abefhkmnptuvxBCHP or -o option\r\n"
     ]
    }
   ],
   "source": [
    "!-ltrh /dev/video*\n",
    "\n"
   ]
  },
  {
   "cell_type": "code",
   "execution_count": null,
   "id": "20905bbd",
   "metadata": {},
   "outputs": [],
   "source": []
  },
  {
   "cell_type": "code",
   "execution_count": 54,
   "id": "2144e42b",
   "metadata": {
    "ExecuteTime": {
     "end_time": "2022-03-11T17:50:11.722391Z",
     "start_time": "2022-03-11T17:50:11.688357Z"
    }
   },
   "outputs": [
    {
     "ename": "AttributeError",
     "evalue": "'NoneType' object has no attribute '__array_interface__'",
     "output_type": "error",
     "traceback": [
      "\u001b[0;31m---------------------------------------------------------------------------\u001b[0m",
      "\u001b[0;31mAttributeError\u001b[0m                            Traceback (most recent call last)",
      "\u001b[0;32m/tmp/ipykernel_316/3898647680.py\u001b[0m in \u001b[0;36m<module>\u001b[0;34m\u001b[0m\n\u001b[1;32m      3\u001b[0m \u001b[0;34m\u001b[0m\u001b[0m\n\u001b[1;32m      4\u001b[0m         \u001b[0;31m#Convert the captured frame into RGB\u001b[0m\u001b[0;34m\u001b[0m\u001b[0;34m\u001b[0m\u001b[0;34m\u001b[0m\u001b[0m\n\u001b[0;32m----> 5\u001b[0;31m         \u001b[0mim\u001b[0m \u001b[0;34m=\u001b[0m \u001b[0mImage\u001b[0m\u001b[0;34m.\u001b[0m\u001b[0mfromarray\u001b[0m\u001b[0;34m(\u001b[0m\u001b[0mframe\u001b[0m\u001b[0;34m,\u001b[0m \u001b[0;34m'RGB'\u001b[0m\u001b[0;34m)\u001b[0m\u001b[0;34m\u001b[0m\u001b[0;34m\u001b[0m\u001b[0m\n\u001b[0m\u001b[1;32m      6\u001b[0m \u001b[0;34m\u001b[0m\u001b[0m\n\u001b[1;32m      7\u001b[0m         \u001b[0;31m#Resizing into dimensions you used while training\u001b[0m\u001b[0;34m\u001b[0m\u001b[0;34m\u001b[0m\u001b[0;34m\u001b[0m\u001b[0m\n",
      "\u001b[0;32m~/.conda/envs/msds2022-ml3/lib/python3.9/site-packages/PIL/Image.py\u001b[0m in \u001b[0;36mfromarray\u001b[0;34m(obj, mode)\u001b[0m\n\u001b[1;32m   2823\u001b[0m     \u001b[0;34m.\u001b[0m\u001b[0;34m.\u001b[0m \u001b[0mversionadded\u001b[0m\u001b[0;34m:\u001b[0m\u001b[0;34m:\u001b[0m \u001b[0;36m1.1\u001b[0m\u001b[0;36m.6\u001b[0m\u001b[0;34m\u001b[0m\u001b[0;34m\u001b[0m\u001b[0m\n\u001b[1;32m   2824\u001b[0m     \"\"\"\n\u001b[0;32m-> 2825\u001b[0;31m     \u001b[0marr\u001b[0m \u001b[0;34m=\u001b[0m \u001b[0mobj\u001b[0m\u001b[0;34m.\u001b[0m\u001b[0m__array_interface__\u001b[0m\u001b[0;34m\u001b[0m\u001b[0;34m\u001b[0m\u001b[0m\n\u001b[0m\u001b[1;32m   2826\u001b[0m     \u001b[0mshape\u001b[0m \u001b[0;34m=\u001b[0m \u001b[0marr\u001b[0m\u001b[0;34m[\u001b[0m\u001b[0;34m\"shape\"\u001b[0m\u001b[0;34m]\u001b[0m\u001b[0;34m\u001b[0m\u001b[0;34m\u001b[0m\u001b[0m\n\u001b[1;32m   2827\u001b[0m     \u001b[0mndim\u001b[0m \u001b[0;34m=\u001b[0m \u001b[0mlen\u001b[0m\u001b[0;34m(\u001b[0m\u001b[0mshape\u001b[0m\u001b[0;34m)\u001b[0m\u001b[0;34m\u001b[0m\u001b[0;34m\u001b[0m\u001b[0m\n",
      "\u001b[0;31mAttributeError\u001b[0m: 'NoneType' object has no attribute '__array_interface__'"
     ]
    }
   ],
   "source": [
    "\n",
    "\n",
    "while True:\n",
    "        _, frame = video.read()\n",
    "\n",
    "        #Convert the captured frame into RGB\n",
    "        im = Image.fromarray(frame, 'RGB')\n",
    "\n",
    "        #Resizing into dimensions you used while training\n",
    "        im = im.resize((109,82))\n",
    "        img_array = np.array(im)\n",
    "\n",
    "        #Expand dimensions to match the 4D Tensor shape.\n",
    "        img_array = np.expand_dims(img_array, axis=0)\n",
    "\n",
    "        #Calling the predict function using keras\n",
    "        prediction = model.predict(img_array)#[0][0]\n",
    "        print(prediction)\n",
    "        #Customize this part to your liking...\n",
    "#         if(prediction == 1 or prediction == 0):\n",
    "#             print(\"No Human\")\n",
    "#         elif(prediction < 0.5 and prediction != 0):\n",
    "#             print(\"Female\")\n",
    "#         elif(prediction > 0.5 and prediction != 1):\n",
    "#             print(\"Male\")\n",
    "\n",
    "        cv2.imshow(\"Prediction\", frame)\n",
    "        key=cv2.waitKey(1)\n",
    "        if key == ord('q'):\n",
    "                break\n",
    "video.release()\n",
    "cv2.destroyAllWindows()"
   ]
  },
  {
   "cell_type": "code",
   "execution_count": null,
   "id": "6cb5972b",
   "metadata": {},
   "outputs": [],
   "source": []
  }
 ],
 "metadata": {
  "kernelspec": {
   "display_name": "Python [conda env:.conda-msds2022-ml3]",
   "language": "python",
   "name": "conda-env-.conda-msds2022-ml3-py"
  },
  "language_info": {
   "codemirror_mode": {
    "name": "ipython",
    "version": 3
   },
   "file_extension": ".py",
   "mimetype": "text/x-python",
   "name": "python",
   "nbconvert_exporter": "python",
   "pygments_lexer": "ipython3",
   "version": "3.9.6"
  },
  "toc": {
   "base_numbering": 1,
   "nav_menu": {},
   "number_sections": true,
   "sideBar": true,
   "skip_h1_title": false,
   "title_cell": "Table of Contents",
   "title_sidebar": "Contents",
   "toc_cell": false,
   "toc_position": {},
   "toc_section_display": true,
   "toc_window_display": false
  }
 },
 "nbformat": 4,
 "nbformat_minor": 5
}
